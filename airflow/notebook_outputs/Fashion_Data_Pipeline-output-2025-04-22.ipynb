{
 "cells": [
  {
   "cell_type": "code",
   "execution_count": 1,
   "id": "aeb4b011-d2aa-443a-a94a-0bb182363c9b",
   "metadata": {
    "execution": {
     "iopub.execute_input": "2025-04-23T00:02:53.132383Z",
     "iopub.status.busy": "2025-04-23T00:02:53.131814Z",
     "iopub.status.idle": "2025-04-23T00:02:53.137728Z",
     "shell.execute_reply": "2025-04-23T00:02:53.136642Z"
    },
    "papermill": {
     "duration": 0.012813,
     "end_time": "2025-04-23T00:02:53.139580",
     "exception": false,
     "start_time": "2025-04-23T00:02:53.126767",
     "status": "completed"
    },
    "tags": [
     "parameters"
    ]
   },
   "outputs": [],
   "source": [
    "# Parameters cell (must be tagged as \"parameters\" in the notebook)\n",
    "execution_date = None\n",
    "dag_run_id = None\n",
    "ds = None\n",
    "ds_nodash = None"
   ]
  },
  {
   "cell_type": "code",
   "execution_count": 2,
   "id": "63d34694",
   "metadata": {
    "execution": {
     "iopub.execute_input": "2025-04-23T00:02:53.146967Z",
     "iopub.status.busy": "2025-04-23T00:02:53.146545Z",
     "iopub.status.idle": "2025-04-23T00:02:53.150826Z",
     "shell.execute_reply": "2025-04-23T00:02:53.149920Z"
    },
    "papermill": {
     "duration": 0.008766,
     "end_time": "2025-04-23T00:02:53.152318",
     "exception": false,
     "start_time": "2025-04-23T00:02:53.143552",
     "status": "completed"
    },
    "tags": [
     "injected-parameters"
    ]
   },
   "outputs": [],
   "source": [
    "# Parameters\n",
    "execution_date = \"2025-04-22T00:00:00+00:00\"\n",
    "dag_run_id = \"scheduled__2025-04-22T00:00:00+00:00\"\n",
    "ds = \"2025-04-22\"\n",
    "ds_nodash = \"20250422\"\n"
   ]
  },
  {
   "cell_type": "code",
   "execution_count": 3,
   "id": "22ffd22c-78ab-42db-bbd1-cee4f9b7483f",
   "metadata": {
    "execution": {
     "iopub.execute_input": "2025-04-23T00:02:53.158622Z",
     "iopub.status.busy": "2025-04-23T00:02:53.158053Z",
     "iopub.status.idle": "2025-04-23T00:02:54.443764Z",
     "shell.execute_reply": "2025-04-23T00:02:54.442789Z"
    },
    "papermill": {
     "duration": 1.29009,
     "end_time": "2025-04-23T00:02:54.445005",
     "exception": false,
     "start_time": "2025-04-23T00:02:53.154915",
     "status": "completed"
    },
    "tags": []
   },
   "outputs": [
    {
     "name": "stdout",
     "output_type": "stream",
     "text": [
      "Requirement already satisfied: kagglehub in /home/megin_mathew/airflow_venv/lib/python3.12/site-packages (0.3.11)\r\n",
      "Requirement already satisfied: pandas in /home/megin_mathew/airflow_venv/lib/python3.12/site-packages (2.2.3)\r\n",
      "Requirement already satisfied: psycopg2-binary in /home/megin_mathew/airflow_venv/lib/python3.12/site-packages (2.9.10)\r\n",
      "Requirement already satisfied: sqlalchemy in /home/megin_mathew/airflow_venv/lib/python3.12/site-packages (1.4.54)\r\n",
      "Requirement already satisfied: packaging in /home/megin_mathew/airflow_venv/lib/python3.12/site-packages (from kagglehub) (24.2)\r\n",
      "Requirement already satisfied: pyyaml in /home/megin_mathew/airflow_venv/lib/python3.12/site-packages (from kagglehub) (6.0.2)\r\n",
      "Requirement already satisfied: requests in /home/megin_mathew/airflow_venv/lib/python3.12/site-packages (from kagglehub) (2.32.3)\r\n",
      "Requirement already satisfied: tqdm in /home/megin_mathew/airflow_venv/lib/python3.12/site-packages (from kagglehub) (4.67.1)\r\n",
      "Requirement already satisfied: numpy>=1.26.0 in /home/megin_mathew/airflow_venv/lib/python3.12/site-packages (from pandas) (2.2.5)\r\n",
      "Requirement already satisfied: python-dateutil>=2.8.2 in /home/megin_mathew/airflow_venv/lib/python3.12/site-packages (from pandas) (2.9.0.post0)\r\n",
      "Requirement already satisfied: pytz>=2020.1 in /home/megin_mathew/airflow_venv/lib/python3.12/site-packages (from pandas) (2025.2)\r\n",
      "Requirement already satisfied: tzdata>=2022.7 in /home/megin_mathew/airflow_venv/lib/python3.12/site-packages (from pandas) (2025.2)\r\n",
      "Requirement already satisfied: greenlet!=0.4.17 in /home/megin_mathew/airflow_venv/lib/python3.12/site-packages (from sqlalchemy) (3.2.0)\r\n",
      "Requirement already satisfied: six>=1.5 in /home/megin_mathew/airflow_venv/lib/python3.12/site-packages (from python-dateutil>=2.8.2->pandas) (1.17.0)\r\n",
      "Requirement already satisfied: charset-normalizer<4,>=2 in /home/megin_mathew/airflow_venv/lib/python3.12/site-packages (from requests->kagglehub) (3.4.1)\r\n",
      "Requirement already satisfied: idna<4,>=2.5 in /home/megin_mathew/airflow_venv/lib/python3.12/site-packages (from requests->kagglehub) (3.10)\r\n",
      "Requirement already satisfied: urllib3<3,>=1.21.1 in /home/megin_mathew/airflow_venv/lib/python3.12/site-packages (from requests->kagglehub) (2.4.0)\r\n",
      "Requirement already satisfied: certifi>=2017.4.17 in /home/megin_mathew/airflow_venv/lib/python3.12/site-packages (from requests->kagglehub) (2025.1.31)\r\n"
     ]
    }
   ],
   "source": [
    "!pip install kagglehub pandas psycopg2-binary sqlalchemy"
   ]
  },
  {
   "cell_type": "code",
   "execution_count": 4,
   "id": "aebe01f6-0b27-4a7c-8339-4c84690278a3",
   "metadata": {
    "execution": {
     "iopub.execute_input": "2025-04-23T00:02:54.450503Z",
     "iopub.status.busy": "2025-04-23T00:02:54.450124Z",
     "iopub.status.idle": "2025-04-23T00:02:54.544917Z",
     "shell.execute_reply": "2025-04-23T00:02:54.543815Z"
    },
    "papermill": {
     "duration": 0.098307,
     "end_time": "2025-04-23T00:02:54.545961",
     "exception": false,
     "start_time": "2025-04-23T00:02:54.447654",
     "status": "completed"
    },
    "tags": []
   },
   "outputs": [
    {
     "name": "stdout",
     "output_type": "stream",
     "text": [
      "['KaggleDatasetAdapter', '__builtins__', '__cached__', '__doc__', '__file__', '__loader__', '__name__', '__package__', '__path__', '__spec__', '__version__', 'auth', 'cache', 'clients', 'colab_cache_resolver', 'competition', 'competition_download', 'config', 'dataset_download', 'dataset_load', 'dataset_upload', 'datasets', 'datasets_enums', 'datasets_helpers', 'env', 'exceptions', 'gcs_upload', 'get_package_asset_path', 'handle', 'http_resolver', 'integrity', 'kaggle_cache_resolver', 'kagglehub', 'load_dataset', 'logger', 'login', 'model_download', 'model_upload', 'models', 'models_helpers', 'notebook_output_download', 'notebooks', 'package_import', 'packages', 'registry', 'resolver', 'signing', 'tracker', 'utility_script_install', 'utility_scripts', 'whoami']\n"
     ]
    },
    {
     "name": "stderr",
     "output_type": "stream",
     "text": [
      "/home/megin_mathew/airflow_venv/lib/python3.12/site-packages/tqdm/auto.py:21: TqdmWarning: IProgress not found. Please update jupyter and ipywidgets. See https://ipywidgets.readthedocs.io/en/stable/user_install.html\n",
      "  from .autonotebook import tqdm as notebook_tqdm\n"
     ]
    }
   ],
   "source": [
    "import kagglehub\n",
    "print(dir(kagglehub))"
   ]
  },
  {
   "cell_type": "code",
   "execution_count": 5,
   "id": "9dc15916-c74b-4cd6-9e1f-79a82761becb",
   "metadata": {
    "execution": {
     "iopub.execute_input": "2025-04-23T00:02:54.551540Z",
     "iopub.status.busy": "2025-04-23T00:02:54.551292Z",
     "iopub.status.idle": "2025-04-23T00:02:55.744148Z",
     "shell.execute_reply": "2025-04-23T00:02:55.742636Z"
    },
    "papermill": {
     "duration": 1.19736,
     "end_time": "2025-04-23T00:02:55.745968",
     "exception": false,
     "start_time": "2025-04-23T00:02:54.548608",
     "status": "completed"
    },
    "tags": []
   },
   "outputs": [
    {
     "name": "stdout",
     "output_type": "stream",
     "text": [
      "Requirement already satisfied: kaggle in /home/megin_mathew/airflow_venv/lib/python3.12/site-packages (1.7.4.2)\r\n",
      "Requirement already satisfied: bleach in /home/megin_mathew/airflow_venv/lib/python3.12/site-packages (from kaggle) (6.2.0)\r\n",
      "Requirement already satisfied: certifi>=14.05.14 in /home/megin_mathew/airflow_venv/lib/python3.12/site-packages (from kaggle) (2025.1.31)\r\n",
      "Requirement already satisfied: charset-normalizer in /home/megin_mathew/airflow_venv/lib/python3.12/site-packages (from kaggle) (3.4.1)\r\n",
      "Requirement already satisfied: idna in /home/megin_mathew/airflow_venv/lib/python3.12/site-packages (from kaggle) (3.10)\r\n",
      "Requirement already satisfied: protobuf in /home/megin_mathew/airflow_venv/lib/python3.12/site-packages (from kaggle) (5.29.4)\r\n",
      "Requirement already satisfied: python-dateutil>=2.5.3 in /home/megin_mathew/airflow_venv/lib/python3.12/site-packages (from kaggle) (2.9.0.post0)\r\n",
      "Requirement already satisfied: python-slugify in /home/megin_mathew/airflow_venv/lib/python3.12/site-packages (from kaggle) (8.0.4)\r\n",
      "Requirement already satisfied: requests in /home/megin_mathew/airflow_venv/lib/python3.12/site-packages (from kaggle) (2.32.3)\r\n",
      "Requirement already satisfied: setuptools>=21.0.0 in /home/megin_mathew/airflow_venv/lib/python3.12/site-packages (from kaggle) (79.0.0)\r\n",
      "Requirement already satisfied: six>=1.10 in /home/megin_mathew/airflow_venv/lib/python3.12/site-packages (from kaggle) (1.17.0)\r\n",
      "Requirement already satisfied: text-unidecode in /home/megin_mathew/airflow_venv/lib/python3.12/site-packages (from kaggle) (1.3)\r\n",
      "Requirement already satisfied: tqdm in /home/megin_mathew/airflow_venv/lib/python3.12/site-packages (from kaggle) (4.67.1)\r\n",
      "Requirement already satisfied: urllib3>=1.15.1 in /home/megin_mathew/airflow_venv/lib/python3.12/site-packages (from kaggle) (2.4.0)\r\n",
      "Requirement already satisfied: webencodings in /home/megin_mathew/airflow_venv/lib/python3.12/site-packages (from kaggle) (0.5.1)\r\n"
     ]
    },
    {
     "name": "stdout",
     "output_type": "stream",
     "text": [
      "Note: you may need to restart the kernel to use updated packages.\n"
     ]
    }
   ],
   "source": [
    "pip install kaggle"
   ]
  },
  {
   "cell_type": "code",
   "execution_count": 6,
   "id": "aaa93ad1-1263-4f1f-bdee-aa3b4116c65c",
   "metadata": {
    "execution": {
     "iopub.execute_input": "2025-04-23T00:02:55.753448Z",
     "iopub.status.busy": "2025-04-23T00:02:55.752416Z",
     "iopub.status.idle": "2025-04-23T00:02:55.865405Z",
     "shell.execute_reply": "2025-04-23T00:02:55.864496Z"
    },
    "papermill": {
     "duration": 0.117588,
     "end_time": "2025-04-23T00:02:55.866614",
     "exception": false,
     "start_time": "2025-04-23T00:02:55.749026",
     "status": "completed"
    },
    "tags": []
   },
   "outputs": [
    {
     "name": "stdout",
     "output_type": "stream",
     "text": [
      "Warning: Your Kaggle API key is readable by other users on this system! To fix this, you can run 'chmod 600 /home/megin_mathew/.config/kaggle/kaggle.json'\n",
      "Kaggle module is successfully installed!\n"
     ]
    }
   ],
   "source": [
    "import kaggle\n",
    "print(\"Kaggle module is successfully installed!\")"
   ]
  },
  {
   "cell_type": "code",
   "execution_count": 7,
   "id": "cdd709ed-dd9d-4679-a689-5b4c22affbe7",
   "metadata": {
    "execution": {
     "iopub.execute_input": "2025-04-23T00:02:55.873611Z",
     "iopub.status.busy": "2025-04-23T00:02:55.872984Z",
     "iopub.status.idle": "2025-04-23T00:02:55.878941Z",
     "shell.execute_reply": "2025-04-23T00:02:55.877821Z"
    },
    "papermill": {
     "duration": 0.01079,
     "end_time": "2025-04-23T00:02:55.880509",
     "exception": false,
     "start_time": "2025-04-23T00:02:55.869719",
     "status": "completed"
    },
    "tags": []
   },
   "outputs": [
    {
     "name": "stdout",
     "output_type": "stream",
     "text": [
      "Warning: Your Kaggle API key is readable by other users on this system! To fix this, you can run 'chmod 600 /home/megin_mathew/.config/kaggle/kaggle.json'\n",
      "Kaggle API authentication successful!\n"
     ]
    }
   ],
   "source": [
    "kaggle.api.authenticate()\n",
    "print(\"Kaggle API authentication successful!\")"
   ]
  },
  {
   "cell_type": "code",
   "execution_count": 8,
   "id": "4db10617-1625-4d69-af65-18e7676ad3db",
   "metadata": {
    "execution": {
     "iopub.execute_input": "2025-04-23T00:02:55.889710Z",
     "iopub.status.busy": "2025-04-23T00:02:55.889220Z",
     "iopub.status.idle": "2025-04-23T00:03:57.000528Z",
     "shell.execute_reply": "2025-04-23T00:03:56.999209Z"
    },
    "papermill": {
     "duration": 61.121139,
     "end_time": "2025-04-23T00:03:57.005938",
     "exception": false,
     "start_time": "2025-04-23T00:02:55.884799",
     "status": "completed"
    },
    "tags": []
   },
   "outputs": [
    {
     "name": "stdout",
     "output_type": "stream",
     "text": [
      "Downloaded: transactions.csv → Stored in: /home/megin_mathew/fashion_dataset\n"
     ]
    },
    {
     "name": "stderr",
     "output_type": "stream",
     "text": [
      "/home/megin_mathew/airflow_venv/lib/python3.12/site-packages/kagglehub/pandas_datasets.py:91: DtypeWarning: Columns (3) have mixed types. Specify dtype option on import or set low_memory=False.\n",
      "  result = read_function(\n"
     ]
    },
    {
     "name": "stdout",
     "output_type": "stream",
     "text": [
      "Downloaded: customers.csv → Stored in: /home/megin_mathew/fashion_dataset\n"
     ]
    },
    {
     "name": "stdout",
     "output_type": "stream",
     "text": [
      "Downloaded: discounts.csv → Stored in: /home/megin_mathew/fashion_dataset\n"
     ]
    },
    {
     "name": "stdout",
     "output_type": "stream",
     "text": [
      "Downloaded: employees.csv → Stored in: /home/megin_mathew/fashion_dataset\n"
     ]
    },
    {
     "name": "stdout",
     "output_type": "stream",
     "text": [
      "Downloaded: products.csv → Stored in: /home/megin_mathew/fashion_dataset\n"
     ]
    },
    {
     "name": "stdout",
     "output_type": "stream",
     "text": [
      "Downloaded: stores.csv → Stored in: /home/megin_mathew/fashion_dataset\n"
     ]
    }
   ],
   "source": [
    "import kagglehub\n",
    "from kagglehub import KaggleDatasetAdapter\n",
    "import os\n",
    "import pandas as pd\n",
    "\n",
    "\n",
    "# Define dataset folder (custom cache location)\n",
    "dataset_path = \"/home/megin_mathew/fashion_dataset\"\n",
    "\n",
    "# Set KaggleHub cache override\n",
    "os.environ[\"KAGGLEHUB_CACHE\"] = dataset_path\n",
    "\n",
    "# File names in the dataset\n",
    "file_names = [\n",
    "    \"transactions.csv\", \"customers.csv\", \"discounts.csv\",\n",
    "    \"employees.csv\", \"products.csv\", \"stores.csv\"\n",
    "]\n",
    "\n",
    "# Ensure cache directory exists\n",
    "os.makedirs(dataset_path, exist_ok=True)\n",
    "\n",
    "# Download each file individually\n",
    "for file_name in file_names:\n",
    "    df = kagglehub.dataset_load(\n",
    "        KaggleDatasetAdapter.PANDAS,\n",
    "        \"ricgomes/global-fashion-retail-stores-dataset\",\n",
    "        file_name\n",
    "    )\n",
    "    \n",
    "    # Save to custom cache location\n",
    "    df.to_csv(os.path.join(dataset_path, file_name), index=False)\n",
    "    print(f\"Downloaded: {file_name} → Stored in: {dataset_path}\")\n"
   ]
  },
  {
   "cell_type": "code",
   "execution_count": 9,
   "id": "3be147cd-fa04-4969-9abf-c7d5147a5996",
   "metadata": {
    "execution": {
     "iopub.execute_input": "2025-04-23T00:03:57.021029Z",
     "iopub.status.busy": "2025-04-23T00:03:57.018373Z",
     "iopub.status.idle": "2025-04-23T00:03:57.029413Z",
     "shell.execute_reply": "2025-04-23T00:03:57.028729Z"
    },
    "papermill": {
     "duration": 0.017747,
     "end_time": "2025-04-23T00:03:57.030399",
     "exception": false,
     "start_time": "2025-04-23T00:03:57.012652",
     "status": "completed"
    },
    "tags": []
   },
   "outputs": [],
   "source": [
    "import os\n",
    "\n",
    "# Set custom cache location\n",
    "os.environ[\"KAGGLEHUB_CACHE\"] = \"/home/megin_mathew/fashion_dataset\""
   ]
  },
  {
   "cell_type": "markdown",
   "id": "9f2d6b94-15e3-4213-a744-4ad1eb5a9de1",
   "metadata": {
    "papermill": {
     "duration": 0.002558,
     "end_time": "2025-04-23T00:03:57.035848",
     "exception": false,
     "start_time": "2025-04-23T00:03:57.033290",
     "status": "completed"
    },
    "tags": []
   },
   "source": [
    "Optimized And Cleansed and uses Hadoop along with Spark"
   ]
  },
  {
   "cell_type": "code",
   "execution_count": 10,
   "id": "73d3ff1f-8a99-47c8-b7a2-ae4eac67cc1a",
   "metadata": {
    "execution": {
     "iopub.execute_input": "2025-04-23T00:03:57.043701Z",
     "iopub.status.busy": "2025-04-23T00:03:57.043435Z",
     "iopub.status.idle": "2025-04-23T00:04:42.418062Z",
     "shell.execute_reply": "2025-04-23T00:04:42.417498Z"
    },
    "papermill": {
     "duration": 45.380189,
     "end_time": "2025-04-23T00:04:42.419206",
     "exception": false,
     "start_time": "2025-04-23T00:03:57.039017",
     "status": "completed"
    },
    "tags": []
   },
   "outputs": [
    {
     "name": "stderr",
     "output_type": "stream",
     "text": [
      "25/04/22 20:03:58 WARN Utils: Your hostname, BOOK-KTS1KMKSNJ resolves to a loopback address: 127.0.1.1; using 10.255.255.254 instead (on interface lo)\n",
      "25/04/22 20:03:58 WARN Utils: Set SPARK_LOCAL_IP if you need to bind to another address\n"
     ]
    },
    {
     "name": "stderr",
     "output_type": "stream",
     "text": [
      "Setting default log level to \"WARN\".\n",
      "To adjust logging level use sc.setLogLevel(newLevel). For SparkR, use setLogLevel(newLevel).\n",
      "25/04/22 20:03:59 WARN NativeCodeLoader: Unable to load native-hadoop library for your platform... using builtin-java classes where applicable\n"
     ]
    },
    {
     "name": "stderr",
     "output_type": "stream",
     "text": [
      "25/04/22 20:03:59 WARN SparkConf: Note that spark.local.dir will be overridden by the value set by the cluster manager (via SPARK_LOCAL_DIRS in mesos/standalone/kubernetes and LOCAL_DIRS in YARN).\n"
     ]
    },
    {
     "name": "stderr",
     "output_type": "stream",
     "text": [
      "2025-04-22 20:04:00,512 - INFO - Starting data load process...\n"
     ]
    },
    {
     "name": "stderr",
     "output_type": "stream",
     "text": [
      "2025-04-22 20:04:00,642 - INFO - Processing stores.csv...\n"
     ]
    },
    {
     "name": "stderr",
     "output_type": "stream",
     "text": [
      "2025-04-22 20:04:04,633 - INFO - Processed DataFrame schema: root\n",
      " |-- store_id: integer (nullable = true)\n",
      " |-- country: string (nullable = true)\n",
      " |-- city: string (nullable = true)\n",
      " |-- store_name: string (nullable = true)\n",
      " |-- number_of_employees: integer (nullable = true)\n",
      " |-- zip_code: string (nullable = true)\n",
      " |-- latitude: float (nullable = true)\n",
      " |-- longitude: float (nullable = true)\n",
      "\n"
     ]
    },
    {
     "name": "stderr",
     "output_type": "stream",
     "text": [
      "2025-04-22 20:04:05,056 - INFO - Processing 35 records for table store\n"
     ]
    },
    {
     "name": "stderr",
     "output_type": "stream",
     "text": [
      "2025-04-22 20:04:05,058 - INFO - Processing small store table with direct conversion\n"
     ]
    },
    {
     "name": "stderr",
     "output_type": "stream",
     "text": [
      "2025-04-22 20:04:05,490 - INFO - Starting to upsert 35 records in batches of 1000\n"
     ]
    },
    {
     "name": "stderr",
     "output_type": "stream",
     "text": [
      "2025-04-22 20:04:05,507 - INFO - Insert failed for batch 1, switching to upsert mode\n"
     ]
    },
    {
     "name": "stderr",
     "output_type": "stream",
     "text": [
      "2025-04-22 20:04:05,559 - INFO - Successfully upserted batch 1/1\n"
     ]
    },
    {
     "name": "stderr",
     "output_type": "stream",
     "text": [
      "2025-04-22 20:04:05,561 - INFO - Successfully processed 35 records to store\n"
     ]
    },
    {
     "name": "stderr",
     "output_type": "stream",
     "text": [
      "2025-04-22 20:04:05,561 - INFO - Completed stores.csv in 0:00:04.917573\n"
     ]
    },
    {
     "name": "stderr",
     "output_type": "stream",
     "text": [
      "2025-04-22 20:04:05,562 - INFO - Processing employees.csv...\n"
     ]
    },
    {
     "name": "stderr",
     "output_type": "stream",
     "text": [
      "2025-04-22 20:04:05,860 - INFO - Processed DataFrame schema: root\n",
      " |-- employee_id: integer (nullable = true)\n",
      " |-- store_id: integer (nullable = true)\n",
      " |-- name: string (nullable = true)\n",
      " |-- position: string (nullable = true)\n",
      "\n"
     ]
    },
    {
     "name": "stderr",
     "output_type": "stream",
     "text": [
      "2025-04-22 20:04:06,002 - INFO - Processing 404 records for table employee\n"
     ]
    },
    {
     "name": "stderr",
     "output_type": "stream",
     "text": [
      "2025-04-22 20:04:06,003 - INFO - Processing small employee table with direct conversion\n"
     ]
    },
    {
     "name": "stderr",
     "output_type": "stream",
     "text": [
      "2025-04-22 20:04:06,188 - INFO - Starting to upsert 404 records in batches of 1000\n"
     ]
    },
    {
     "name": "stderr",
     "output_type": "stream",
     "text": [
      "2025-04-22 20:04:06,199 - INFO - Insert failed for batch 1, switching to upsert mode\n"
     ]
    },
    {
     "name": "stderr",
     "output_type": "stream",
     "text": [
      "2025-04-22 20:04:06,522 - INFO - Successfully upserted batch 1/1\n"
     ]
    },
    {
     "name": "stderr",
     "output_type": "stream",
     "text": [
      "2025-04-22 20:04:06,522 - INFO - Successfully processed 404 records to employee\n"
     ]
    },
    {
     "name": "stderr",
     "output_type": "stream",
     "text": [
      "2025-04-22 20:04:06,524 - INFO - Completed employees.csv in 0:00:00.961168\n"
     ]
    },
    {
     "name": "stderr",
     "output_type": "stream",
     "text": [
      "2025-04-22 20:04:06,525 - INFO - Processing products.csv...\n"
     ]
    },
    {
     "name": "stderr",
     "output_type": "stream",
     "text": [
      "2025-04-22 20:04:06,990 - INFO - Processed DataFrame schema: root\n",
      " |-- product_id: integer (nullable = true)\n",
      " |-- category: string (nullable = true)\n",
      " |-- sub_category: string (nullable = true)\n",
      " |-- description_pt: string (nullable = true)\n",
      " |-- description_de: string (nullable = true)\n",
      " |-- description_fr: string (nullable = true)\n",
      " |-- description_es: string (nullable = true)\n",
      " |-- description_en: string (nullable = true)\n",
      " |-- description_zh: string (nullable = true)\n",
      " |-- color: string (nullable = true)\n",
      " |-- sizes: string (nullable = true)\n",
      " |-- production_cost: double (nullable = true)\n",
      "\n"
     ]
    },
    {
     "name": "stderr",
     "output_type": "stream",
     "text": [
      "2025-04-22 20:04:07,169 - INFO - Processing 17940 records for table product\n"
     ]
    },
    {
     "name": "stderr",
     "output_type": "stream",
     "text": [
      "2025-04-22 20:04:07,709 - INFO - Starting to upsert 10000 records in batches of 1000\n"
     ]
    },
    {
     "name": "stderr",
     "output_type": "stream",
     "text": [
      "2025-04-22 20:04:07,747 - INFO - Insert failed for batch 1, switching to upsert mode\n"
     ]
    },
    {
     "name": "stderr",
     "output_type": "stream",
     "text": [
      "2025-04-22 20:04:08,465 - INFO - Successfully upserted batch 1/10\n"
     ]
    },
    {
     "name": "stderr",
     "output_type": "stream",
     "text": [
      "2025-04-22 20:04:08,495 - INFO - Insert failed for batch 2, switching to upsert mode\n"
     ]
    },
    {
     "name": "stderr",
     "output_type": "stream",
     "text": [
      "2025-04-22 20:04:09,249 - INFO - Successfully upserted batch 2/10\n"
     ]
    },
    {
     "name": "stderr",
     "output_type": "stream",
     "text": [
      "2025-04-22 20:04:09,285 - INFO - Insert failed for batch 3, switching to upsert mode\n"
     ]
    },
    {
     "name": "stderr",
     "output_type": "stream",
     "text": [
      "2025-04-22 20:04:10,067 - INFO - Successfully upserted batch 3/10\n"
     ]
    },
    {
     "name": "stderr",
     "output_type": "stream",
     "text": [
      "2025-04-22 20:04:10,173 - INFO - Insert failed for batch 4, switching to upsert mode\n"
     ]
    },
    {
     "name": "stderr",
     "output_type": "stream",
     "text": [
      "2025-04-22 20:04:10,968 - INFO - Successfully upserted batch 4/10\n"
     ]
    },
    {
     "name": "stderr",
     "output_type": "stream",
     "text": [
      "2025-04-22 20:04:11,002 - INFO - Insert failed for batch 5, switching to upsert mode\n"
     ]
    },
    {
     "name": "stderr",
     "output_type": "stream",
     "text": [
      "2025-04-22 20:04:11,901 - INFO - Successfully upserted batch 5/10\n"
     ]
    },
    {
     "name": "stderr",
     "output_type": "stream",
     "text": [
      "2025-04-22 20:04:11,943 - INFO - Insert failed for batch 6, switching to upsert mode\n"
     ]
    },
    {
     "name": "stderr",
     "output_type": "stream",
     "text": [
      "2025-04-22 20:04:12,830 - INFO - Successfully upserted batch 6/10\n"
     ]
    },
    {
     "name": "stderr",
     "output_type": "stream",
     "text": [
      "2025-04-22 20:04:12,868 - INFO - Insert failed for batch 7, switching to upsert mode\n"
     ]
    },
    {
     "name": "stderr",
     "output_type": "stream",
     "text": [
      "2025-04-22 20:04:13,768 - INFO - Successfully upserted batch 7/10\n"
     ]
    },
    {
     "name": "stderr",
     "output_type": "stream",
     "text": [
      "2025-04-22 20:04:13,800 - INFO - Insert failed for batch 8, switching to upsert mode\n"
     ]
    },
    {
     "name": "stderr",
     "output_type": "stream",
     "text": [
      "2025-04-22 20:04:14,524 - INFO - Successfully upserted batch 8/10\n"
     ]
    },
    {
     "name": "stderr",
     "output_type": "stream",
     "text": [
      "2025-04-22 20:04:14,555 - INFO - Insert failed for batch 9, switching to upsert mode\n"
     ]
    },
    {
     "name": "stderr",
     "output_type": "stream",
     "text": [
      "2025-04-22 20:04:15,220 - INFO - Successfully upserted batch 9/10\n"
     ]
    },
    {
     "name": "stderr",
     "output_type": "stream",
     "text": [
      "2025-04-22 20:04:15,253 - INFO - Insert failed for batch 10, switching to upsert mode\n"
     ]
    },
    {
     "name": "stderr",
     "output_type": "stream",
     "text": [
      "2025-04-22 20:04:15,903 - INFO - Successfully upserted batch 10/10\n"
     ]
    },
    {
     "name": "stderr",
     "output_type": "stream",
     "text": [
      "2025-04-22 20:04:15,904 - INFO - Processed 10000/17940 records\n"
     ]
    },
    {
     "name": "stderr",
     "output_type": "stream",
     "text": [
      "2025-04-22 20:04:15,932 - INFO - Starting to upsert 0 records in batches of 1000\n"
     ]
    },
    {
     "name": "stderr",
     "output_type": "stream",
     "text": [
      "2025-04-22 20:04:15,933 - INFO - Processed 17940/17940 records\n"
     ]
    },
    {
     "name": "stderr",
     "output_type": "stream",
     "text": [
      "2025-04-22 20:04:15,934 - INFO - Completed products.csv in 0:00:09.407611\n"
     ]
    },
    {
     "name": "stderr",
     "output_type": "stream",
     "text": [
      "2025-04-22 20:04:15,934 - INFO - Processing discounts.csv...\n"
     ]
    },
    {
     "name": "stderr",
     "output_type": "stream",
     "text": [
      "2025-04-22 20:04:16,111 - INFO - Processed DataFrame schema: root\n",
      " |-- start_date: date (nullable = true)\n",
      " |-- end_date: date (nullable = true)\n",
      " |-- discount_rate: double (nullable = true)\n",
      " |-- description: string (nullable = true)\n",
      " |-- category: string (nullable = true)\n",
      " |-- sub_category: string (nullable = true)\n",
      "\n"
     ]
    },
    {
     "name": "stderr",
     "output_type": "stream",
     "text": [
      "2025-04-22 20:04:16,211 - INFO - Processing 181 records for table discount\n"
     ]
    },
    {
     "name": "stderr",
     "output_type": "stream",
     "text": [
      "2025-04-22 20:04:16,213 - INFO - Processing small discount table with direct conversion\n"
     ]
    },
    {
     "name": "stderr",
     "output_type": "stream",
     "text": [
      "2025-04-22 20:04:16,420 - INFO - Starting to upsert 181 records in batches of 1000\n"
     ]
    },
    {
     "name": "stderr",
     "output_type": "stream",
     "text": [
      "2025-04-22 20:04:16,448 - INFO - Successfully inserted batch 1/1\n"
     ]
    },
    {
     "name": "stderr",
     "output_type": "stream",
     "text": [
      "2025-04-22 20:04:16,449 - INFO - Successfully processed 181 records to discount\n"
     ]
    },
    {
     "name": "stderr",
     "output_type": "stream",
     "text": [
      "2025-04-22 20:04:16,449 - INFO - Completed discounts.csv in 0:00:00.514696\n"
     ]
    },
    {
     "name": "stderr",
     "output_type": "stream",
     "text": [
      "2025-04-22 20:04:16,450 - INFO - Processing customers.csv...\n"
     ]
    },
    {
     "name": "stderr",
     "output_type": "stream",
     "text": [
      "\r",
      "[Stage 25:====================================>                   (30 + 4) / 46]\r",
      "\r",
      "                                                                                \r"
     ]
    },
    {
     "name": "stderr",
     "output_type": "stream",
     "text": [
      "2025-04-22 20:04:17,372 - INFO - Processed DataFrame schema: root\n",
      " |-- customer_id: integer (nullable = true)\n",
      " |-- name: string (nullable = true)\n",
      " |-- email: string (nullable = true)\n",
      " |-- join_date: date (nullable = true)\n",
      " |-- telephone: string (nullable = true)\n",
      " |-- city: string (nullable = true)\n",
      " |-- country: string (nullable = true)\n",
      " |-- gender: string (nullable = true)\n",
      " |-- date_of_birth: date (nullable = true)\n",
      " |-- job_title: string (nullable = true)\n",
      "\n"
     ]
    },
    {
     "name": "stderr",
     "output_type": "stream",
     "text": [
      "2025-04-22 20:04:17,908 - INFO - Processing 1643306 records for table customer\n"
     ]
    },
    {
     "name": "stderr",
     "output_type": "stream",
     "text": [
      "2025-04-22 20:04:18,186 - INFO - Starting to upsert 10000 records in batches of 1000\n"
     ]
    },
    {
     "name": "stderr",
     "output_type": "stream",
     "text": [
      "2025-04-22 20:04:18,195 - INFO - Insert failed for batch 1, switching to upsert mode\n"
     ]
    },
    {
     "name": "stderr",
     "output_type": "stream",
     "text": [
      "2025-04-22 20:04:18,919 - INFO - Successfully upserted batch 1/10\n"
     ]
    },
    {
     "name": "stderr",
     "output_type": "stream",
     "text": [
      "2025-04-22 20:04:18,921 - INFO - Insert failed for batch 2, switching to upsert mode\n"
     ]
    },
    {
     "name": "stderr",
     "output_type": "stream",
     "text": [
      "2025-04-22 20:04:19,614 - INFO - Successfully upserted batch 2/10\n"
     ]
    },
    {
     "name": "stderr",
     "output_type": "stream",
     "text": [
      "2025-04-22 20:04:19,616 - INFO - Insert failed for batch 3, switching to upsert mode\n"
     ]
    },
    {
     "name": "stderr",
     "output_type": "stream",
     "text": [
      "2025-04-22 20:04:20,335 - INFO - Successfully upserted batch 3/10\n"
     ]
    },
    {
     "name": "stderr",
     "output_type": "stream",
     "text": [
      "2025-04-22 20:04:20,337 - INFO - Insert failed for batch 4, switching to upsert mode\n"
     ]
    },
    {
     "name": "stderr",
     "output_type": "stream",
     "text": [
      "2025-04-22 20:04:21,073 - INFO - Successfully upserted batch 4/10\n"
     ]
    },
    {
     "name": "stderr",
     "output_type": "stream",
     "text": [
      "2025-04-22 20:04:21,075 - INFO - Insert failed for batch 5, switching to upsert mode\n"
     ]
    },
    {
     "name": "stderr",
     "output_type": "stream",
     "text": [
      "2025-04-22 20:04:21,770 - INFO - Successfully upserted batch 5/10\n"
     ]
    },
    {
     "name": "stderr",
     "output_type": "stream",
     "text": [
      "2025-04-22 20:04:21,772 - INFO - Insert failed for batch 6, switching to upsert mode\n"
     ]
    },
    {
     "name": "stderr",
     "output_type": "stream",
     "text": [
      "2025-04-22 20:04:22,555 - INFO - Successfully upserted batch 6/10\n"
     ]
    },
    {
     "name": "stderr",
     "output_type": "stream",
     "text": [
      "2025-04-22 20:04:22,557 - INFO - Insert failed for batch 7, switching to upsert mode\n"
     ]
    },
    {
     "name": "stderr",
     "output_type": "stream",
     "text": [
      "2025-04-22 20:04:23,241 - INFO - Successfully upserted batch 7/10\n"
     ]
    },
    {
     "name": "stderr",
     "output_type": "stream",
     "text": [
      "2025-04-22 20:04:23,244 - INFO - Insert failed for batch 8, switching to upsert mode\n"
     ]
    },
    {
     "name": "stderr",
     "output_type": "stream",
     "text": [
      "2025-04-22 20:04:23,967 - INFO - Successfully upserted batch 8/10\n"
     ]
    },
    {
     "name": "stderr",
     "output_type": "stream",
     "text": [
      "2025-04-22 20:04:23,969 - INFO - Insert failed for batch 9, switching to upsert mode\n"
     ]
    },
    {
     "name": "stderr",
     "output_type": "stream",
     "text": [
      "2025-04-22 20:04:24,769 - INFO - Successfully upserted batch 9/10\n"
     ]
    },
    {
     "name": "stderr",
     "output_type": "stream",
     "text": [
      "2025-04-22 20:04:24,772 - INFO - Insert failed for batch 10, switching to upsert mode\n"
     ]
    },
    {
     "name": "stderr",
     "output_type": "stream",
     "text": [
      "2025-04-22 20:04:25,615 - INFO - Successfully upserted batch 10/10\n"
     ]
    },
    {
     "name": "stderr",
     "output_type": "stream",
     "text": [
      "2025-04-22 20:04:25,615 - INFO - Processed 10000/1643306 records\n"
     ]
    },
    {
     "name": "stderr",
     "output_type": "stream",
     "text": [
      "2025-04-22 20:04:25,638 - INFO - Starting to upsert 0 records in batches of 1000\n"
     ]
    },
    {
     "name": "stderr",
     "output_type": "stream",
     "text": [
      "2025-04-22 20:04:25,639 - INFO - Processed 20000/1643306 records\n"
     ]
    },
    {
     "name": "stderr",
     "output_type": "stream",
     "text": [
      "2025-04-22 20:04:25,660 - INFO - Starting to upsert 0 records in batches of 1000\n"
     ]
    },
    {
     "name": "stderr",
     "output_type": "stream",
     "text": [
      "2025-04-22 20:04:25,662 - INFO - Processed 30000/1643306 records\n"
     ]
    },
    {
     "name": "stderr",
     "output_type": "stream",
     "text": [
      "2025-04-22 20:04:25,688 - INFO - Starting to upsert 0 records in batches of 1000\n"
     ]
    },
    {
     "name": "stderr",
     "output_type": "stream",
     "text": [
      "2025-04-22 20:04:25,688 - INFO - Processed 40000/1643306 records\n"
     ]
    },
    {
     "name": "stderr",
     "output_type": "stream",
     "text": [
      "2025-04-22 20:04:25,707 - INFO - Starting to upsert 0 records in batches of 1000\n"
     ]
    },
    {
     "name": "stderr",
     "output_type": "stream",
     "text": [
      "2025-04-22 20:04:25,708 - INFO - Processed 50000/1643306 records\n"
     ]
    },
    {
     "name": "stderr",
     "output_type": "stream",
     "text": [
      "2025-04-22 20:04:25,726 - INFO - Starting to upsert 0 records in batches of 1000\n"
     ]
    },
    {
     "name": "stderr",
     "output_type": "stream",
     "text": [
      "2025-04-22 20:04:25,727 - INFO - Processed 60000/1643306 records\n"
     ]
    },
    {
     "name": "stderr",
     "output_type": "stream",
     "text": [
      "2025-04-22 20:04:25,749 - INFO - Starting to upsert 0 records in batches of 1000\n"
     ]
    },
    {
     "name": "stderr",
     "output_type": "stream",
     "text": [
      "2025-04-22 20:04:25,750 - INFO - Processed 70000/1643306 records\n"
     ]
    },
    {
     "name": "stderr",
     "output_type": "stream",
     "text": [
      "2025-04-22 20:04:25,766 - INFO - Starting to upsert 0 records in batches of 1000\n"
     ]
    },
    {
     "name": "stderr",
     "output_type": "stream",
     "text": [
      "2025-04-22 20:04:25,767 - INFO - Processed 80000/1643306 records\n"
     ]
    },
    {
     "name": "stderr",
     "output_type": "stream",
     "text": [
      "2025-04-22 20:04:25,788 - INFO - Starting to upsert 0 records in batches of 1000\n"
     ]
    },
    {
     "name": "stderr",
     "output_type": "stream",
     "text": [
      "2025-04-22 20:04:25,789 - INFO - Processed 90000/1643306 records\n"
     ]
    },
    {
     "name": "stderr",
     "output_type": "stream",
     "text": [
      "2025-04-22 20:04:25,809 - INFO - Starting to upsert 0 records in batches of 1000\n"
     ]
    },
    {
     "name": "stderr",
     "output_type": "stream",
     "text": [
      "2025-04-22 20:04:25,810 - INFO - Processed 100000/1643306 records\n"
     ]
    },
    {
     "name": "stderr",
     "output_type": "stream",
     "text": [
      "2025-04-22 20:04:25,837 - INFO - Starting to upsert 0 records in batches of 1000\n"
     ]
    },
    {
     "name": "stderr",
     "output_type": "stream",
     "text": [
      "2025-04-22 20:04:25,839 - INFO - Processed 110000/1643306 records\n"
     ]
    },
    {
     "name": "stderr",
     "output_type": "stream",
     "text": [
      "2025-04-22 20:04:25,863 - INFO - Starting to upsert 0 records in batches of 1000\n"
     ]
    },
    {
     "name": "stderr",
     "output_type": "stream",
     "text": [
      "2025-04-22 20:04:25,865 - INFO - Processed 120000/1643306 records\n"
     ]
    },
    {
     "name": "stderr",
     "output_type": "stream",
     "text": [
      "2025-04-22 20:04:25,882 - INFO - Starting to upsert 0 records in batches of 1000\n"
     ]
    },
    {
     "name": "stderr",
     "output_type": "stream",
     "text": [
      "2025-04-22 20:04:25,883 - INFO - Processed 130000/1643306 records\n"
     ]
    },
    {
     "name": "stderr",
     "output_type": "stream",
     "text": [
      "2025-04-22 20:04:25,900 - INFO - Starting to upsert 0 records in batches of 1000\n"
     ]
    },
    {
     "name": "stderr",
     "output_type": "stream",
     "text": [
      "2025-04-22 20:04:25,901 - INFO - Processed 140000/1643306 records\n"
     ]
    },
    {
     "name": "stderr",
     "output_type": "stream",
     "text": [
      "2025-04-22 20:04:25,916 - INFO - Starting to upsert 0 records in batches of 1000\n"
     ]
    },
    {
     "name": "stderr",
     "output_type": "stream",
     "text": [
      "2025-04-22 20:04:25,917 - INFO - Processed 150000/1643306 records\n"
     ]
    },
    {
     "name": "stderr",
     "output_type": "stream",
     "text": [
      "2025-04-22 20:04:25,935 - INFO - Starting to upsert 0 records in batches of 1000\n"
     ]
    },
    {
     "name": "stderr",
     "output_type": "stream",
     "text": [
      "2025-04-22 20:04:25,936 - INFO - Processed 160000/1643306 records\n"
     ]
    },
    {
     "name": "stderr",
     "output_type": "stream",
     "text": [
      "2025-04-22 20:04:25,951 - INFO - Starting to upsert 0 records in batches of 1000\n"
     ]
    },
    {
     "name": "stderr",
     "output_type": "stream",
     "text": [
      "2025-04-22 20:04:25,952 - INFO - Processed 170000/1643306 records\n"
     ]
    },
    {
     "name": "stderr",
     "output_type": "stream",
     "text": [
      "2025-04-22 20:04:25,971 - INFO - Starting to upsert 0 records in batches of 1000\n"
     ]
    },
    {
     "name": "stderr",
     "output_type": "stream",
     "text": [
      "2025-04-22 20:04:25,972 - INFO - Processed 180000/1643306 records\n"
     ]
    },
    {
     "name": "stderr",
     "output_type": "stream",
     "text": [
      "2025-04-22 20:04:25,987 - INFO - Starting to upsert 0 records in batches of 1000\n"
     ]
    },
    {
     "name": "stderr",
     "output_type": "stream",
     "text": [
      "2025-04-22 20:04:25,988 - INFO - Processed 190000/1643306 records\n"
     ]
    },
    {
     "name": "stderr",
     "output_type": "stream",
     "text": [
      "2025-04-22 20:04:26,002 - INFO - Starting to upsert 0 records in batches of 1000\n"
     ]
    },
    {
     "name": "stderr",
     "output_type": "stream",
     "text": [
      "2025-04-22 20:04:26,003 - INFO - Processed 200000/1643306 records\n"
     ]
    },
    {
     "name": "stderr",
     "output_type": "stream",
     "text": [
      "2025-04-22 20:04:26,020 - INFO - Starting to upsert 0 records in batches of 1000\n"
     ]
    },
    {
     "name": "stderr",
     "output_type": "stream",
     "text": [
      "2025-04-22 20:04:26,021 - INFO - Processed 210000/1643306 records\n"
     ]
    },
    {
     "name": "stderr",
     "output_type": "stream",
     "text": [
      "2025-04-22 20:04:26,035 - INFO - Starting to upsert 0 records in batches of 1000\n"
     ]
    },
    {
     "name": "stderr",
     "output_type": "stream",
     "text": [
      "2025-04-22 20:04:26,036 - INFO - Processed 220000/1643306 records\n"
     ]
    },
    {
     "name": "stderr",
     "output_type": "stream",
     "text": [
      "2025-04-22 20:04:26,048 - INFO - Starting to upsert 0 records in batches of 1000\n"
     ]
    },
    {
     "name": "stderr",
     "output_type": "stream",
     "text": [
      "2025-04-22 20:04:26,049 - INFO - Processed 230000/1643306 records\n"
     ]
    },
    {
     "name": "stderr",
     "output_type": "stream",
     "text": [
      "2025-04-22 20:04:26,064 - INFO - Starting to upsert 0 records in batches of 1000\n"
     ]
    },
    {
     "name": "stderr",
     "output_type": "stream",
     "text": [
      "2025-04-22 20:04:26,065 - INFO - Processed 240000/1643306 records\n"
     ]
    },
    {
     "name": "stderr",
     "output_type": "stream",
     "text": [
      "2025-04-22 20:04:26,080 - INFO - Starting to upsert 0 records in batches of 1000\n"
     ]
    },
    {
     "name": "stderr",
     "output_type": "stream",
     "text": [
      "2025-04-22 20:04:26,080 - INFO - Processed 250000/1643306 records\n"
     ]
    },
    {
     "name": "stderr",
     "output_type": "stream",
     "text": [
      "2025-04-22 20:04:26,098 - INFO - Starting to upsert 0 records in batches of 1000\n"
     ]
    },
    {
     "name": "stderr",
     "output_type": "stream",
     "text": [
      "2025-04-22 20:04:26,099 - INFO - Processed 260000/1643306 records\n"
     ]
    },
    {
     "name": "stderr",
     "output_type": "stream",
     "text": [
      "2025-04-22 20:04:26,122 - INFO - Starting to upsert 0 records in batches of 1000\n"
     ]
    },
    {
     "name": "stderr",
     "output_type": "stream",
     "text": [
      "2025-04-22 20:04:26,123 - INFO - Processed 270000/1643306 records\n"
     ]
    },
    {
     "name": "stderr",
     "output_type": "stream",
     "text": [
      "2025-04-22 20:04:26,139 - INFO - Starting to upsert 0 records in batches of 1000\n"
     ]
    },
    {
     "name": "stderr",
     "output_type": "stream",
     "text": [
      "2025-04-22 20:04:26,140 - INFO - Processed 280000/1643306 records\n"
     ]
    },
    {
     "name": "stderr",
     "output_type": "stream",
     "text": [
      "2025-04-22 20:04:26,161 - INFO - Starting to upsert 0 records in batches of 1000\n"
     ]
    },
    {
     "name": "stderr",
     "output_type": "stream",
     "text": [
      "2025-04-22 20:04:26,162 - INFO - Processed 290000/1643306 records\n"
     ]
    },
    {
     "name": "stderr",
     "output_type": "stream",
     "text": [
      "2025-04-22 20:04:26,177 - INFO - Starting to upsert 0 records in batches of 1000\n"
     ]
    },
    {
     "name": "stderr",
     "output_type": "stream",
     "text": [
      "2025-04-22 20:04:26,177 - INFO - Processed 300000/1643306 records\n"
     ]
    },
    {
     "name": "stderr",
     "output_type": "stream",
     "text": [
      "2025-04-22 20:04:26,191 - INFO - Starting to upsert 0 records in batches of 1000\n"
     ]
    },
    {
     "name": "stderr",
     "output_type": "stream",
     "text": [
      "2025-04-22 20:04:26,191 - INFO - Processed 310000/1643306 records\n"
     ]
    },
    {
     "name": "stderr",
     "output_type": "stream",
     "text": [
      "2025-04-22 20:04:26,205 - INFO - Starting to upsert 0 records in batches of 1000\n"
     ]
    },
    {
     "name": "stderr",
     "output_type": "stream",
     "text": [
      "2025-04-22 20:04:26,206 - INFO - Processed 320000/1643306 records\n"
     ]
    },
    {
     "name": "stderr",
     "output_type": "stream",
     "text": [
      "2025-04-22 20:04:26,220 - INFO - Starting to upsert 0 records in batches of 1000\n"
     ]
    },
    {
     "name": "stderr",
     "output_type": "stream",
     "text": [
      "2025-04-22 20:04:26,220 - INFO - Processed 330000/1643306 records\n"
     ]
    },
    {
     "name": "stderr",
     "output_type": "stream",
     "text": [
      "2025-04-22 20:04:26,233 - INFO - Starting to upsert 0 records in batches of 1000\n"
     ]
    },
    {
     "name": "stderr",
     "output_type": "stream",
     "text": [
      "2025-04-22 20:04:26,234 - INFO - Processed 340000/1643306 records\n"
     ]
    },
    {
     "name": "stderr",
     "output_type": "stream",
     "text": [
      "2025-04-22 20:04:26,249 - INFO - Starting to upsert 0 records in batches of 1000\n"
     ]
    },
    {
     "name": "stderr",
     "output_type": "stream",
     "text": [
      "2025-04-22 20:04:26,250 - INFO - Processed 350000/1643306 records\n"
     ]
    },
    {
     "name": "stderr",
     "output_type": "stream",
     "text": [
      "2025-04-22 20:04:26,266 - INFO - Starting to upsert 0 records in batches of 1000\n"
     ]
    },
    {
     "name": "stderr",
     "output_type": "stream",
     "text": [
      "2025-04-22 20:04:26,267 - INFO - Processed 360000/1643306 records\n"
     ]
    },
    {
     "name": "stderr",
     "output_type": "stream",
     "text": [
      "2025-04-22 20:04:26,283 - INFO - Starting to upsert 0 records in batches of 1000\n"
     ]
    },
    {
     "name": "stderr",
     "output_type": "stream",
     "text": [
      "2025-04-22 20:04:26,284 - INFO - Processed 370000/1643306 records\n"
     ]
    },
    {
     "name": "stderr",
     "output_type": "stream",
     "text": [
      "2025-04-22 20:04:26,298 - INFO - Starting to upsert 0 records in batches of 1000\n"
     ]
    },
    {
     "name": "stderr",
     "output_type": "stream",
     "text": [
      "2025-04-22 20:04:26,299 - INFO - Processed 380000/1643306 records\n"
     ]
    },
    {
     "name": "stderr",
     "output_type": "stream",
     "text": [
      "2025-04-22 20:04:26,311 - INFO - Starting to upsert 0 records in batches of 1000\n"
     ]
    },
    {
     "name": "stderr",
     "output_type": "stream",
     "text": [
      "2025-04-22 20:04:26,312 - INFO - Processed 390000/1643306 records\n"
     ]
    },
    {
     "name": "stderr",
     "output_type": "stream",
     "text": [
      "2025-04-22 20:04:26,327 - INFO - Starting to upsert 0 records in batches of 1000\n"
     ]
    },
    {
     "name": "stderr",
     "output_type": "stream",
     "text": [
      "2025-04-22 20:04:26,328 - INFO - Processed 400000/1643306 records\n"
     ]
    },
    {
     "name": "stderr",
     "output_type": "stream",
     "text": [
      "2025-04-22 20:04:26,346 - INFO - Starting to upsert 0 records in batches of 1000\n"
     ]
    },
    {
     "name": "stderr",
     "output_type": "stream",
     "text": [
      "2025-04-22 20:04:26,347 - INFO - Processed 410000/1643306 records\n"
     ]
    },
    {
     "name": "stderr",
     "output_type": "stream",
     "text": [
      "2025-04-22 20:04:26,361 - INFO - Starting to upsert 0 records in batches of 1000\n"
     ]
    },
    {
     "name": "stderr",
     "output_type": "stream",
     "text": [
      "2025-04-22 20:04:26,362 - INFO - Processed 420000/1643306 records\n"
     ]
    },
    {
     "name": "stderr",
     "output_type": "stream",
     "text": [
      "2025-04-22 20:04:26,379 - INFO - Starting to upsert 0 records in batches of 1000\n"
     ]
    },
    {
     "name": "stderr",
     "output_type": "stream",
     "text": [
      "2025-04-22 20:04:26,380 - INFO - Processed 430000/1643306 records\n"
     ]
    },
    {
     "name": "stderr",
     "output_type": "stream",
     "text": [
      "2025-04-22 20:04:26,395 - INFO - Starting to upsert 0 records in batches of 1000\n"
     ]
    },
    {
     "name": "stderr",
     "output_type": "stream",
     "text": [
      "2025-04-22 20:04:26,395 - INFO - Processed 440000/1643306 records\n"
     ]
    },
    {
     "name": "stderr",
     "output_type": "stream",
     "text": [
      "2025-04-22 20:04:26,410 - INFO - Starting to upsert 0 records in batches of 1000\n"
     ]
    },
    {
     "name": "stderr",
     "output_type": "stream",
     "text": [
      "2025-04-22 20:04:26,411 - INFO - Processed 450000/1643306 records\n"
     ]
    },
    {
     "name": "stderr",
     "output_type": "stream",
     "text": [
      "2025-04-22 20:04:26,427 - INFO - Starting to upsert 0 records in batches of 1000\n"
     ]
    },
    {
     "name": "stderr",
     "output_type": "stream",
     "text": [
      "2025-04-22 20:04:26,428 - INFO - Processed 460000/1643306 records\n"
     ]
    },
    {
     "name": "stderr",
     "output_type": "stream",
     "text": [
      "2025-04-22 20:04:26,445 - INFO - Starting to upsert 0 records in batches of 1000\n"
     ]
    },
    {
     "name": "stderr",
     "output_type": "stream",
     "text": [
      "2025-04-22 20:04:26,446 - INFO - Processed 470000/1643306 records\n"
     ]
    },
    {
     "name": "stderr",
     "output_type": "stream",
     "text": [
      "2025-04-22 20:04:26,461 - INFO - Starting to upsert 0 records in batches of 1000\n"
     ]
    },
    {
     "name": "stderr",
     "output_type": "stream",
     "text": [
      "2025-04-22 20:04:26,462 - INFO - Processed 480000/1643306 records\n"
     ]
    },
    {
     "name": "stderr",
     "output_type": "stream",
     "text": [
      "2025-04-22 20:04:26,479 - INFO - Starting to upsert 0 records in batches of 1000\n"
     ]
    },
    {
     "name": "stderr",
     "output_type": "stream",
     "text": [
      "2025-04-22 20:04:26,480 - INFO - Processed 490000/1643306 records\n"
     ]
    },
    {
     "name": "stderr",
     "output_type": "stream",
     "text": [
      "2025-04-22 20:04:26,501 - INFO - Starting to upsert 0 records in batches of 1000\n"
     ]
    },
    {
     "name": "stderr",
     "output_type": "stream",
     "text": [
      "2025-04-22 20:04:26,502 - INFO - Processed 500000/1643306 records\n"
     ]
    },
    {
     "name": "stderr",
     "output_type": "stream",
     "text": [
      "2025-04-22 20:04:26,517 - INFO - Starting to upsert 0 records in batches of 1000\n"
     ]
    },
    {
     "name": "stderr",
     "output_type": "stream",
     "text": [
      "2025-04-22 20:04:26,519 - INFO - Processed 510000/1643306 records\n"
     ]
    },
    {
     "name": "stderr",
     "output_type": "stream",
     "text": [
      "2025-04-22 20:04:26,533 - INFO - Starting to upsert 0 records in batches of 1000\n"
     ]
    },
    {
     "name": "stderr",
     "output_type": "stream",
     "text": [
      "2025-04-22 20:04:26,533 - INFO - Processed 520000/1643306 records\n"
     ]
    },
    {
     "name": "stderr",
     "output_type": "stream",
     "text": [
      "2025-04-22 20:04:26,549 - INFO - Starting to upsert 0 records in batches of 1000\n"
     ]
    },
    {
     "name": "stderr",
     "output_type": "stream",
     "text": [
      "2025-04-22 20:04:26,550 - INFO - Processed 530000/1643306 records\n"
     ]
    },
    {
     "name": "stderr",
     "output_type": "stream",
     "text": [
      "2025-04-22 20:04:26,566 - INFO - Starting to upsert 0 records in batches of 1000\n"
     ]
    },
    {
     "name": "stderr",
     "output_type": "stream",
     "text": [
      "2025-04-22 20:04:26,567 - INFO - Processed 540000/1643306 records\n"
     ]
    },
    {
     "name": "stderr",
     "output_type": "stream",
     "text": [
      "2025-04-22 20:04:26,585 - INFO - Starting to upsert 0 records in batches of 1000\n"
     ]
    },
    {
     "name": "stderr",
     "output_type": "stream",
     "text": [
      "2025-04-22 20:04:26,586 - INFO - Processed 550000/1643306 records\n"
     ]
    },
    {
     "name": "stderr",
     "output_type": "stream",
     "text": [
      "2025-04-22 20:04:26,599 - INFO - Starting to upsert 0 records in batches of 1000\n"
     ]
    },
    {
     "name": "stderr",
     "output_type": "stream",
     "text": [
      "2025-04-22 20:04:26,600 - INFO - Processed 560000/1643306 records\n"
     ]
    },
    {
     "name": "stderr",
     "output_type": "stream",
     "text": [
      "2025-04-22 20:04:26,614 - INFO - Starting to upsert 0 records in batches of 1000\n"
     ]
    },
    {
     "name": "stderr",
     "output_type": "stream",
     "text": [
      "2025-04-22 20:04:26,615 - INFO - Processed 570000/1643306 records\n"
     ]
    },
    {
     "name": "stderr",
     "output_type": "stream",
     "text": [
      "2025-04-22 20:04:26,628 - INFO - Starting to upsert 0 records in batches of 1000\n"
     ]
    },
    {
     "name": "stderr",
     "output_type": "stream",
     "text": [
      "2025-04-22 20:04:26,628 - INFO - Processed 580000/1643306 records\n"
     ]
    },
    {
     "name": "stderr",
     "output_type": "stream",
     "text": [
      "2025-04-22 20:04:26,641 - INFO - Starting to upsert 0 records in batches of 1000\n"
     ]
    },
    {
     "name": "stderr",
     "output_type": "stream",
     "text": [
      "2025-04-22 20:04:26,642 - INFO - Processed 590000/1643306 records\n"
     ]
    },
    {
     "name": "stderr",
     "output_type": "stream",
     "text": [
      "2025-04-22 20:04:26,656 - INFO - Starting to upsert 0 records in batches of 1000\n"
     ]
    },
    {
     "name": "stderr",
     "output_type": "stream",
     "text": [
      "2025-04-22 20:04:26,656 - INFO - Processed 600000/1643306 records\n"
     ]
    },
    {
     "name": "stderr",
     "output_type": "stream",
     "text": [
      "2025-04-22 20:04:26,668 - INFO - Starting to upsert 0 records in batches of 1000\n"
     ]
    },
    {
     "name": "stderr",
     "output_type": "stream",
     "text": [
      "2025-04-22 20:04:26,668 - INFO - Processed 610000/1643306 records\n"
     ]
    },
    {
     "name": "stderr",
     "output_type": "stream",
     "text": [
      "2025-04-22 20:04:26,681 - INFO - Starting to upsert 0 records in batches of 1000\n"
     ]
    },
    {
     "name": "stderr",
     "output_type": "stream",
     "text": [
      "2025-04-22 20:04:26,682 - INFO - Processed 620000/1643306 records\n"
     ]
    },
    {
     "name": "stderr",
     "output_type": "stream",
     "text": [
      "2025-04-22 20:04:26,696 - INFO - Starting to upsert 0 records in batches of 1000\n"
     ]
    },
    {
     "name": "stderr",
     "output_type": "stream",
     "text": [
      "2025-04-22 20:04:26,696 - INFO - Processed 630000/1643306 records\n"
     ]
    },
    {
     "name": "stderr",
     "output_type": "stream",
     "text": [
      "2025-04-22 20:04:26,708 - INFO - Starting to upsert 0 records in batches of 1000\n"
     ]
    },
    {
     "name": "stderr",
     "output_type": "stream",
     "text": [
      "2025-04-22 20:04:26,709 - INFO - Processed 640000/1643306 records\n"
     ]
    },
    {
     "name": "stderr",
     "output_type": "stream",
     "text": [
      "2025-04-22 20:04:26,720 - INFO - Starting to upsert 0 records in batches of 1000\n"
     ]
    },
    {
     "name": "stderr",
     "output_type": "stream",
     "text": [
      "2025-04-22 20:04:26,720 - INFO - Processed 650000/1643306 records\n"
     ]
    },
    {
     "name": "stderr",
     "output_type": "stream",
     "text": [
      "2025-04-22 20:04:26,732 - INFO - Starting to upsert 0 records in batches of 1000\n"
     ]
    },
    {
     "name": "stderr",
     "output_type": "stream",
     "text": [
      "2025-04-22 20:04:26,733 - INFO - Processed 660000/1643306 records\n"
     ]
    },
    {
     "name": "stderr",
     "output_type": "stream",
     "text": [
      "2025-04-22 20:04:26,745 - INFO - Starting to upsert 0 records in batches of 1000\n"
     ]
    },
    {
     "name": "stderr",
     "output_type": "stream",
     "text": [
      "2025-04-22 20:04:26,746 - INFO - Processed 670000/1643306 records\n"
     ]
    },
    {
     "name": "stderr",
     "output_type": "stream",
     "text": [
      "2025-04-22 20:04:26,759 - INFO - Starting to upsert 0 records in batches of 1000\n"
     ]
    },
    {
     "name": "stderr",
     "output_type": "stream",
     "text": [
      "2025-04-22 20:04:26,760 - INFO - Processed 680000/1643306 records\n"
     ]
    },
    {
     "name": "stderr",
     "output_type": "stream",
     "text": [
      "2025-04-22 20:04:26,773 - INFO - Starting to upsert 0 records in batches of 1000\n"
     ]
    },
    {
     "name": "stderr",
     "output_type": "stream",
     "text": [
      "2025-04-22 20:04:26,773 - INFO - Processed 690000/1643306 records\n"
     ]
    },
    {
     "name": "stderr",
     "output_type": "stream",
     "text": [
      "2025-04-22 20:04:26,788 - INFO - Starting to upsert 0 records in batches of 1000\n"
     ]
    },
    {
     "name": "stderr",
     "output_type": "stream",
     "text": [
      "2025-04-22 20:04:26,788 - INFO - Processed 700000/1643306 records\n"
     ]
    },
    {
     "name": "stderr",
     "output_type": "stream",
     "text": [
      "2025-04-22 20:04:26,802 - INFO - Starting to upsert 0 records in batches of 1000\n"
     ]
    },
    {
     "name": "stderr",
     "output_type": "stream",
     "text": [
      "2025-04-22 20:04:26,803 - INFO - Processed 710000/1643306 records\n"
     ]
    },
    {
     "name": "stderr",
     "output_type": "stream",
     "text": [
      "2025-04-22 20:04:26,820 - INFO - Starting to upsert 0 records in batches of 1000\n"
     ]
    },
    {
     "name": "stderr",
     "output_type": "stream",
     "text": [
      "2025-04-22 20:04:26,821 - INFO - Processed 720000/1643306 records\n"
     ]
    },
    {
     "name": "stderr",
     "output_type": "stream",
     "text": [
      "2025-04-22 20:04:26,835 - INFO - Starting to upsert 0 records in batches of 1000\n"
     ]
    },
    {
     "name": "stderr",
     "output_type": "stream",
     "text": [
      "2025-04-22 20:04:26,836 - INFO - Processed 730000/1643306 records\n"
     ]
    },
    {
     "name": "stderr",
     "output_type": "stream",
     "text": [
      "2025-04-22 20:04:26,849 - INFO - Starting to upsert 0 records in batches of 1000\n"
     ]
    },
    {
     "name": "stderr",
     "output_type": "stream",
     "text": [
      "2025-04-22 20:04:26,849 - INFO - Processed 740000/1643306 records\n"
     ]
    },
    {
     "name": "stderr",
     "output_type": "stream",
     "text": [
      "2025-04-22 20:04:26,864 - INFO - Starting to upsert 0 records in batches of 1000\n"
     ]
    },
    {
     "name": "stderr",
     "output_type": "stream",
     "text": [
      "2025-04-22 20:04:26,865 - INFO - Processed 750000/1643306 records\n"
     ]
    },
    {
     "name": "stderr",
     "output_type": "stream",
     "text": [
      "2025-04-22 20:04:26,877 - INFO - Starting to upsert 0 records in batches of 1000\n"
     ]
    },
    {
     "name": "stderr",
     "output_type": "stream",
     "text": [
      "2025-04-22 20:04:26,878 - INFO - Processed 760000/1643306 records\n"
     ]
    },
    {
     "name": "stderr",
     "output_type": "stream",
     "text": [
      "2025-04-22 20:04:26,889 - INFO - Starting to upsert 0 records in batches of 1000\n"
     ]
    },
    {
     "name": "stderr",
     "output_type": "stream",
     "text": [
      "2025-04-22 20:04:26,890 - INFO - Processed 770000/1643306 records\n"
     ]
    },
    {
     "name": "stderr",
     "output_type": "stream",
     "text": [
      "2025-04-22 20:04:26,902 - INFO - Starting to upsert 0 records in batches of 1000\n"
     ]
    },
    {
     "name": "stderr",
     "output_type": "stream",
     "text": [
      "2025-04-22 20:04:26,902 - INFO - Processed 780000/1643306 records\n"
     ]
    },
    {
     "name": "stderr",
     "output_type": "stream",
     "text": [
      "2025-04-22 20:04:26,914 - INFO - Starting to upsert 0 records in batches of 1000\n"
     ]
    },
    {
     "name": "stderr",
     "output_type": "stream",
     "text": [
      "2025-04-22 20:04:26,914 - INFO - Processed 790000/1643306 records\n"
     ]
    },
    {
     "name": "stderr",
     "output_type": "stream",
     "text": [
      "2025-04-22 20:04:26,925 - INFO - Starting to upsert 0 records in batches of 1000\n"
     ]
    },
    {
     "name": "stderr",
     "output_type": "stream",
     "text": [
      "2025-04-22 20:04:26,926 - INFO - Processed 800000/1643306 records\n"
     ]
    },
    {
     "name": "stderr",
     "output_type": "stream",
     "text": [
      "2025-04-22 20:04:26,936 - INFO - Starting to upsert 0 records in batches of 1000\n"
     ]
    },
    {
     "name": "stderr",
     "output_type": "stream",
     "text": [
      "2025-04-22 20:04:26,937 - INFO - Processed 810000/1643306 records\n"
     ]
    },
    {
     "name": "stderr",
     "output_type": "stream",
     "text": [
      "2025-04-22 20:04:26,948 - INFO - Starting to upsert 0 records in batches of 1000\n"
     ]
    },
    {
     "name": "stderr",
     "output_type": "stream",
     "text": [
      "2025-04-22 20:04:26,948 - INFO - Processed 820000/1643306 records\n"
     ]
    },
    {
     "name": "stderr",
     "output_type": "stream",
     "text": [
      "2025-04-22 20:04:26,958 - INFO - Starting to upsert 0 records in batches of 1000\n"
     ]
    },
    {
     "name": "stderr",
     "output_type": "stream",
     "text": [
      "2025-04-22 20:04:26,959 - INFO - Processed 830000/1643306 records\n"
     ]
    },
    {
     "name": "stderr",
     "output_type": "stream",
     "text": [
      "2025-04-22 20:04:26,974 - INFO - Starting to upsert 0 records in batches of 1000\n"
     ]
    },
    {
     "name": "stderr",
     "output_type": "stream",
     "text": [
      "2025-04-22 20:04:26,974 - INFO - Processed 840000/1643306 records\n"
     ]
    },
    {
     "name": "stderr",
     "output_type": "stream",
     "text": [
      "2025-04-22 20:04:26,991 - INFO - Starting to upsert 0 records in batches of 1000\n"
     ]
    },
    {
     "name": "stderr",
     "output_type": "stream",
     "text": [
      "2025-04-22 20:04:26,992 - INFO - Processed 850000/1643306 records\n"
     ]
    },
    {
     "name": "stderr",
     "output_type": "stream",
     "text": [
      "2025-04-22 20:04:27,010 - INFO - Starting to upsert 0 records in batches of 1000\n"
     ]
    },
    {
     "name": "stderr",
     "output_type": "stream",
     "text": [
      "2025-04-22 20:04:27,011 - INFO - Processed 860000/1643306 records\n"
     ]
    },
    {
     "name": "stderr",
     "output_type": "stream",
     "text": [
      "2025-04-22 20:04:27,023 - INFO - Starting to upsert 0 records in batches of 1000\n"
     ]
    },
    {
     "name": "stderr",
     "output_type": "stream",
     "text": [
      "2025-04-22 20:04:27,024 - INFO - Processed 870000/1643306 records\n"
     ]
    },
    {
     "name": "stderr",
     "output_type": "stream",
     "text": [
      "2025-04-22 20:04:27,037 - INFO - Starting to upsert 0 records in batches of 1000\n"
     ]
    },
    {
     "name": "stderr",
     "output_type": "stream",
     "text": [
      "2025-04-22 20:04:27,039 - INFO - Processed 880000/1643306 records\n"
     ]
    },
    {
     "name": "stderr",
     "output_type": "stream",
     "text": [
      "2025-04-22 20:04:27,049 - INFO - Starting to upsert 0 records in batches of 1000\n"
     ]
    },
    {
     "name": "stderr",
     "output_type": "stream",
     "text": [
      "2025-04-22 20:04:27,050 - INFO - Processed 890000/1643306 records\n"
     ]
    },
    {
     "name": "stderr",
     "output_type": "stream",
     "text": [
      "2025-04-22 20:04:27,060 - INFO - Starting to upsert 0 records in batches of 1000\n"
     ]
    },
    {
     "name": "stderr",
     "output_type": "stream",
     "text": [
      "2025-04-22 20:04:27,060 - INFO - Processed 900000/1643306 records\n"
     ]
    },
    {
     "name": "stderr",
     "output_type": "stream",
     "text": [
      "2025-04-22 20:04:27,071 - INFO - Starting to upsert 0 records in batches of 1000\n"
     ]
    },
    {
     "name": "stderr",
     "output_type": "stream",
     "text": [
      "2025-04-22 20:04:27,072 - INFO - Processed 910000/1643306 records\n"
     ]
    },
    {
     "name": "stderr",
     "output_type": "stream",
     "text": [
      "2025-04-22 20:04:27,082 - INFO - Starting to upsert 0 records in batches of 1000\n"
     ]
    },
    {
     "name": "stderr",
     "output_type": "stream",
     "text": [
      "2025-04-22 20:04:27,083 - INFO - Processed 920000/1643306 records\n"
     ]
    },
    {
     "name": "stderr",
     "output_type": "stream",
     "text": [
      "2025-04-22 20:04:27,094 - INFO - Starting to upsert 0 records in batches of 1000\n"
     ]
    },
    {
     "name": "stderr",
     "output_type": "stream",
     "text": [
      "2025-04-22 20:04:27,095 - INFO - Processed 930000/1643306 records\n"
     ]
    },
    {
     "name": "stderr",
     "output_type": "stream",
     "text": [
      "2025-04-22 20:04:27,109 - INFO - Starting to upsert 0 records in batches of 1000\n"
     ]
    },
    {
     "name": "stderr",
     "output_type": "stream",
     "text": [
      "2025-04-22 20:04:27,110 - INFO - Processed 940000/1643306 records\n"
     ]
    },
    {
     "name": "stderr",
     "output_type": "stream",
     "text": [
      "2025-04-22 20:04:27,120 - INFO - Starting to upsert 0 records in batches of 1000\n"
     ]
    },
    {
     "name": "stderr",
     "output_type": "stream",
     "text": [
      "2025-04-22 20:04:27,121 - INFO - Processed 950000/1643306 records\n"
     ]
    },
    {
     "name": "stderr",
     "output_type": "stream",
     "text": [
      "2025-04-22 20:04:27,131 - INFO - Starting to upsert 0 records in batches of 1000\n"
     ]
    },
    {
     "name": "stderr",
     "output_type": "stream",
     "text": [
      "2025-04-22 20:04:27,132 - INFO - Processed 960000/1643306 records\n"
     ]
    },
    {
     "name": "stderr",
     "output_type": "stream",
     "text": [
      "2025-04-22 20:04:27,143 - INFO - Starting to upsert 0 records in batches of 1000\n"
     ]
    },
    {
     "name": "stderr",
     "output_type": "stream",
     "text": [
      "2025-04-22 20:04:27,144 - INFO - Processed 970000/1643306 records\n"
     ]
    },
    {
     "name": "stderr",
     "output_type": "stream",
     "text": [
      "2025-04-22 20:04:27,158 - INFO - Starting to upsert 0 records in batches of 1000\n"
     ]
    },
    {
     "name": "stderr",
     "output_type": "stream",
     "text": [
      "2025-04-22 20:04:27,159 - INFO - Processed 980000/1643306 records\n"
     ]
    },
    {
     "name": "stderr",
     "output_type": "stream",
     "text": [
      "2025-04-22 20:04:27,170 - INFO - Starting to upsert 0 records in batches of 1000\n"
     ]
    },
    {
     "name": "stderr",
     "output_type": "stream",
     "text": [
      "2025-04-22 20:04:27,171 - INFO - Processed 990000/1643306 records\n"
     ]
    },
    {
     "name": "stderr",
     "output_type": "stream",
     "text": [
      "2025-04-22 20:04:27,184 - INFO - Starting to upsert 0 records in batches of 1000\n"
     ]
    },
    {
     "name": "stderr",
     "output_type": "stream",
     "text": [
      "2025-04-22 20:04:27,185 - INFO - Processed 1000000/1643306 records\n"
     ]
    },
    {
     "name": "stderr",
     "output_type": "stream",
     "text": [
      "2025-04-22 20:04:27,197 - INFO - Starting to upsert 0 records in batches of 1000\n"
     ]
    },
    {
     "name": "stderr",
     "output_type": "stream",
     "text": [
      "2025-04-22 20:04:27,198 - INFO - Processed 1010000/1643306 records\n"
     ]
    },
    {
     "name": "stderr",
     "output_type": "stream",
     "text": [
      "2025-04-22 20:04:27,210 - INFO - Starting to upsert 0 records in batches of 1000\n"
     ]
    },
    {
     "name": "stderr",
     "output_type": "stream",
     "text": [
      "2025-04-22 20:04:27,211 - INFO - Processed 1020000/1643306 records\n"
     ]
    },
    {
     "name": "stderr",
     "output_type": "stream",
     "text": [
      "2025-04-22 20:04:27,224 - INFO - Starting to upsert 0 records in batches of 1000\n"
     ]
    },
    {
     "name": "stderr",
     "output_type": "stream",
     "text": [
      "2025-04-22 20:04:27,225 - INFO - Processed 1030000/1643306 records\n"
     ]
    },
    {
     "name": "stderr",
     "output_type": "stream",
     "text": [
      "2025-04-22 20:04:27,239 - INFO - Starting to upsert 0 records in batches of 1000\n"
     ]
    },
    {
     "name": "stderr",
     "output_type": "stream",
     "text": [
      "2025-04-22 20:04:27,240 - INFO - Processed 1040000/1643306 records\n"
     ]
    },
    {
     "name": "stderr",
     "output_type": "stream",
     "text": [
      "2025-04-22 20:04:27,251 - INFO - Starting to upsert 0 records in batches of 1000\n"
     ]
    },
    {
     "name": "stderr",
     "output_type": "stream",
     "text": [
      "2025-04-22 20:04:27,252 - INFO - Processed 1050000/1643306 records\n"
     ]
    },
    {
     "name": "stderr",
     "output_type": "stream",
     "text": [
      "2025-04-22 20:04:27,270 - INFO - Starting to upsert 0 records in batches of 1000\n"
     ]
    },
    {
     "name": "stderr",
     "output_type": "stream",
     "text": [
      "2025-04-22 20:04:27,271 - INFO - Processed 1060000/1643306 records\n"
     ]
    },
    {
     "name": "stderr",
     "output_type": "stream",
     "text": [
      "2025-04-22 20:04:27,288 - INFO - Starting to upsert 0 records in batches of 1000\n"
     ]
    },
    {
     "name": "stderr",
     "output_type": "stream",
     "text": [
      "2025-04-22 20:04:27,289 - INFO - Processed 1070000/1643306 records\n"
     ]
    },
    {
     "name": "stderr",
     "output_type": "stream",
     "text": [
      "2025-04-22 20:04:27,304 - INFO - Starting to upsert 0 records in batches of 1000\n"
     ]
    },
    {
     "name": "stderr",
     "output_type": "stream",
     "text": [
      "2025-04-22 20:04:27,305 - INFO - Processed 1080000/1643306 records\n"
     ]
    },
    {
     "name": "stderr",
     "output_type": "stream",
     "text": [
      "2025-04-22 20:04:27,319 - INFO - Starting to upsert 0 records in batches of 1000\n"
     ]
    },
    {
     "name": "stderr",
     "output_type": "stream",
     "text": [
      "2025-04-22 20:04:27,320 - INFO - Processed 1090000/1643306 records\n"
     ]
    },
    {
     "name": "stderr",
     "output_type": "stream",
     "text": [
      "2025-04-22 20:04:27,333 - INFO - Starting to upsert 0 records in batches of 1000\n"
     ]
    },
    {
     "name": "stderr",
     "output_type": "stream",
     "text": [
      "2025-04-22 20:04:27,334 - INFO - Processed 1100000/1643306 records\n"
     ]
    },
    {
     "name": "stderr",
     "output_type": "stream",
     "text": [
      "2025-04-22 20:04:27,346 - INFO - Starting to upsert 0 records in batches of 1000\n"
     ]
    },
    {
     "name": "stderr",
     "output_type": "stream",
     "text": [
      "2025-04-22 20:04:27,347 - INFO - Processed 1110000/1643306 records\n"
     ]
    },
    {
     "name": "stderr",
     "output_type": "stream",
     "text": [
      "2025-04-22 20:04:27,360 - INFO - Starting to upsert 0 records in batches of 1000\n"
     ]
    },
    {
     "name": "stderr",
     "output_type": "stream",
     "text": [
      "2025-04-22 20:04:27,361 - INFO - Processed 1120000/1643306 records\n"
     ]
    },
    {
     "name": "stderr",
     "output_type": "stream",
     "text": [
      "2025-04-22 20:04:27,374 - INFO - Starting to upsert 0 records in batches of 1000\n"
     ]
    },
    {
     "name": "stderr",
     "output_type": "stream",
     "text": [
      "2025-04-22 20:04:27,374 - INFO - Processed 1130000/1643306 records\n"
     ]
    },
    {
     "name": "stderr",
     "output_type": "stream",
     "text": [
      "2025-04-22 20:04:27,389 - INFO - Starting to upsert 0 records in batches of 1000\n"
     ]
    },
    {
     "name": "stderr",
     "output_type": "stream",
     "text": [
      "2025-04-22 20:04:27,389 - INFO - Processed 1140000/1643306 records\n"
     ]
    },
    {
     "name": "stderr",
     "output_type": "stream",
     "text": [
      "2025-04-22 20:04:27,403 - INFO - Starting to upsert 0 records in batches of 1000\n"
     ]
    },
    {
     "name": "stderr",
     "output_type": "stream",
     "text": [
      "2025-04-22 20:04:27,404 - INFO - Processed 1150000/1643306 records\n"
     ]
    },
    {
     "name": "stderr",
     "output_type": "stream",
     "text": [
      "2025-04-22 20:04:27,417 - INFO - Starting to upsert 0 records in batches of 1000\n"
     ]
    },
    {
     "name": "stderr",
     "output_type": "stream",
     "text": [
      "2025-04-22 20:04:27,417 - INFO - Processed 1160000/1643306 records\n"
     ]
    },
    {
     "name": "stderr",
     "output_type": "stream",
     "text": [
      "2025-04-22 20:04:27,430 - INFO - Starting to upsert 0 records in batches of 1000\n"
     ]
    },
    {
     "name": "stderr",
     "output_type": "stream",
     "text": [
      "2025-04-22 20:04:27,431 - INFO - Processed 1170000/1643306 records\n"
     ]
    },
    {
     "name": "stderr",
     "output_type": "stream",
     "text": [
      "2025-04-22 20:04:27,443 - INFO - Starting to upsert 0 records in batches of 1000\n"
     ]
    },
    {
     "name": "stderr",
     "output_type": "stream",
     "text": [
      "2025-04-22 20:04:27,444 - INFO - Processed 1180000/1643306 records\n"
     ]
    },
    {
     "name": "stderr",
     "output_type": "stream",
     "text": [
      "2025-04-22 20:04:27,457 - INFO - Starting to upsert 0 records in batches of 1000\n"
     ]
    },
    {
     "name": "stderr",
     "output_type": "stream",
     "text": [
      "2025-04-22 20:04:27,458 - INFO - Processed 1190000/1643306 records\n"
     ]
    },
    {
     "name": "stderr",
     "output_type": "stream",
     "text": [
      "2025-04-22 20:04:27,471 - INFO - Starting to upsert 0 records in batches of 1000\n"
     ]
    },
    {
     "name": "stderr",
     "output_type": "stream",
     "text": [
      "2025-04-22 20:04:27,472 - INFO - Processed 1200000/1643306 records\n"
     ]
    },
    {
     "name": "stderr",
     "output_type": "stream",
     "text": [
      "2025-04-22 20:04:27,488 - INFO - Starting to upsert 0 records in batches of 1000\n"
     ]
    },
    {
     "name": "stderr",
     "output_type": "stream",
     "text": [
      "2025-04-22 20:04:27,489 - INFO - Processed 1210000/1643306 records\n"
     ]
    },
    {
     "name": "stderr",
     "output_type": "stream",
     "text": [
      "2025-04-22 20:04:27,503 - INFO - Starting to upsert 0 records in batches of 1000\n"
     ]
    },
    {
     "name": "stderr",
     "output_type": "stream",
     "text": [
      "2025-04-22 20:04:27,504 - INFO - Processed 1220000/1643306 records\n"
     ]
    },
    {
     "name": "stderr",
     "output_type": "stream",
     "text": [
      "2025-04-22 20:04:27,517 - INFO - Starting to upsert 0 records in batches of 1000\n"
     ]
    },
    {
     "name": "stderr",
     "output_type": "stream",
     "text": [
      "2025-04-22 20:04:27,518 - INFO - Processed 1230000/1643306 records\n"
     ]
    },
    {
     "name": "stderr",
     "output_type": "stream",
     "text": [
      "2025-04-22 20:04:27,531 - INFO - Starting to upsert 0 records in batches of 1000\n"
     ]
    },
    {
     "name": "stderr",
     "output_type": "stream",
     "text": [
      "2025-04-22 20:04:27,532 - INFO - Processed 1240000/1643306 records\n"
     ]
    },
    {
     "name": "stderr",
     "output_type": "stream",
     "text": [
      "2025-04-22 20:04:27,543 - INFO - Starting to upsert 0 records in batches of 1000\n"
     ]
    },
    {
     "name": "stderr",
     "output_type": "stream",
     "text": [
      "2025-04-22 20:04:27,544 - INFO - Processed 1250000/1643306 records\n"
     ]
    },
    {
     "name": "stderr",
     "output_type": "stream",
     "text": [
      "2025-04-22 20:04:27,557 - INFO - Starting to upsert 0 records in batches of 1000\n"
     ]
    },
    {
     "name": "stderr",
     "output_type": "stream",
     "text": [
      "2025-04-22 20:04:27,558 - INFO - Processed 1260000/1643306 records\n"
     ]
    },
    {
     "name": "stderr",
     "output_type": "stream",
     "text": [
      "2025-04-22 20:04:27,571 - INFO - Starting to upsert 0 records in batches of 1000\n"
     ]
    },
    {
     "name": "stderr",
     "output_type": "stream",
     "text": [
      "2025-04-22 20:04:27,572 - INFO - Processed 1270000/1643306 records\n"
     ]
    },
    {
     "name": "stderr",
     "output_type": "stream",
     "text": [
      "2025-04-22 20:04:27,587 - INFO - Starting to upsert 0 records in batches of 1000\n"
     ]
    },
    {
     "name": "stderr",
     "output_type": "stream",
     "text": [
      "2025-04-22 20:04:27,588 - INFO - Processed 1280000/1643306 records\n"
     ]
    },
    {
     "name": "stderr",
     "output_type": "stream",
     "text": [
      "2025-04-22 20:04:27,600 - INFO - Starting to upsert 0 records in batches of 1000\n"
     ]
    },
    {
     "name": "stderr",
     "output_type": "stream",
     "text": [
      "2025-04-22 20:04:27,601 - INFO - Processed 1290000/1643306 records\n"
     ]
    },
    {
     "name": "stderr",
     "output_type": "stream",
     "text": [
      "2025-04-22 20:04:27,616 - INFO - Starting to upsert 0 records in batches of 1000\n"
     ]
    },
    {
     "name": "stderr",
     "output_type": "stream",
     "text": [
      "2025-04-22 20:04:27,616 - INFO - Processed 1300000/1643306 records\n"
     ]
    },
    {
     "name": "stderr",
     "output_type": "stream",
     "text": [
      "2025-04-22 20:04:27,629 - INFO - Starting to upsert 0 records in batches of 1000\n"
     ]
    },
    {
     "name": "stderr",
     "output_type": "stream",
     "text": [
      "2025-04-22 20:04:27,630 - INFO - Processed 1310000/1643306 records\n"
     ]
    },
    {
     "name": "stderr",
     "output_type": "stream",
     "text": [
      "2025-04-22 20:04:27,644 - INFO - Starting to upsert 0 records in batches of 1000\n"
     ]
    },
    {
     "name": "stderr",
     "output_type": "stream",
     "text": [
      "2025-04-22 20:04:27,645 - INFO - Processed 1320000/1643306 records\n"
     ]
    },
    {
     "name": "stderr",
     "output_type": "stream",
     "text": [
      "2025-04-22 20:04:27,660 - INFO - Starting to upsert 0 records in batches of 1000\n"
     ]
    },
    {
     "name": "stderr",
     "output_type": "stream",
     "text": [
      "2025-04-22 20:04:27,661 - INFO - Processed 1330000/1643306 records\n"
     ]
    },
    {
     "name": "stderr",
     "output_type": "stream",
     "text": [
      "2025-04-22 20:04:27,674 - INFO - Starting to upsert 0 records in batches of 1000\n"
     ]
    },
    {
     "name": "stderr",
     "output_type": "stream",
     "text": [
      "2025-04-22 20:04:27,675 - INFO - Processed 1340000/1643306 records\n"
     ]
    },
    {
     "name": "stderr",
     "output_type": "stream",
     "text": [
      "2025-04-22 20:04:27,689 - INFO - Starting to upsert 0 records in batches of 1000\n"
     ]
    },
    {
     "name": "stderr",
     "output_type": "stream",
     "text": [
      "2025-04-22 20:04:27,689 - INFO - Processed 1350000/1643306 records\n"
     ]
    },
    {
     "name": "stderr",
     "output_type": "stream",
     "text": [
      "2025-04-22 20:04:27,703 - INFO - Starting to upsert 0 records in batches of 1000\n"
     ]
    },
    {
     "name": "stderr",
     "output_type": "stream",
     "text": [
      "2025-04-22 20:04:27,704 - INFO - Processed 1360000/1643306 records\n"
     ]
    },
    {
     "name": "stderr",
     "output_type": "stream",
     "text": [
      "2025-04-22 20:04:27,717 - INFO - Starting to upsert 0 records in batches of 1000\n"
     ]
    },
    {
     "name": "stderr",
     "output_type": "stream",
     "text": [
      "2025-04-22 20:04:27,718 - INFO - Processed 1370000/1643306 records\n"
     ]
    },
    {
     "name": "stderr",
     "output_type": "stream",
     "text": [
      "2025-04-22 20:04:27,730 - INFO - Starting to upsert 0 records in batches of 1000\n"
     ]
    },
    {
     "name": "stderr",
     "output_type": "stream",
     "text": [
      "2025-04-22 20:04:27,730 - INFO - Processed 1380000/1643306 records\n"
     ]
    },
    {
     "name": "stderr",
     "output_type": "stream",
     "text": [
      "2025-04-22 20:04:27,745 - INFO - Starting to upsert 0 records in batches of 1000\n"
     ]
    },
    {
     "name": "stderr",
     "output_type": "stream",
     "text": [
      "2025-04-22 20:04:27,746 - INFO - Processed 1390000/1643306 records\n"
     ]
    },
    {
     "name": "stderr",
     "output_type": "stream",
     "text": [
      "2025-04-22 20:04:27,760 - INFO - Starting to upsert 0 records in batches of 1000\n"
     ]
    },
    {
     "name": "stderr",
     "output_type": "stream",
     "text": [
      "2025-04-22 20:04:27,761 - INFO - Processed 1400000/1643306 records\n"
     ]
    },
    {
     "name": "stderr",
     "output_type": "stream",
     "text": [
      "2025-04-22 20:04:27,774 - INFO - Starting to upsert 0 records in batches of 1000\n"
     ]
    },
    {
     "name": "stderr",
     "output_type": "stream",
     "text": [
      "2025-04-22 20:04:27,775 - INFO - Processed 1410000/1643306 records\n"
     ]
    },
    {
     "name": "stderr",
     "output_type": "stream",
     "text": [
      "2025-04-22 20:04:27,788 - INFO - Starting to upsert 0 records in batches of 1000\n"
     ]
    },
    {
     "name": "stderr",
     "output_type": "stream",
     "text": [
      "2025-04-22 20:04:27,789 - INFO - Processed 1420000/1643306 records\n"
     ]
    },
    {
     "name": "stderr",
     "output_type": "stream",
     "text": [
      "2025-04-22 20:04:27,803 - INFO - Starting to upsert 0 records in batches of 1000\n"
     ]
    },
    {
     "name": "stderr",
     "output_type": "stream",
     "text": [
      "2025-04-22 20:04:27,803 - INFO - Processed 1430000/1643306 records\n"
     ]
    },
    {
     "name": "stderr",
     "output_type": "stream",
     "text": [
      "2025-04-22 20:04:27,818 - INFO - Starting to upsert 0 records in batches of 1000\n"
     ]
    },
    {
     "name": "stderr",
     "output_type": "stream",
     "text": [
      "2025-04-22 20:04:27,819 - INFO - Processed 1440000/1643306 records\n"
     ]
    },
    {
     "name": "stderr",
     "output_type": "stream",
     "text": [
      "2025-04-22 20:04:27,832 - INFO - Starting to upsert 0 records in batches of 1000\n"
     ]
    },
    {
     "name": "stderr",
     "output_type": "stream",
     "text": [
      "2025-04-22 20:04:27,833 - INFO - Processed 1450000/1643306 records\n"
     ]
    },
    {
     "name": "stderr",
     "output_type": "stream",
     "text": [
      "2025-04-22 20:04:27,847 - INFO - Starting to upsert 0 records in batches of 1000\n"
     ]
    },
    {
     "name": "stderr",
     "output_type": "stream",
     "text": [
      "2025-04-22 20:04:27,848 - INFO - Processed 1460000/1643306 records\n"
     ]
    },
    {
     "name": "stderr",
     "output_type": "stream",
     "text": [
      "2025-04-22 20:04:27,860 - INFO - Starting to upsert 0 records in batches of 1000\n"
     ]
    },
    {
     "name": "stderr",
     "output_type": "stream",
     "text": [
      "2025-04-22 20:04:27,861 - INFO - Processed 1470000/1643306 records\n"
     ]
    },
    {
     "name": "stderr",
     "output_type": "stream",
     "text": [
      "2025-04-22 20:04:27,873 - INFO - Starting to upsert 0 records in batches of 1000\n"
     ]
    },
    {
     "name": "stderr",
     "output_type": "stream",
     "text": [
      "2025-04-22 20:04:27,873 - INFO - Processed 1480000/1643306 records\n"
     ]
    },
    {
     "name": "stderr",
     "output_type": "stream",
     "text": [
      "2025-04-22 20:04:27,887 - INFO - Starting to upsert 0 records in batches of 1000\n"
     ]
    },
    {
     "name": "stderr",
     "output_type": "stream",
     "text": [
      "2025-04-22 20:04:27,888 - INFO - Processed 1490000/1643306 records\n"
     ]
    },
    {
     "name": "stderr",
     "output_type": "stream",
     "text": [
      "2025-04-22 20:04:27,900 - INFO - Starting to upsert 0 records in batches of 1000\n"
     ]
    },
    {
     "name": "stderr",
     "output_type": "stream",
     "text": [
      "2025-04-22 20:04:27,901 - INFO - Processed 1500000/1643306 records\n"
     ]
    },
    {
     "name": "stderr",
     "output_type": "stream",
     "text": [
      "2025-04-22 20:04:27,914 - INFO - Starting to upsert 0 records in batches of 1000\n"
     ]
    },
    {
     "name": "stderr",
     "output_type": "stream",
     "text": [
      "2025-04-22 20:04:27,914 - INFO - Processed 1510000/1643306 records\n"
     ]
    },
    {
     "name": "stderr",
     "output_type": "stream",
     "text": [
      "2025-04-22 20:04:27,931 - INFO - Starting to upsert 0 records in batches of 1000\n"
     ]
    },
    {
     "name": "stderr",
     "output_type": "stream",
     "text": [
      "2025-04-22 20:04:27,932 - INFO - Processed 1520000/1643306 records\n"
     ]
    },
    {
     "name": "stderr",
     "output_type": "stream",
     "text": [
      "2025-04-22 20:04:27,946 - INFO - Starting to upsert 0 records in batches of 1000\n"
     ]
    },
    {
     "name": "stderr",
     "output_type": "stream",
     "text": [
      "2025-04-22 20:04:27,946 - INFO - Processed 1530000/1643306 records\n"
     ]
    },
    {
     "name": "stderr",
     "output_type": "stream",
     "text": [
      "2025-04-22 20:04:27,960 - INFO - Starting to upsert 0 records in batches of 1000\n"
     ]
    },
    {
     "name": "stderr",
     "output_type": "stream",
     "text": [
      "2025-04-22 20:04:27,961 - INFO - Processed 1540000/1643306 records\n"
     ]
    },
    {
     "name": "stderr",
     "output_type": "stream",
     "text": [
      "2025-04-22 20:04:27,979 - INFO - Starting to upsert 0 records in batches of 1000\n"
     ]
    },
    {
     "name": "stderr",
     "output_type": "stream",
     "text": [
      "2025-04-22 20:04:27,980 - INFO - Processed 1550000/1643306 records\n"
     ]
    },
    {
     "name": "stderr",
     "output_type": "stream",
     "text": [
      "2025-04-22 20:04:27,993 - INFO - Starting to upsert 0 records in batches of 1000\n"
     ]
    },
    {
     "name": "stderr",
     "output_type": "stream",
     "text": [
      "2025-04-22 20:04:27,995 - INFO - Processed 1560000/1643306 records\n"
     ]
    },
    {
     "name": "stderr",
     "output_type": "stream",
     "text": [
      "2025-04-22 20:04:28,008 - INFO - Starting to upsert 0 records in batches of 1000\n"
     ]
    },
    {
     "name": "stderr",
     "output_type": "stream",
     "text": [
      "2025-04-22 20:04:28,009 - INFO - Processed 1570000/1643306 records\n"
     ]
    },
    {
     "name": "stderr",
     "output_type": "stream",
     "text": [
      "2025-04-22 20:04:28,022 - INFO - Starting to upsert 0 records in batches of 1000\n"
     ]
    },
    {
     "name": "stderr",
     "output_type": "stream",
     "text": [
      "2025-04-22 20:04:28,023 - INFO - Processed 1580000/1643306 records\n"
     ]
    },
    {
     "name": "stderr",
     "output_type": "stream",
     "text": [
      "2025-04-22 20:04:28,038 - INFO - Starting to upsert 0 records in batches of 1000\n"
     ]
    },
    {
     "name": "stderr",
     "output_type": "stream",
     "text": [
      "2025-04-22 20:04:28,039 - INFO - Processed 1590000/1643306 records\n"
     ]
    },
    {
     "name": "stderr",
     "output_type": "stream",
     "text": [
      "2025-04-22 20:04:28,054 - INFO - Starting to upsert 0 records in batches of 1000\n"
     ]
    },
    {
     "name": "stderr",
     "output_type": "stream",
     "text": [
      "2025-04-22 20:04:28,055 - INFO - Processed 1600000/1643306 records\n"
     ]
    },
    {
     "name": "stderr",
     "output_type": "stream",
     "text": [
      "2025-04-22 20:04:28,071 - INFO - Starting to upsert 0 records in batches of 1000\n"
     ]
    },
    {
     "name": "stderr",
     "output_type": "stream",
     "text": [
      "2025-04-22 20:04:28,072 - INFO - Processed 1610000/1643306 records\n"
     ]
    },
    {
     "name": "stderr",
     "output_type": "stream",
     "text": [
      "2025-04-22 20:04:28,092 - INFO - Starting to upsert 0 records in batches of 1000\n"
     ]
    },
    {
     "name": "stderr",
     "output_type": "stream",
     "text": [
      "2025-04-22 20:04:28,093 - INFO - Processed 1620000/1643306 records\n"
     ]
    },
    {
     "name": "stderr",
     "output_type": "stream",
     "text": [
      "2025-04-22 20:04:28,107 - INFO - Starting to upsert 0 records in batches of 1000\n"
     ]
    },
    {
     "name": "stderr",
     "output_type": "stream",
     "text": [
      "2025-04-22 20:04:28,108 - INFO - Processed 1630000/1643306 records\n"
     ]
    },
    {
     "name": "stderr",
     "output_type": "stream",
     "text": [
      "2025-04-22 20:04:28,120 - INFO - Starting to upsert 0 records in batches of 1000\n"
     ]
    },
    {
     "name": "stderr",
     "output_type": "stream",
     "text": [
      "2025-04-22 20:04:28,121 - INFO - Processed 1640000/1643306 records\n"
     ]
    },
    {
     "name": "stderr",
     "output_type": "stream",
     "text": [
      "2025-04-22 20:04:28,134 - INFO - Starting to upsert 0 records in batches of 1000\n"
     ]
    },
    {
     "name": "stderr",
     "output_type": "stream",
     "text": [
      "2025-04-22 20:04:28,135 - INFO - Processed 1643306/1643306 records\n"
     ]
    },
    {
     "name": "stderr",
     "output_type": "stream",
     "text": [
      "2025-04-22 20:04:28,136 - INFO - Completed customers.csv in 0:00:11.685036\n"
     ]
    },
    {
     "name": "stderr",
     "output_type": "stream",
     "text": [
      "2025-04-22 20:04:28,137 - INFO - Processing transactions.csv...\n"
     ]
    },
    {
     "name": "stderr",
     "output_type": "stream",
     "text": [
      "\r",
      "[Stage 31:============>                                          (45 + 4) / 192]\r"
     ]
    },
    {
     "name": "stderr",
     "output_type": "stream",
     "text": [
      "\r",
      "[Stage 31:================>                                      (58 + 4) / 192]\r"
     ]
    },
    {
     "name": "stderr",
     "output_type": "stream",
     "text": [
      "\r",
      "[Stage 31:====================>                                  (73 + 4) / 192]\r",
      "\r",
      "[Stage 31:========================>                              (85 + 4) / 192]\r"
     ]
    },
    {
     "name": "stderr",
     "output_type": "stream",
     "text": [
      "\r",
      "[Stage 31:============================>                         (101 + 4) / 192]\r",
      "\r",
      "[Stage 31:================================>                     (117 + 4) / 192]\r"
     ]
    },
    {
     "name": "stderr",
     "output_type": "stream",
     "text": [
      "\r",
      "[Stage 31:=====================================>                (135 + 4) / 192]\r",
      "\r",
      "[Stage 31:==========================================>           (150 + 4) / 192]\r"
     ]
    },
    {
     "name": "stderr",
     "output_type": "stream",
     "text": [
      "\r",
      "[Stage 31:==============================================>       (166 + 4) / 192]\r",
      "\r",
      "[Stage 31:====================================================> (185 + 4) / 192]\r"
     ]
    },
    {
     "name": "stderr",
     "output_type": "stream",
     "text": [
      "\r",
      "                                                                                \r",
      "2025-04-22 20:04:30,962 - INFO - Processed DataFrame schema: root\n",
      " |-- invoice_id: string (nullable = true)\n",
      " |-- line_number: integer (nullable = true)\n",
      " |-- customer_id: integer (nullable = true)\n",
      " |-- product_id: integer (nullable = true)\n",
      " |-- size: string (nullable = true)\n",
      " |-- color: string (nullable = true)\n",
      " |-- unit_price: double (nullable = true)\n",
      " |-- quantity: integer (nullable = true)\n",
      " |-- transaction_date: string (nullable = true)\n",
      " |-- discount: double (nullable = true)\n",
      " |-- line_total: double (nullable = true)\n",
      " |-- store_id: integer (nullable = true)\n",
      " |-- employee_id: integer (nullable = true)\n",
      " |-- currency: string (nullable = true)\n",
      " |-- currency_symbol: string (nullable = true)\n",
      " |-- sku: string (nullable = true)\n",
      " |-- transaction_type: string (nullable = true)\n",
      " |-- payment_method: string (nullable = true)\n",
      " |-- invoice_total: double (nullable = true)\n",
      " |-- is_return: boolean (nullable = true)\n",
      "\n"
     ]
    },
    {
     "name": "stderr",
     "output_type": "stream",
     "text": [
      "\r",
      "[Stage 32:=======================>                               (81 + 5) / 192]\r"
     ]
    },
    {
     "name": "stderr",
     "output_type": "stream",
     "text": [
      "\r",
      "[Stage 32:===============================>                      (111 + 4) / 192]\r",
      "\r",
      "[Stage 32:========================================>             (143 + 4) / 192]\r"
     ]
    },
    {
     "name": "stderr",
     "output_type": "stream",
     "text": [
      "\r",
      "[Stage 32:================================================>     (174 + 4) / 192]\r",
      "\r",
      "                                                                                \r",
      "2025-04-22 20:04:32,285 - INFO - Processing 6416827 records for table transaction\n"
     ]
    },
    {
     "name": "stderr",
     "output_type": "stream",
     "text": [
      "2025-04-22 20:04:32,671 - INFO - Starting to upsert 10000 records in batches of 1000\n"
     ]
    },
    {
     "name": "stderr",
     "output_type": "stream",
     "text": [
      "2025-04-22 20:04:32,838 - INFO - Successfully inserted batch 1/10\n"
     ]
    },
    {
     "name": "stderr",
     "output_type": "stream",
     "text": [
      "2025-04-22 20:04:32,990 - INFO - Successfully inserted batch 2/10\n"
     ]
    },
    {
     "name": "stderr",
     "output_type": "stream",
     "text": [
      "2025-04-22 20:04:33,141 - INFO - Successfully inserted batch 3/10\n"
     ]
    },
    {
     "name": "stderr",
     "output_type": "stream",
     "text": [
      "2025-04-22 20:04:33,283 - INFO - Successfully inserted batch 4/10\n"
     ]
    },
    {
     "name": "stderr",
     "output_type": "stream",
     "text": [
      "2025-04-22 20:04:33,475 - INFO - Successfully inserted batch 5/10\n"
     ]
    },
    {
     "name": "stderr",
     "output_type": "stream",
     "text": [
      "2025-04-22 20:04:33,658 - INFO - Successfully inserted batch 6/10\n"
     ]
    },
    {
     "name": "stderr",
     "output_type": "stream",
     "text": [
      "2025-04-22 20:04:33,816 - INFO - Successfully inserted batch 7/10\n"
     ]
    },
    {
     "name": "stderr",
     "output_type": "stream",
     "text": [
      "2025-04-22 20:04:33,945 - INFO - Successfully inserted batch 8/10\n"
     ]
    },
    {
     "name": "stderr",
     "output_type": "stream",
     "text": [
      "2025-04-22 20:04:34,077 - INFO - Successfully inserted batch 9/10\n"
     ]
    },
    {
     "name": "stderr",
     "output_type": "stream",
     "text": [
      "2025-04-22 20:04:34,220 - INFO - Successfully inserted batch 10/10\n"
     ]
    },
    {
     "name": "stderr",
     "output_type": "stream",
     "text": [
      "2025-04-22 20:04:34,221 - INFO - Processed 10000/6416827 records\n"
     ]
    },
    {
     "name": "stderr",
     "output_type": "stream",
     "text": [
      "2025-04-22 20:04:34,238 - INFO - Starting to upsert 0 records in batches of 1000\n"
     ]
    },
    {
     "name": "stderr",
     "output_type": "stream",
     "text": [
      "2025-04-22 20:04:34,239 - INFO - Processed 20000/6416827 records\n"
     ]
    },
    {
     "name": "stderr",
     "output_type": "stream",
     "text": [
      "2025-04-22 20:04:34,251 - INFO - Starting to upsert 0 records in batches of 1000\n"
     ]
    },
    {
     "name": "stderr",
     "output_type": "stream",
     "text": [
      "2025-04-22 20:04:34,252 - INFO - Processed 30000/6416827 records\n"
     ]
    },
    {
     "name": "stderr",
     "output_type": "stream",
     "text": [
      "2025-04-22 20:04:34,265 - INFO - Starting to upsert 0 records in batches of 1000\n"
     ]
    },
    {
     "name": "stderr",
     "output_type": "stream",
     "text": [
      "2025-04-22 20:04:34,265 - INFO - Processed 40000/6416827 records\n"
     ]
    },
    {
     "name": "stderr",
     "output_type": "stream",
     "text": [
      "2025-04-22 20:04:34,279 - INFO - Starting to upsert 0 records in batches of 1000\n"
     ]
    },
    {
     "name": "stderr",
     "output_type": "stream",
     "text": [
      "2025-04-22 20:04:34,279 - INFO - Processed 50000/6416827 records\n"
     ]
    },
    {
     "name": "stderr",
     "output_type": "stream",
     "text": [
      "2025-04-22 20:04:34,292 - INFO - Starting to upsert 0 records in batches of 1000\n"
     ]
    },
    {
     "name": "stderr",
     "output_type": "stream",
     "text": [
      "2025-04-22 20:04:34,292 - INFO - Processed 60000/6416827 records\n"
     ]
    },
    {
     "name": "stderr",
     "output_type": "stream",
     "text": [
      "2025-04-22 20:04:34,303 - INFO - Starting to upsert 0 records in batches of 1000\n"
     ]
    },
    {
     "name": "stderr",
     "output_type": "stream",
     "text": [
      "2025-04-22 20:04:34,304 - INFO - Processed 70000/6416827 records\n"
     ]
    },
    {
     "name": "stderr",
     "output_type": "stream",
     "text": [
      "2025-04-22 20:04:34,318 - INFO - Starting to upsert 0 records in batches of 1000\n"
     ]
    },
    {
     "name": "stderr",
     "output_type": "stream",
     "text": [
      "2025-04-22 20:04:34,319 - INFO - Processed 80000/6416827 records\n"
     ]
    },
    {
     "name": "stderr",
     "output_type": "stream",
     "text": [
      "2025-04-22 20:04:34,331 - INFO - Starting to upsert 0 records in batches of 1000\n"
     ]
    },
    {
     "name": "stderr",
     "output_type": "stream",
     "text": [
      "2025-04-22 20:04:34,331 - INFO - Processed 90000/6416827 records\n"
     ]
    },
    {
     "name": "stderr",
     "output_type": "stream",
     "text": [
      "2025-04-22 20:04:34,343 - INFO - Starting to upsert 0 records in batches of 1000\n"
     ]
    },
    {
     "name": "stderr",
     "output_type": "stream",
     "text": [
      "2025-04-22 20:04:34,344 - INFO - Processed 100000/6416827 records\n"
     ]
    },
    {
     "name": "stderr",
     "output_type": "stream",
     "text": [
      "2025-04-22 20:04:34,356 - INFO - Starting to upsert 0 records in batches of 1000\n"
     ]
    },
    {
     "name": "stderr",
     "output_type": "stream",
     "text": [
      "2025-04-22 20:04:34,356 - INFO - Processed 110000/6416827 records\n"
     ]
    },
    {
     "name": "stderr",
     "output_type": "stream",
     "text": [
      "2025-04-22 20:04:34,368 - INFO - Starting to upsert 0 records in batches of 1000\n"
     ]
    },
    {
     "name": "stderr",
     "output_type": "stream",
     "text": [
      "2025-04-22 20:04:34,369 - INFO - Processed 120000/6416827 records\n"
     ]
    },
    {
     "name": "stderr",
     "output_type": "stream",
     "text": [
      "2025-04-22 20:04:34,380 - INFO - Starting to upsert 0 records in batches of 1000\n"
     ]
    },
    {
     "name": "stderr",
     "output_type": "stream",
     "text": [
      "2025-04-22 20:04:34,381 - INFO - Processed 130000/6416827 records\n"
     ]
    },
    {
     "name": "stderr",
     "output_type": "stream",
     "text": [
      "2025-04-22 20:04:34,393 - INFO - Starting to upsert 0 records in batches of 1000\n"
     ]
    },
    {
     "name": "stderr",
     "output_type": "stream",
     "text": [
      "2025-04-22 20:04:34,394 - INFO - Processed 140000/6416827 records\n"
     ]
    },
    {
     "name": "stderr",
     "output_type": "stream",
     "text": [
      "2025-04-22 20:04:34,408 - INFO - Starting to upsert 0 records in batches of 1000\n"
     ]
    },
    {
     "name": "stderr",
     "output_type": "stream",
     "text": [
      "2025-04-22 20:04:34,409 - INFO - Processed 150000/6416827 records\n"
     ]
    },
    {
     "name": "stderr",
     "output_type": "stream",
     "text": [
      "2025-04-22 20:04:34,423 - INFO - Starting to upsert 0 records in batches of 1000\n"
     ]
    },
    {
     "name": "stderr",
     "output_type": "stream",
     "text": [
      "2025-04-22 20:04:34,423 - INFO - Processed 160000/6416827 records\n"
     ]
    },
    {
     "name": "stderr",
     "output_type": "stream",
     "text": [
      "2025-04-22 20:04:34,435 - INFO - Starting to upsert 0 records in batches of 1000\n"
     ]
    },
    {
     "name": "stderr",
     "output_type": "stream",
     "text": [
      "2025-04-22 20:04:34,436 - INFO - Processed 170000/6416827 records\n"
     ]
    },
    {
     "name": "stderr",
     "output_type": "stream",
     "text": [
      "2025-04-22 20:04:34,450 - INFO - Starting to upsert 0 records in batches of 1000\n"
     ]
    },
    {
     "name": "stderr",
     "output_type": "stream",
     "text": [
      "2025-04-22 20:04:34,452 - INFO - Processed 180000/6416827 records\n"
     ]
    },
    {
     "name": "stderr",
     "output_type": "stream",
     "text": [
      "2025-04-22 20:04:34,465 - INFO - Starting to upsert 0 records in batches of 1000\n"
     ]
    },
    {
     "name": "stderr",
     "output_type": "stream",
     "text": [
      "2025-04-22 20:04:34,466 - INFO - Processed 190000/6416827 records\n"
     ]
    },
    {
     "name": "stderr",
     "output_type": "stream",
     "text": [
      "2025-04-22 20:04:34,480 - INFO - Starting to upsert 0 records in batches of 1000\n"
     ]
    },
    {
     "name": "stderr",
     "output_type": "stream",
     "text": [
      "2025-04-22 20:04:34,480 - INFO - Processed 200000/6416827 records\n"
     ]
    },
    {
     "name": "stderr",
     "output_type": "stream",
     "text": [
      "2025-04-22 20:04:34,494 - INFO - Starting to upsert 0 records in batches of 1000\n"
     ]
    },
    {
     "name": "stderr",
     "output_type": "stream",
     "text": [
      "2025-04-22 20:04:34,495 - INFO - Processed 210000/6416827 records\n"
     ]
    },
    {
     "name": "stderr",
     "output_type": "stream",
     "text": [
      "2025-04-22 20:04:34,510 - INFO - Starting to upsert 0 records in batches of 1000\n"
     ]
    },
    {
     "name": "stderr",
     "output_type": "stream",
     "text": [
      "2025-04-22 20:04:34,511 - INFO - Processed 220000/6416827 records\n"
     ]
    },
    {
     "name": "stderr",
     "output_type": "stream",
     "text": [
      "2025-04-22 20:04:34,525 - INFO - Starting to upsert 0 records in batches of 1000\n"
     ]
    },
    {
     "name": "stderr",
     "output_type": "stream",
     "text": [
      "2025-04-22 20:04:34,526 - INFO - Processed 230000/6416827 records\n"
     ]
    },
    {
     "name": "stderr",
     "output_type": "stream",
     "text": [
      "2025-04-22 20:04:34,541 - INFO - Starting to upsert 0 records in batches of 1000\n"
     ]
    },
    {
     "name": "stderr",
     "output_type": "stream",
     "text": [
      "2025-04-22 20:04:34,541 - INFO - Processed 240000/6416827 records\n"
     ]
    },
    {
     "name": "stderr",
     "output_type": "stream",
     "text": [
      "2025-04-22 20:04:34,557 - INFO - Starting to upsert 0 records in batches of 1000\n"
     ]
    },
    {
     "name": "stderr",
     "output_type": "stream",
     "text": [
      "2025-04-22 20:04:34,558 - INFO - Processed 250000/6416827 records\n"
     ]
    },
    {
     "name": "stderr",
     "output_type": "stream",
     "text": [
      "2025-04-22 20:04:34,576 - INFO - Starting to upsert 0 records in batches of 1000\n"
     ]
    },
    {
     "name": "stderr",
     "output_type": "stream",
     "text": [
      "2025-04-22 20:04:34,577 - INFO - Processed 260000/6416827 records\n"
     ]
    },
    {
     "name": "stderr",
     "output_type": "stream",
     "text": [
      "2025-04-22 20:04:34,592 - INFO - Starting to upsert 0 records in batches of 1000\n"
     ]
    },
    {
     "name": "stderr",
     "output_type": "stream",
     "text": [
      "2025-04-22 20:04:34,592 - INFO - Processed 270000/6416827 records\n"
     ]
    },
    {
     "name": "stderr",
     "output_type": "stream",
     "text": [
      "2025-04-22 20:04:34,607 - INFO - Starting to upsert 0 records in batches of 1000\n"
     ]
    },
    {
     "name": "stderr",
     "output_type": "stream",
     "text": [
      "2025-04-22 20:04:34,608 - INFO - Processed 280000/6416827 records\n"
     ]
    },
    {
     "name": "stderr",
     "output_type": "stream",
     "text": [
      "2025-04-22 20:04:34,622 - INFO - Starting to upsert 0 records in batches of 1000\n"
     ]
    },
    {
     "name": "stderr",
     "output_type": "stream",
     "text": [
      "2025-04-22 20:04:34,623 - INFO - Processed 290000/6416827 records\n"
     ]
    },
    {
     "name": "stderr",
     "output_type": "stream",
     "text": [
      "2025-04-22 20:04:34,636 - INFO - Starting to upsert 0 records in batches of 1000\n"
     ]
    },
    {
     "name": "stderr",
     "output_type": "stream",
     "text": [
      "2025-04-22 20:04:34,637 - INFO - Processed 300000/6416827 records\n"
     ]
    },
    {
     "name": "stderr",
     "output_type": "stream",
     "text": [
      "2025-04-22 20:04:34,650 - INFO - Starting to upsert 0 records in batches of 1000\n"
     ]
    },
    {
     "name": "stderr",
     "output_type": "stream",
     "text": [
      "2025-04-22 20:04:34,650 - INFO - Processed 310000/6416827 records\n"
     ]
    },
    {
     "name": "stderr",
     "output_type": "stream",
     "text": [
      "2025-04-22 20:04:34,663 - INFO - Starting to upsert 0 records in batches of 1000\n"
     ]
    },
    {
     "name": "stderr",
     "output_type": "stream",
     "text": [
      "2025-04-22 20:04:34,664 - INFO - Processed 320000/6416827 records\n"
     ]
    },
    {
     "name": "stderr",
     "output_type": "stream",
     "text": [
      "2025-04-22 20:04:34,676 - INFO - Starting to upsert 0 records in batches of 1000\n"
     ]
    },
    {
     "name": "stderr",
     "output_type": "stream",
     "text": [
      "2025-04-22 20:04:34,677 - INFO - Processed 330000/6416827 records\n"
     ]
    },
    {
     "name": "stderr",
     "output_type": "stream",
     "text": [
      "2025-04-22 20:04:34,689 - INFO - Starting to upsert 0 records in batches of 1000\n"
     ]
    },
    {
     "name": "stderr",
     "output_type": "stream",
     "text": [
      "2025-04-22 20:04:34,690 - INFO - Processed 340000/6416827 records\n"
     ]
    },
    {
     "name": "stderr",
     "output_type": "stream",
     "text": [
      "2025-04-22 20:04:34,701 - INFO - Starting to upsert 0 records in batches of 1000\n"
     ]
    },
    {
     "name": "stderr",
     "output_type": "stream",
     "text": [
      "2025-04-22 20:04:34,701 - INFO - Processed 350000/6416827 records\n"
     ]
    },
    {
     "name": "stderr",
     "output_type": "stream",
     "text": [
      "2025-04-22 20:04:34,714 - INFO - Starting to upsert 0 records in batches of 1000\n"
     ]
    },
    {
     "name": "stderr",
     "output_type": "stream",
     "text": [
      "2025-04-22 20:04:34,715 - INFO - Processed 360000/6416827 records\n"
     ]
    },
    {
     "name": "stderr",
     "output_type": "stream",
     "text": [
      "2025-04-22 20:04:34,729 - INFO - Starting to upsert 0 records in batches of 1000\n"
     ]
    },
    {
     "name": "stderr",
     "output_type": "stream",
     "text": [
      "2025-04-22 20:04:34,730 - INFO - Processed 370000/6416827 records\n"
     ]
    },
    {
     "name": "stderr",
     "output_type": "stream",
     "text": [
      "2025-04-22 20:04:34,744 - INFO - Starting to upsert 0 records in batches of 1000\n"
     ]
    },
    {
     "name": "stderr",
     "output_type": "stream",
     "text": [
      "2025-04-22 20:04:34,745 - INFO - Processed 380000/6416827 records\n"
     ]
    },
    {
     "name": "stderr",
     "output_type": "stream",
     "text": [
      "2025-04-22 20:04:34,758 - INFO - Starting to upsert 0 records in batches of 1000\n"
     ]
    },
    {
     "name": "stderr",
     "output_type": "stream",
     "text": [
      "2025-04-22 20:04:34,758 - INFO - Processed 390000/6416827 records\n"
     ]
    },
    {
     "name": "stderr",
     "output_type": "stream",
     "text": [
      "2025-04-22 20:04:34,772 - INFO - Starting to upsert 0 records in batches of 1000\n"
     ]
    },
    {
     "name": "stderr",
     "output_type": "stream",
     "text": [
      "2025-04-22 20:04:34,772 - INFO - Processed 400000/6416827 records\n"
     ]
    },
    {
     "name": "stderr",
     "output_type": "stream",
     "text": [
      "2025-04-22 20:04:34,784 - INFO - Starting to upsert 0 records in batches of 1000\n"
     ]
    },
    {
     "name": "stderr",
     "output_type": "stream",
     "text": [
      "2025-04-22 20:04:34,785 - INFO - Processed 410000/6416827 records\n"
     ]
    },
    {
     "name": "stderr",
     "output_type": "stream",
     "text": [
      "2025-04-22 20:04:34,796 - INFO - Starting to upsert 0 records in batches of 1000\n"
     ]
    },
    {
     "name": "stderr",
     "output_type": "stream",
     "text": [
      "2025-04-22 20:04:34,797 - INFO - Processed 420000/6416827 records\n"
     ]
    },
    {
     "name": "stderr",
     "output_type": "stream",
     "text": [
      "2025-04-22 20:04:34,809 - INFO - Starting to upsert 0 records in batches of 1000\n"
     ]
    },
    {
     "name": "stderr",
     "output_type": "stream",
     "text": [
      "2025-04-22 20:04:34,810 - INFO - Processed 430000/6416827 records\n"
     ]
    },
    {
     "name": "stderr",
     "output_type": "stream",
     "text": [
      "2025-04-22 20:04:34,825 - INFO - Starting to upsert 0 records in batches of 1000\n"
     ]
    },
    {
     "name": "stderr",
     "output_type": "stream",
     "text": [
      "2025-04-22 20:04:34,826 - INFO - Processed 440000/6416827 records\n"
     ]
    },
    {
     "name": "stderr",
     "output_type": "stream",
     "text": [
      "2025-04-22 20:04:34,840 - INFO - Starting to upsert 0 records in batches of 1000\n"
     ]
    },
    {
     "name": "stderr",
     "output_type": "stream",
     "text": [
      "2025-04-22 20:04:34,841 - INFO - Processed 450000/6416827 records\n"
     ]
    },
    {
     "name": "stderr",
     "output_type": "stream",
     "text": [
      "2025-04-22 20:04:34,855 - INFO - Starting to upsert 0 records in batches of 1000\n"
     ]
    },
    {
     "name": "stderr",
     "output_type": "stream",
     "text": [
      "2025-04-22 20:04:34,856 - INFO - Processed 460000/6416827 records\n"
     ]
    },
    {
     "name": "stderr",
     "output_type": "stream",
     "text": [
      "2025-04-22 20:04:34,867 - INFO - Starting to upsert 0 records in batches of 1000\n"
     ]
    },
    {
     "name": "stderr",
     "output_type": "stream",
     "text": [
      "2025-04-22 20:04:34,867 - INFO - Processed 470000/6416827 records\n"
     ]
    },
    {
     "name": "stderr",
     "output_type": "stream",
     "text": [
      "2025-04-22 20:04:34,880 - INFO - Starting to upsert 0 records in batches of 1000\n"
     ]
    },
    {
     "name": "stderr",
     "output_type": "stream",
     "text": [
      "2025-04-22 20:04:34,881 - INFO - Processed 480000/6416827 records\n"
     ]
    },
    {
     "name": "stderr",
     "output_type": "stream",
     "text": [
      "2025-04-22 20:04:34,893 - INFO - Starting to upsert 0 records in batches of 1000\n"
     ]
    },
    {
     "name": "stderr",
     "output_type": "stream",
     "text": [
      "2025-04-22 20:04:34,894 - INFO - Processed 490000/6416827 records\n"
     ]
    },
    {
     "name": "stderr",
     "output_type": "stream",
     "text": [
      "2025-04-22 20:04:34,908 - INFO - Starting to upsert 0 records in batches of 1000\n"
     ]
    },
    {
     "name": "stderr",
     "output_type": "stream",
     "text": [
      "2025-04-22 20:04:34,908 - INFO - Processed 500000/6416827 records\n"
     ]
    },
    {
     "name": "stderr",
     "output_type": "stream",
     "text": [
      "2025-04-22 20:04:34,920 - INFO - Starting to upsert 0 records in batches of 1000\n"
     ]
    },
    {
     "name": "stderr",
     "output_type": "stream",
     "text": [
      "2025-04-22 20:04:34,921 - INFO - Processed 510000/6416827 records\n"
     ]
    },
    {
     "name": "stderr",
     "output_type": "stream",
     "text": [
      "2025-04-22 20:04:34,932 - INFO - Starting to upsert 0 records in batches of 1000\n"
     ]
    },
    {
     "name": "stderr",
     "output_type": "stream",
     "text": [
      "2025-04-22 20:04:34,933 - INFO - Processed 520000/6416827 records\n"
     ]
    },
    {
     "name": "stderr",
     "output_type": "stream",
     "text": [
      "2025-04-22 20:04:34,943 - INFO - Starting to upsert 0 records in batches of 1000\n"
     ]
    },
    {
     "name": "stderr",
     "output_type": "stream",
     "text": [
      "2025-04-22 20:04:34,944 - INFO - Processed 530000/6416827 records\n"
     ]
    },
    {
     "name": "stderr",
     "output_type": "stream",
     "text": [
      "2025-04-22 20:04:34,955 - INFO - Starting to upsert 0 records in batches of 1000\n"
     ]
    },
    {
     "name": "stderr",
     "output_type": "stream",
     "text": [
      "2025-04-22 20:04:34,956 - INFO - Processed 540000/6416827 records\n"
     ]
    },
    {
     "name": "stderr",
     "output_type": "stream",
     "text": [
      "2025-04-22 20:04:34,970 - INFO - Starting to upsert 0 records in batches of 1000\n"
     ]
    },
    {
     "name": "stderr",
     "output_type": "stream",
     "text": [
      "2025-04-22 20:04:34,970 - INFO - Processed 550000/6416827 records\n"
     ]
    },
    {
     "name": "stderr",
     "output_type": "stream",
     "text": [
      "2025-04-22 20:04:34,983 - INFO - Starting to upsert 0 records in batches of 1000\n"
     ]
    },
    {
     "name": "stderr",
     "output_type": "stream",
     "text": [
      "2025-04-22 20:04:34,983 - INFO - Processed 560000/6416827 records\n"
     ]
    },
    {
     "name": "stderr",
     "output_type": "stream",
     "text": [
      "2025-04-22 20:04:34,995 - INFO - Starting to upsert 0 records in batches of 1000\n"
     ]
    },
    {
     "name": "stderr",
     "output_type": "stream",
     "text": [
      "2025-04-22 20:04:34,996 - INFO - Processed 570000/6416827 records\n"
     ]
    },
    {
     "name": "stderr",
     "output_type": "stream",
     "text": [
      "2025-04-22 20:04:35,008 - INFO - Starting to upsert 0 records in batches of 1000\n"
     ]
    },
    {
     "name": "stderr",
     "output_type": "stream",
     "text": [
      "2025-04-22 20:04:35,008 - INFO - Processed 580000/6416827 records\n"
     ]
    },
    {
     "name": "stderr",
     "output_type": "stream",
     "text": [
      "2025-04-22 20:04:35,020 - INFO - Starting to upsert 0 records in batches of 1000\n"
     ]
    },
    {
     "name": "stderr",
     "output_type": "stream",
     "text": [
      "2025-04-22 20:04:35,021 - INFO - Processed 590000/6416827 records\n"
     ]
    },
    {
     "name": "stderr",
     "output_type": "stream",
     "text": [
      "2025-04-22 20:04:35,034 - INFO - Starting to upsert 0 records in batches of 1000\n"
     ]
    },
    {
     "name": "stderr",
     "output_type": "stream",
     "text": [
      "2025-04-22 20:04:35,035 - INFO - Processed 600000/6416827 records\n"
     ]
    },
    {
     "name": "stderr",
     "output_type": "stream",
     "text": [
      "2025-04-22 20:04:35,048 - INFO - Starting to upsert 0 records in batches of 1000\n"
     ]
    },
    {
     "name": "stderr",
     "output_type": "stream",
     "text": [
      "2025-04-22 20:04:35,049 - INFO - Processed 610000/6416827 records\n"
     ]
    },
    {
     "name": "stderr",
     "output_type": "stream",
     "text": [
      "2025-04-22 20:04:35,062 - INFO - Starting to upsert 0 records in batches of 1000\n"
     ]
    },
    {
     "name": "stderr",
     "output_type": "stream",
     "text": [
      "2025-04-22 20:04:35,063 - INFO - Processed 620000/6416827 records\n"
     ]
    },
    {
     "name": "stderr",
     "output_type": "stream",
     "text": [
      "2025-04-22 20:04:35,076 - INFO - Starting to upsert 0 records in batches of 1000\n"
     ]
    },
    {
     "name": "stderr",
     "output_type": "stream",
     "text": [
      "2025-04-22 20:04:35,077 - INFO - Processed 630000/6416827 records\n"
     ]
    },
    {
     "name": "stderr",
     "output_type": "stream",
     "text": [
      "2025-04-22 20:04:35,091 - INFO - Starting to upsert 0 records in batches of 1000\n"
     ]
    },
    {
     "name": "stderr",
     "output_type": "stream",
     "text": [
      "2025-04-22 20:04:35,092 - INFO - Processed 640000/6416827 records\n"
     ]
    },
    {
     "name": "stderr",
     "output_type": "stream",
     "text": [
      "2025-04-22 20:04:35,103 - INFO - Starting to upsert 0 records in batches of 1000\n"
     ]
    },
    {
     "name": "stderr",
     "output_type": "stream",
     "text": [
      "2025-04-22 20:04:35,104 - INFO - Processed 650000/6416827 records\n"
     ]
    },
    {
     "name": "stderr",
     "output_type": "stream",
     "text": [
      "2025-04-22 20:04:35,115 - INFO - Starting to upsert 0 records in batches of 1000\n"
     ]
    },
    {
     "name": "stderr",
     "output_type": "stream",
     "text": [
      "2025-04-22 20:04:35,116 - INFO - Processed 660000/6416827 records\n"
     ]
    },
    {
     "name": "stderr",
     "output_type": "stream",
     "text": [
      "2025-04-22 20:04:35,128 - INFO - Starting to upsert 0 records in batches of 1000\n"
     ]
    },
    {
     "name": "stderr",
     "output_type": "stream",
     "text": [
      "2025-04-22 20:04:35,128 - INFO - Processed 670000/6416827 records\n"
     ]
    },
    {
     "name": "stderr",
     "output_type": "stream",
     "text": [
      "2025-04-22 20:04:35,140 - INFO - Starting to upsert 0 records in batches of 1000\n"
     ]
    },
    {
     "name": "stderr",
     "output_type": "stream",
     "text": [
      "2025-04-22 20:04:35,141 - INFO - Processed 680000/6416827 records\n"
     ]
    },
    {
     "name": "stderr",
     "output_type": "stream",
     "text": [
      "2025-04-22 20:04:35,152 - INFO - Starting to upsert 0 records in batches of 1000\n"
     ]
    },
    {
     "name": "stderr",
     "output_type": "stream",
     "text": [
      "2025-04-22 20:04:35,152 - INFO - Processed 690000/6416827 records\n"
     ]
    },
    {
     "name": "stderr",
     "output_type": "stream",
     "text": [
      "2025-04-22 20:04:35,165 - INFO - Starting to upsert 0 records in batches of 1000\n"
     ]
    },
    {
     "name": "stderr",
     "output_type": "stream",
     "text": [
      "2025-04-22 20:04:35,166 - INFO - Processed 700000/6416827 records\n"
     ]
    },
    {
     "name": "stderr",
     "output_type": "stream",
     "text": [
      "2025-04-22 20:04:35,176 - INFO - Starting to upsert 0 records in batches of 1000\n"
     ]
    },
    {
     "name": "stderr",
     "output_type": "stream",
     "text": [
      "2025-04-22 20:04:35,177 - INFO - Processed 710000/6416827 records\n"
     ]
    },
    {
     "name": "stderr",
     "output_type": "stream",
     "text": [
      "2025-04-22 20:04:35,190 - INFO - Starting to upsert 0 records in batches of 1000\n"
     ]
    },
    {
     "name": "stderr",
     "output_type": "stream",
     "text": [
      "2025-04-22 20:04:35,190 - INFO - Processed 720000/6416827 records\n"
     ]
    },
    {
     "name": "stderr",
     "output_type": "stream",
     "text": [
      "2025-04-22 20:04:35,203 - INFO - Starting to upsert 0 records in batches of 1000\n"
     ]
    },
    {
     "name": "stderr",
     "output_type": "stream",
     "text": [
      "2025-04-22 20:04:35,204 - INFO - Processed 730000/6416827 records\n"
     ]
    },
    {
     "name": "stderr",
     "output_type": "stream",
     "text": [
      "2025-04-22 20:04:35,215 - INFO - Starting to upsert 0 records in batches of 1000\n"
     ]
    },
    {
     "name": "stderr",
     "output_type": "stream",
     "text": [
      "2025-04-22 20:04:35,216 - INFO - Processed 740000/6416827 records\n"
     ]
    },
    {
     "name": "stderr",
     "output_type": "stream",
     "text": [
      "2025-04-22 20:04:35,227 - INFO - Starting to upsert 0 records in batches of 1000\n"
     ]
    },
    {
     "name": "stderr",
     "output_type": "stream",
     "text": [
      "2025-04-22 20:04:35,228 - INFO - Processed 750000/6416827 records\n"
     ]
    },
    {
     "name": "stderr",
     "output_type": "stream",
     "text": [
      "2025-04-22 20:04:35,239 - INFO - Starting to upsert 0 records in batches of 1000\n"
     ]
    },
    {
     "name": "stderr",
     "output_type": "stream",
     "text": [
      "2025-04-22 20:04:35,240 - INFO - Processed 760000/6416827 records\n"
     ]
    },
    {
     "name": "stderr",
     "output_type": "stream",
     "text": [
      "2025-04-22 20:04:35,252 - INFO - Starting to upsert 0 records in batches of 1000\n"
     ]
    },
    {
     "name": "stderr",
     "output_type": "stream",
     "text": [
      "2025-04-22 20:04:35,252 - INFO - Processed 770000/6416827 records\n"
     ]
    },
    {
     "name": "stderr",
     "output_type": "stream",
     "text": [
      "2025-04-22 20:04:35,265 - INFO - Starting to upsert 0 records in batches of 1000\n"
     ]
    },
    {
     "name": "stderr",
     "output_type": "stream",
     "text": [
      "2025-04-22 20:04:35,266 - INFO - Processed 780000/6416827 records\n"
     ]
    },
    {
     "name": "stderr",
     "output_type": "stream",
     "text": [
      "2025-04-22 20:04:35,278 - INFO - Starting to upsert 0 records in batches of 1000\n"
     ]
    },
    {
     "name": "stderr",
     "output_type": "stream",
     "text": [
      "2025-04-22 20:04:35,279 - INFO - Processed 790000/6416827 records\n"
     ]
    },
    {
     "name": "stderr",
     "output_type": "stream",
     "text": [
      "2025-04-22 20:04:35,291 - INFO - Starting to upsert 0 records in batches of 1000\n"
     ]
    },
    {
     "name": "stderr",
     "output_type": "stream",
     "text": [
      "2025-04-22 20:04:35,292 - INFO - Processed 800000/6416827 records\n"
     ]
    },
    {
     "name": "stderr",
     "output_type": "stream",
     "text": [
      "2025-04-22 20:04:35,306 - INFO - Starting to upsert 0 records in batches of 1000\n"
     ]
    },
    {
     "name": "stderr",
     "output_type": "stream",
     "text": [
      "2025-04-22 20:04:35,307 - INFO - Processed 810000/6416827 records\n"
     ]
    },
    {
     "name": "stderr",
     "output_type": "stream",
     "text": [
      "2025-04-22 20:04:35,319 - INFO - Starting to upsert 0 records in batches of 1000\n"
     ]
    },
    {
     "name": "stderr",
     "output_type": "stream",
     "text": [
      "2025-04-22 20:04:35,320 - INFO - Processed 820000/6416827 records\n"
     ]
    },
    {
     "name": "stderr",
     "output_type": "stream",
     "text": [
      "2025-04-22 20:04:35,333 - INFO - Starting to upsert 0 records in batches of 1000\n"
     ]
    },
    {
     "name": "stderr",
     "output_type": "stream",
     "text": [
      "2025-04-22 20:04:35,334 - INFO - Processed 830000/6416827 records\n"
     ]
    },
    {
     "name": "stderr",
     "output_type": "stream",
     "text": [
      "2025-04-22 20:04:35,347 - INFO - Starting to upsert 0 records in batches of 1000\n"
     ]
    },
    {
     "name": "stderr",
     "output_type": "stream",
     "text": [
      "2025-04-22 20:04:35,348 - INFO - Processed 840000/6416827 records\n"
     ]
    },
    {
     "name": "stderr",
     "output_type": "stream",
     "text": [
      "2025-04-22 20:04:35,361 - INFO - Starting to upsert 0 records in batches of 1000\n"
     ]
    },
    {
     "name": "stderr",
     "output_type": "stream",
     "text": [
      "2025-04-22 20:04:35,362 - INFO - Processed 850000/6416827 records\n"
     ]
    },
    {
     "name": "stderr",
     "output_type": "stream",
     "text": [
      "2025-04-22 20:04:35,374 - INFO - Starting to upsert 0 records in batches of 1000\n"
     ]
    },
    {
     "name": "stderr",
     "output_type": "stream",
     "text": [
      "2025-04-22 20:04:35,375 - INFO - Processed 860000/6416827 records\n"
     ]
    },
    {
     "name": "stderr",
     "output_type": "stream",
     "text": [
      "2025-04-22 20:04:35,387 - INFO - Starting to upsert 0 records in batches of 1000\n"
     ]
    },
    {
     "name": "stderr",
     "output_type": "stream",
     "text": [
      "2025-04-22 20:04:35,388 - INFO - Processed 870000/6416827 records\n"
     ]
    },
    {
     "name": "stderr",
     "output_type": "stream",
     "text": [
      "2025-04-22 20:04:35,401 - INFO - Starting to upsert 0 records in batches of 1000\n"
     ]
    },
    {
     "name": "stderr",
     "output_type": "stream",
     "text": [
      "2025-04-22 20:04:35,401 - INFO - Processed 880000/6416827 records\n"
     ]
    },
    {
     "name": "stderr",
     "output_type": "stream",
     "text": [
      "2025-04-22 20:04:35,413 - INFO - Starting to upsert 0 records in batches of 1000\n"
     ]
    },
    {
     "name": "stderr",
     "output_type": "stream",
     "text": [
      "2025-04-22 20:04:35,414 - INFO - Processed 890000/6416827 records\n"
     ]
    },
    {
     "name": "stderr",
     "output_type": "stream",
     "text": [
      "2025-04-22 20:04:35,426 - INFO - Starting to upsert 0 records in batches of 1000\n"
     ]
    },
    {
     "name": "stderr",
     "output_type": "stream",
     "text": [
      "2025-04-22 20:04:35,426 - INFO - Processed 900000/6416827 records\n"
     ]
    },
    {
     "name": "stderr",
     "output_type": "stream",
     "text": [
      "2025-04-22 20:04:35,439 - INFO - Starting to upsert 0 records in batches of 1000\n"
     ]
    },
    {
     "name": "stderr",
     "output_type": "stream",
     "text": [
      "2025-04-22 20:04:35,440 - INFO - Processed 910000/6416827 records\n"
     ]
    },
    {
     "name": "stderr",
     "output_type": "stream",
     "text": [
      "2025-04-22 20:04:35,453 - INFO - Starting to upsert 0 records in batches of 1000\n"
     ]
    },
    {
     "name": "stderr",
     "output_type": "stream",
     "text": [
      "2025-04-22 20:04:35,454 - INFO - Processed 920000/6416827 records\n"
     ]
    },
    {
     "name": "stderr",
     "output_type": "stream",
     "text": [
      "2025-04-22 20:04:35,467 - INFO - Starting to upsert 0 records in batches of 1000\n"
     ]
    },
    {
     "name": "stderr",
     "output_type": "stream",
     "text": [
      "2025-04-22 20:04:35,468 - INFO - Processed 930000/6416827 records\n"
     ]
    },
    {
     "name": "stderr",
     "output_type": "stream",
     "text": [
      "2025-04-22 20:04:35,481 - INFO - Starting to upsert 0 records in batches of 1000\n"
     ]
    },
    {
     "name": "stderr",
     "output_type": "stream",
     "text": [
      "2025-04-22 20:04:35,482 - INFO - Processed 940000/6416827 records\n"
     ]
    },
    {
     "name": "stderr",
     "output_type": "stream",
     "text": [
      "2025-04-22 20:04:35,496 - INFO - Starting to upsert 0 records in batches of 1000\n"
     ]
    },
    {
     "name": "stderr",
     "output_type": "stream",
     "text": [
      "2025-04-22 20:04:35,497 - INFO - Processed 950000/6416827 records\n"
     ]
    },
    {
     "name": "stderr",
     "output_type": "stream",
     "text": [
      "2025-04-22 20:04:35,511 - INFO - Starting to upsert 0 records in batches of 1000\n"
     ]
    },
    {
     "name": "stderr",
     "output_type": "stream",
     "text": [
      "2025-04-22 20:04:35,512 - INFO - Processed 960000/6416827 records\n"
     ]
    },
    {
     "name": "stderr",
     "output_type": "stream",
     "text": [
      "2025-04-22 20:04:35,529 - INFO - Starting to upsert 0 records in batches of 1000\n"
     ]
    },
    {
     "name": "stderr",
     "output_type": "stream",
     "text": [
      "2025-04-22 20:04:35,529 - INFO - Processed 970000/6416827 records\n"
     ]
    },
    {
     "name": "stderr",
     "output_type": "stream",
     "text": [
      "2025-04-22 20:04:35,543 - INFO - Starting to upsert 0 records in batches of 1000\n"
     ]
    },
    {
     "name": "stderr",
     "output_type": "stream",
     "text": [
      "2025-04-22 20:04:35,543 - INFO - Processed 980000/6416827 records\n"
     ]
    },
    {
     "name": "stderr",
     "output_type": "stream",
     "text": [
      "2025-04-22 20:04:35,556 - INFO - Starting to upsert 0 records in batches of 1000\n"
     ]
    },
    {
     "name": "stderr",
     "output_type": "stream",
     "text": [
      "2025-04-22 20:04:35,557 - INFO - Processed 990000/6416827 records\n"
     ]
    },
    {
     "name": "stderr",
     "output_type": "stream",
     "text": [
      "2025-04-22 20:04:35,570 - INFO - Starting to upsert 0 records in batches of 1000\n"
     ]
    },
    {
     "name": "stderr",
     "output_type": "stream",
     "text": [
      "2025-04-22 20:04:35,570 - INFO - Processed 1000000/6416827 records\n"
     ]
    },
    {
     "name": "stderr",
     "output_type": "stream",
     "text": [
      "2025-04-22 20:04:35,582 - INFO - Starting to upsert 0 records in batches of 1000\n"
     ]
    },
    {
     "name": "stderr",
     "output_type": "stream",
     "text": [
      "2025-04-22 20:04:35,583 - INFO - Processed 1010000/6416827 records\n"
     ]
    },
    {
     "name": "stderr",
     "output_type": "stream",
     "text": [
      "2025-04-22 20:04:35,597 - INFO - Starting to upsert 0 records in batches of 1000\n"
     ]
    },
    {
     "name": "stderr",
     "output_type": "stream",
     "text": [
      "2025-04-22 20:04:35,597 - INFO - Processed 1020000/6416827 records\n"
     ]
    },
    {
     "name": "stderr",
     "output_type": "stream",
     "text": [
      "2025-04-22 20:04:35,609 - INFO - Starting to upsert 0 records in batches of 1000\n"
     ]
    },
    {
     "name": "stderr",
     "output_type": "stream",
     "text": [
      "2025-04-22 20:04:35,610 - INFO - Processed 1030000/6416827 records\n"
     ]
    },
    {
     "name": "stderr",
     "output_type": "stream",
     "text": [
      "2025-04-22 20:04:35,627 - INFO - Starting to upsert 0 records in batches of 1000\n"
     ]
    },
    {
     "name": "stderr",
     "output_type": "stream",
     "text": [
      "2025-04-22 20:04:35,627 - INFO - Processed 1040000/6416827 records\n"
     ]
    },
    {
     "name": "stderr",
     "output_type": "stream",
     "text": [
      "2025-04-22 20:04:35,641 - INFO - Starting to upsert 0 records in batches of 1000\n"
     ]
    },
    {
     "name": "stderr",
     "output_type": "stream",
     "text": [
      "2025-04-22 20:04:35,642 - INFO - Processed 1050000/6416827 records\n"
     ]
    },
    {
     "name": "stderr",
     "output_type": "stream",
     "text": [
      "2025-04-22 20:04:35,653 - INFO - Starting to upsert 0 records in batches of 1000\n"
     ]
    },
    {
     "name": "stderr",
     "output_type": "stream",
     "text": [
      "2025-04-22 20:04:35,654 - INFO - Processed 1060000/6416827 records\n"
     ]
    },
    {
     "name": "stderr",
     "output_type": "stream",
     "text": [
      "2025-04-22 20:04:35,667 - INFO - Starting to upsert 0 records in batches of 1000\n"
     ]
    },
    {
     "name": "stderr",
     "output_type": "stream",
     "text": [
      "2025-04-22 20:04:35,667 - INFO - Processed 1070000/6416827 records\n"
     ]
    },
    {
     "name": "stderr",
     "output_type": "stream",
     "text": [
      "2025-04-22 20:04:35,681 - INFO - Starting to upsert 0 records in batches of 1000\n"
     ]
    },
    {
     "name": "stderr",
     "output_type": "stream",
     "text": [
      "2025-04-22 20:04:35,682 - INFO - Processed 1080000/6416827 records\n"
     ]
    },
    {
     "name": "stderr",
     "output_type": "stream",
     "text": [
      "2025-04-22 20:04:35,694 - INFO - Starting to upsert 0 records in batches of 1000\n"
     ]
    },
    {
     "name": "stderr",
     "output_type": "stream",
     "text": [
      "2025-04-22 20:04:35,694 - INFO - Processed 1090000/6416827 records\n"
     ]
    },
    {
     "name": "stderr",
     "output_type": "stream",
     "text": [
      "2025-04-22 20:04:35,707 - INFO - Starting to upsert 0 records in batches of 1000\n"
     ]
    },
    {
     "name": "stderr",
     "output_type": "stream",
     "text": [
      "2025-04-22 20:04:35,707 - INFO - Processed 1100000/6416827 records\n"
     ]
    },
    {
     "name": "stderr",
     "output_type": "stream",
     "text": [
      "2025-04-22 20:04:35,719 - INFO - Starting to upsert 0 records in batches of 1000\n"
     ]
    },
    {
     "name": "stderr",
     "output_type": "stream",
     "text": [
      "2025-04-22 20:04:35,720 - INFO - Processed 1110000/6416827 records\n"
     ]
    },
    {
     "name": "stderr",
     "output_type": "stream",
     "text": [
      "2025-04-22 20:04:35,732 - INFO - Starting to upsert 0 records in batches of 1000\n"
     ]
    },
    {
     "name": "stderr",
     "output_type": "stream",
     "text": [
      "2025-04-22 20:04:35,733 - INFO - Processed 1120000/6416827 records\n"
     ]
    },
    {
     "name": "stderr",
     "output_type": "stream",
     "text": [
      "2025-04-22 20:04:35,746 - INFO - Starting to upsert 0 records in batches of 1000\n"
     ]
    },
    {
     "name": "stderr",
     "output_type": "stream",
     "text": [
      "2025-04-22 20:04:35,747 - INFO - Processed 1130000/6416827 records\n"
     ]
    },
    {
     "name": "stderr",
     "output_type": "stream",
     "text": [
      "2025-04-22 20:04:35,758 - INFO - Starting to upsert 0 records in batches of 1000\n"
     ]
    },
    {
     "name": "stderr",
     "output_type": "stream",
     "text": [
      "2025-04-22 20:04:35,758 - INFO - Processed 1140000/6416827 records\n"
     ]
    },
    {
     "name": "stderr",
     "output_type": "stream",
     "text": [
      "2025-04-22 20:04:35,769 - INFO - Starting to upsert 0 records in batches of 1000\n"
     ]
    },
    {
     "name": "stderr",
     "output_type": "stream",
     "text": [
      "2025-04-22 20:04:35,770 - INFO - Processed 1150000/6416827 records\n"
     ]
    },
    {
     "name": "stderr",
     "output_type": "stream",
     "text": [
      "2025-04-22 20:04:35,782 - INFO - Starting to upsert 0 records in batches of 1000\n"
     ]
    },
    {
     "name": "stderr",
     "output_type": "stream",
     "text": [
      "2025-04-22 20:04:35,783 - INFO - Processed 1160000/6416827 records\n"
     ]
    },
    {
     "name": "stderr",
     "output_type": "stream",
     "text": [
      "2025-04-22 20:04:35,795 - INFO - Starting to upsert 0 records in batches of 1000\n"
     ]
    },
    {
     "name": "stderr",
     "output_type": "stream",
     "text": [
      "2025-04-22 20:04:35,796 - INFO - Processed 1170000/6416827 records\n"
     ]
    },
    {
     "name": "stderr",
     "output_type": "stream",
     "text": [
      "2025-04-22 20:04:35,808 - INFO - Starting to upsert 0 records in batches of 1000\n"
     ]
    },
    {
     "name": "stderr",
     "output_type": "stream",
     "text": [
      "2025-04-22 20:04:35,808 - INFO - Processed 1180000/6416827 records\n"
     ]
    },
    {
     "name": "stderr",
     "output_type": "stream",
     "text": [
      "2025-04-22 20:04:35,820 - INFO - Starting to upsert 0 records in batches of 1000\n"
     ]
    },
    {
     "name": "stderr",
     "output_type": "stream",
     "text": [
      "2025-04-22 20:04:35,821 - INFO - Processed 1190000/6416827 records\n"
     ]
    },
    {
     "name": "stderr",
     "output_type": "stream",
     "text": [
      "2025-04-22 20:04:35,832 - INFO - Starting to upsert 0 records in batches of 1000\n"
     ]
    },
    {
     "name": "stderr",
     "output_type": "stream",
     "text": [
      "2025-04-22 20:04:35,833 - INFO - Processed 1200000/6416827 records\n"
     ]
    },
    {
     "name": "stderr",
     "output_type": "stream",
     "text": [
      "2025-04-22 20:04:35,846 - INFO - Starting to upsert 0 records in batches of 1000\n"
     ]
    },
    {
     "name": "stderr",
     "output_type": "stream",
     "text": [
      "2025-04-22 20:04:35,846 - INFO - Processed 1210000/6416827 records\n"
     ]
    },
    {
     "name": "stderr",
     "output_type": "stream",
     "text": [
      "2025-04-22 20:04:35,858 - INFO - Starting to upsert 0 records in batches of 1000\n"
     ]
    },
    {
     "name": "stderr",
     "output_type": "stream",
     "text": [
      "2025-04-22 20:04:35,859 - INFO - Processed 1220000/6416827 records\n"
     ]
    },
    {
     "name": "stderr",
     "output_type": "stream",
     "text": [
      "2025-04-22 20:04:35,870 - INFO - Starting to upsert 0 records in batches of 1000\n"
     ]
    },
    {
     "name": "stderr",
     "output_type": "stream",
     "text": [
      "2025-04-22 20:04:35,871 - INFO - Processed 1230000/6416827 records\n"
     ]
    },
    {
     "name": "stderr",
     "output_type": "stream",
     "text": [
      "2025-04-22 20:04:35,882 - INFO - Starting to upsert 0 records in batches of 1000\n"
     ]
    },
    {
     "name": "stderr",
     "output_type": "stream",
     "text": [
      "2025-04-22 20:04:35,883 - INFO - Processed 1240000/6416827 records\n"
     ]
    },
    {
     "name": "stderr",
     "output_type": "stream",
     "text": [
      "2025-04-22 20:04:35,894 - INFO - Starting to upsert 0 records in batches of 1000\n"
     ]
    },
    {
     "name": "stderr",
     "output_type": "stream",
     "text": [
      "2025-04-22 20:04:35,894 - INFO - Processed 1250000/6416827 records\n"
     ]
    },
    {
     "name": "stderr",
     "output_type": "stream",
     "text": [
      "2025-04-22 20:04:35,904 - INFO - Starting to upsert 0 records in batches of 1000\n"
     ]
    },
    {
     "name": "stderr",
     "output_type": "stream",
     "text": [
      "2025-04-22 20:04:35,905 - INFO - Processed 1260000/6416827 records\n"
     ]
    },
    {
     "name": "stderr",
     "output_type": "stream",
     "text": [
      "2025-04-22 20:04:35,916 - INFO - Starting to upsert 0 records in batches of 1000\n"
     ]
    },
    {
     "name": "stderr",
     "output_type": "stream",
     "text": [
      "2025-04-22 20:04:35,917 - INFO - Processed 1270000/6416827 records\n"
     ]
    },
    {
     "name": "stderr",
     "output_type": "stream",
     "text": [
      "2025-04-22 20:04:35,929 - INFO - Starting to upsert 0 records in batches of 1000\n"
     ]
    },
    {
     "name": "stderr",
     "output_type": "stream",
     "text": [
      "2025-04-22 20:04:35,929 - INFO - Processed 1280000/6416827 records\n"
     ]
    },
    {
     "name": "stderr",
     "output_type": "stream",
     "text": [
      "2025-04-22 20:04:35,941 - INFO - Starting to upsert 0 records in batches of 1000\n"
     ]
    },
    {
     "name": "stderr",
     "output_type": "stream",
     "text": [
      "2025-04-22 20:04:35,942 - INFO - Processed 1290000/6416827 records\n"
     ]
    },
    {
     "name": "stderr",
     "output_type": "stream",
     "text": [
      "2025-04-22 20:04:35,954 - INFO - Starting to upsert 0 records in batches of 1000\n"
     ]
    },
    {
     "name": "stderr",
     "output_type": "stream",
     "text": [
      "2025-04-22 20:04:35,954 - INFO - Processed 1300000/6416827 records\n"
     ]
    },
    {
     "name": "stderr",
     "output_type": "stream",
     "text": [
      "2025-04-22 20:04:35,965 - INFO - Starting to upsert 0 records in batches of 1000\n"
     ]
    },
    {
     "name": "stderr",
     "output_type": "stream",
     "text": [
      "2025-04-22 20:04:35,966 - INFO - Processed 1310000/6416827 records\n"
     ]
    },
    {
     "name": "stderr",
     "output_type": "stream",
     "text": [
      "2025-04-22 20:04:35,976 - INFO - Starting to upsert 0 records in batches of 1000\n"
     ]
    },
    {
     "name": "stderr",
     "output_type": "stream",
     "text": [
      "2025-04-22 20:04:35,977 - INFO - Processed 1320000/6416827 records\n"
     ]
    },
    {
     "name": "stderr",
     "output_type": "stream",
     "text": [
      "2025-04-22 20:04:35,988 - INFO - Starting to upsert 0 records in batches of 1000\n"
     ]
    },
    {
     "name": "stderr",
     "output_type": "stream",
     "text": [
      "2025-04-22 20:04:35,988 - INFO - Processed 1330000/6416827 records\n"
     ]
    },
    {
     "name": "stderr",
     "output_type": "stream",
     "text": [
      "2025-04-22 20:04:35,999 - INFO - Starting to upsert 0 records in batches of 1000\n"
     ]
    },
    {
     "name": "stderr",
     "output_type": "stream",
     "text": [
      "2025-04-22 20:04:36,000 - INFO - Processed 1340000/6416827 records\n"
     ]
    },
    {
     "name": "stderr",
     "output_type": "stream",
     "text": [
      "2025-04-22 20:04:36,013 - INFO - Starting to upsert 0 records in batches of 1000\n"
     ]
    },
    {
     "name": "stderr",
     "output_type": "stream",
     "text": [
      "2025-04-22 20:04:36,014 - INFO - Processed 1350000/6416827 records\n"
     ]
    },
    {
     "name": "stderr",
     "output_type": "stream",
     "text": [
      "2025-04-22 20:04:36,026 - INFO - Starting to upsert 0 records in batches of 1000\n"
     ]
    },
    {
     "name": "stderr",
     "output_type": "stream",
     "text": [
      "2025-04-22 20:04:36,027 - INFO - Processed 1360000/6416827 records\n"
     ]
    },
    {
     "name": "stderr",
     "output_type": "stream",
     "text": [
      "2025-04-22 20:04:36,040 - INFO - Starting to upsert 0 records in batches of 1000\n"
     ]
    },
    {
     "name": "stderr",
     "output_type": "stream",
     "text": [
      "2025-04-22 20:04:36,041 - INFO - Processed 1370000/6416827 records\n"
     ]
    },
    {
     "name": "stderr",
     "output_type": "stream",
     "text": [
      "2025-04-22 20:04:36,054 - INFO - Starting to upsert 0 records in batches of 1000\n"
     ]
    },
    {
     "name": "stderr",
     "output_type": "stream",
     "text": [
      "2025-04-22 20:04:36,054 - INFO - Processed 1380000/6416827 records\n"
     ]
    },
    {
     "name": "stderr",
     "output_type": "stream",
     "text": [
      "2025-04-22 20:04:36,066 - INFO - Starting to upsert 0 records in batches of 1000\n"
     ]
    },
    {
     "name": "stderr",
     "output_type": "stream",
     "text": [
      "2025-04-22 20:04:36,067 - INFO - Processed 1390000/6416827 records\n"
     ]
    },
    {
     "name": "stderr",
     "output_type": "stream",
     "text": [
      "2025-04-22 20:04:36,080 - INFO - Starting to upsert 0 records in batches of 1000\n"
     ]
    },
    {
     "name": "stderr",
     "output_type": "stream",
     "text": [
      "2025-04-22 20:04:36,081 - INFO - Processed 1400000/6416827 records\n"
     ]
    },
    {
     "name": "stderr",
     "output_type": "stream",
     "text": [
      "2025-04-22 20:04:36,093 - INFO - Starting to upsert 0 records in batches of 1000\n"
     ]
    },
    {
     "name": "stderr",
     "output_type": "stream",
     "text": [
      "2025-04-22 20:04:36,094 - INFO - Processed 1410000/6416827 records\n"
     ]
    },
    {
     "name": "stderr",
     "output_type": "stream",
     "text": [
      "2025-04-22 20:04:36,108 - INFO - Starting to upsert 0 records in batches of 1000\n"
     ]
    },
    {
     "name": "stderr",
     "output_type": "stream",
     "text": [
      "2025-04-22 20:04:36,108 - INFO - Processed 1420000/6416827 records\n"
     ]
    },
    {
     "name": "stderr",
     "output_type": "stream",
     "text": [
      "2025-04-22 20:04:36,120 - INFO - Starting to upsert 0 records in batches of 1000\n"
     ]
    },
    {
     "name": "stderr",
     "output_type": "stream",
     "text": [
      "2025-04-22 20:04:36,120 - INFO - Processed 1430000/6416827 records\n"
     ]
    },
    {
     "name": "stderr",
     "output_type": "stream",
     "text": [
      "2025-04-22 20:04:36,131 - INFO - Starting to upsert 0 records in batches of 1000\n"
     ]
    },
    {
     "name": "stderr",
     "output_type": "stream",
     "text": [
      "2025-04-22 20:04:36,132 - INFO - Processed 1440000/6416827 records\n"
     ]
    },
    {
     "name": "stderr",
     "output_type": "stream",
     "text": [
      "2025-04-22 20:04:36,144 - INFO - Starting to upsert 0 records in batches of 1000\n"
     ]
    },
    {
     "name": "stderr",
     "output_type": "stream",
     "text": [
      "2025-04-22 20:04:36,145 - INFO - Processed 1450000/6416827 records\n"
     ]
    },
    {
     "name": "stderr",
     "output_type": "stream",
     "text": [
      "2025-04-22 20:04:36,160 - INFO - Starting to upsert 0 records in batches of 1000\n"
     ]
    },
    {
     "name": "stderr",
     "output_type": "stream",
     "text": [
      "2025-04-22 20:04:36,161 - INFO - Processed 1460000/6416827 records\n"
     ]
    },
    {
     "name": "stderr",
     "output_type": "stream",
     "text": [
      "2025-04-22 20:04:36,176 - INFO - Starting to upsert 0 records in batches of 1000\n"
     ]
    },
    {
     "name": "stderr",
     "output_type": "stream",
     "text": [
      "2025-04-22 20:04:36,176 - INFO - Processed 1470000/6416827 records\n"
     ]
    },
    {
     "name": "stderr",
     "output_type": "stream",
     "text": [
      "2025-04-22 20:04:36,189 - INFO - Starting to upsert 0 records in batches of 1000\n"
     ]
    },
    {
     "name": "stderr",
     "output_type": "stream",
     "text": [
      "2025-04-22 20:04:36,189 - INFO - Processed 1480000/6416827 records\n"
     ]
    },
    {
     "name": "stderr",
     "output_type": "stream",
     "text": [
      "2025-04-22 20:04:36,202 - INFO - Starting to upsert 0 records in batches of 1000\n"
     ]
    },
    {
     "name": "stderr",
     "output_type": "stream",
     "text": [
      "2025-04-22 20:04:36,203 - INFO - Processed 1490000/6416827 records\n"
     ]
    },
    {
     "name": "stderr",
     "output_type": "stream",
     "text": [
      "2025-04-22 20:04:36,216 - INFO - Starting to upsert 0 records in batches of 1000\n"
     ]
    },
    {
     "name": "stderr",
     "output_type": "stream",
     "text": [
      "2025-04-22 20:04:36,217 - INFO - Processed 1500000/6416827 records\n"
     ]
    },
    {
     "name": "stderr",
     "output_type": "stream",
     "text": [
      "2025-04-22 20:04:36,229 - INFO - Starting to upsert 0 records in batches of 1000\n"
     ]
    },
    {
     "name": "stderr",
     "output_type": "stream",
     "text": [
      "2025-04-22 20:04:36,230 - INFO - Processed 1510000/6416827 records\n"
     ]
    },
    {
     "name": "stderr",
     "output_type": "stream",
     "text": [
      "2025-04-22 20:04:36,243 - INFO - Starting to upsert 0 records in batches of 1000\n"
     ]
    },
    {
     "name": "stderr",
     "output_type": "stream",
     "text": [
      "2025-04-22 20:04:36,244 - INFO - Processed 1520000/6416827 records\n"
     ]
    },
    {
     "name": "stderr",
     "output_type": "stream",
     "text": [
      "2025-04-22 20:04:36,257 - INFO - Starting to upsert 0 records in batches of 1000\n"
     ]
    },
    {
     "name": "stderr",
     "output_type": "stream",
     "text": [
      "2025-04-22 20:04:36,257 - INFO - Processed 1530000/6416827 records\n"
     ]
    },
    {
     "name": "stderr",
     "output_type": "stream",
     "text": [
      "2025-04-22 20:04:36,269 - INFO - Starting to upsert 0 records in batches of 1000\n"
     ]
    },
    {
     "name": "stderr",
     "output_type": "stream",
     "text": [
      "2025-04-22 20:04:36,270 - INFO - Processed 1540000/6416827 records\n"
     ]
    },
    {
     "name": "stderr",
     "output_type": "stream",
     "text": [
      "2025-04-22 20:04:36,282 - INFO - Starting to upsert 0 records in batches of 1000\n"
     ]
    },
    {
     "name": "stderr",
     "output_type": "stream",
     "text": [
      "2025-04-22 20:04:36,282 - INFO - Processed 1550000/6416827 records\n"
     ]
    },
    {
     "name": "stderr",
     "output_type": "stream",
     "text": [
      "2025-04-22 20:04:36,295 - INFO - Starting to upsert 0 records in batches of 1000\n"
     ]
    },
    {
     "name": "stderr",
     "output_type": "stream",
     "text": [
      "2025-04-22 20:04:36,296 - INFO - Processed 1560000/6416827 records\n"
     ]
    },
    {
     "name": "stderr",
     "output_type": "stream",
     "text": [
      "2025-04-22 20:04:36,309 - INFO - Starting to upsert 0 records in batches of 1000\n"
     ]
    },
    {
     "name": "stderr",
     "output_type": "stream",
     "text": [
      "2025-04-22 20:04:36,310 - INFO - Processed 1570000/6416827 records\n"
     ]
    },
    {
     "name": "stderr",
     "output_type": "stream",
     "text": [
      "2025-04-22 20:04:36,323 - INFO - Starting to upsert 0 records in batches of 1000\n"
     ]
    },
    {
     "name": "stderr",
     "output_type": "stream",
     "text": [
      "2025-04-22 20:04:36,323 - INFO - Processed 1580000/6416827 records\n"
     ]
    },
    {
     "name": "stderr",
     "output_type": "stream",
     "text": [
      "2025-04-22 20:04:36,336 - INFO - Starting to upsert 0 records in batches of 1000\n"
     ]
    },
    {
     "name": "stderr",
     "output_type": "stream",
     "text": [
      "2025-04-22 20:04:36,337 - INFO - Processed 1590000/6416827 records\n"
     ]
    },
    {
     "name": "stderr",
     "output_type": "stream",
     "text": [
      "2025-04-22 20:04:36,348 - INFO - Starting to upsert 0 records in batches of 1000\n"
     ]
    },
    {
     "name": "stderr",
     "output_type": "stream",
     "text": [
      "2025-04-22 20:04:36,349 - INFO - Processed 1600000/6416827 records\n"
     ]
    },
    {
     "name": "stderr",
     "output_type": "stream",
     "text": [
      "2025-04-22 20:04:36,361 - INFO - Starting to upsert 0 records in batches of 1000\n"
     ]
    },
    {
     "name": "stderr",
     "output_type": "stream",
     "text": [
      "2025-04-22 20:04:36,362 - INFO - Processed 1610000/6416827 records\n"
     ]
    },
    {
     "name": "stderr",
     "output_type": "stream",
     "text": [
      "2025-04-22 20:04:36,372 - INFO - Starting to upsert 0 records in batches of 1000\n"
     ]
    },
    {
     "name": "stderr",
     "output_type": "stream",
     "text": [
      "2025-04-22 20:04:36,373 - INFO - Processed 1620000/6416827 records\n"
     ]
    },
    {
     "name": "stderr",
     "output_type": "stream",
     "text": [
      "2025-04-22 20:04:36,384 - INFO - Starting to upsert 0 records in batches of 1000\n"
     ]
    },
    {
     "name": "stderr",
     "output_type": "stream",
     "text": [
      "2025-04-22 20:04:36,385 - INFO - Processed 1630000/6416827 records\n"
     ]
    },
    {
     "name": "stderr",
     "output_type": "stream",
     "text": [
      "2025-04-22 20:04:36,397 - INFO - Starting to upsert 0 records in batches of 1000\n"
     ]
    },
    {
     "name": "stderr",
     "output_type": "stream",
     "text": [
      "2025-04-22 20:04:36,398 - INFO - Processed 1640000/6416827 records\n"
     ]
    },
    {
     "name": "stderr",
     "output_type": "stream",
     "text": [
      "2025-04-22 20:04:36,413 - INFO - Starting to upsert 0 records in batches of 1000\n"
     ]
    },
    {
     "name": "stderr",
     "output_type": "stream",
     "text": [
      "2025-04-22 20:04:36,414 - INFO - Processed 1650000/6416827 records\n"
     ]
    },
    {
     "name": "stderr",
     "output_type": "stream",
     "text": [
      "2025-04-22 20:04:36,425 - INFO - Starting to upsert 0 records in batches of 1000\n"
     ]
    },
    {
     "name": "stderr",
     "output_type": "stream",
     "text": [
      "2025-04-22 20:04:36,426 - INFO - Processed 1660000/6416827 records\n"
     ]
    },
    {
     "name": "stderr",
     "output_type": "stream",
     "text": [
      "2025-04-22 20:04:36,438 - INFO - Starting to upsert 0 records in batches of 1000\n"
     ]
    },
    {
     "name": "stderr",
     "output_type": "stream",
     "text": [
      "2025-04-22 20:04:36,438 - INFO - Processed 1670000/6416827 records\n"
     ]
    },
    {
     "name": "stderr",
     "output_type": "stream",
     "text": [
      "2025-04-22 20:04:36,449 - INFO - Starting to upsert 0 records in batches of 1000\n"
     ]
    },
    {
     "name": "stderr",
     "output_type": "stream",
     "text": [
      "2025-04-22 20:04:36,450 - INFO - Processed 1680000/6416827 records\n"
     ]
    },
    {
     "name": "stderr",
     "output_type": "stream",
     "text": [
      "2025-04-22 20:04:36,461 - INFO - Starting to upsert 0 records in batches of 1000\n"
     ]
    },
    {
     "name": "stderr",
     "output_type": "stream",
     "text": [
      "2025-04-22 20:04:36,461 - INFO - Processed 1690000/6416827 records\n"
     ]
    },
    {
     "name": "stderr",
     "output_type": "stream",
     "text": [
      "2025-04-22 20:04:36,472 - INFO - Starting to upsert 0 records in batches of 1000\n"
     ]
    },
    {
     "name": "stderr",
     "output_type": "stream",
     "text": [
      "2025-04-22 20:04:36,473 - INFO - Processed 1700000/6416827 records\n"
     ]
    },
    {
     "name": "stderr",
     "output_type": "stream",
     "text": [
      "2025-04-22 20:04:36,484 - INFO - Starting to upsert 0 records in batches of 1000\n"
     ]
    },
    {
     "name": "stderr",
     "output_type": "stream",
     "text": [
      "2025-04-22 20:04:36,484 - INFO - Processed 1710000/6416827 records\n"
     ]
    },
    {
     "name": "stderr",
     "output_type": "stream",
     "text": [
      "2025-04-22 20:04:36,495 - INFO - Starting to upsert 0 records in batches of 1000\n"
     ]
    },
    {
     "name": "stderr",
     "output_type": "stream",
     "text": [
      "2025-04-22 20:04:36,496 - INFO - Processed 1720000/6416827 records\n"
     ]
    },
    {
     "name": "stderr",
     "output_type": "stream",
     "text": [
      "2025-04-22 20:04:36,508 - INFO - Starting to upsert 0 records in batches of 1000\n"
     ]
    },
    {
     "name": "stderr",
     "output_type": "stream",
     "text": [
      "2025-04-22 20:04:36,509 - INFO - Processed 1730000/6416827 records\n"
     ]
    },
    {
     "name": "stderr",
     "output_type": "stream",
     "text": [
      "2025-04-22 20:04:36,519 - INFO - Starting to upsert 0 records in batches of 1000\n"
     ]
    },
    {
     "name": "stderr",
     "output_type": "stream",
     "text": [
      "2025-04-22 20:04:36,520 - INFO - Processed 1740000/6416827 records\n"
     ]
    },
    {
     "name": "stderr",
     "output_type": "stream",
     "text": [
      "2025-04-22 20:04:36,533 - INFO - Starting to upsert 0 records in batches of 1000\n"
     ]
    },
    {
     "name": "stderr",
     "output_type": "stream",
     "text": [
      "2025-04-22 20:04:36,533 - INFO - Processed 1750000/6416827 records\n"
     ]
    },
    {
     "name": "stderr",
     "output_type": "stream",
     "text": [
      "2025-04-22 20:04:36,545 - INFO - Starting to upsert 0 records in batches of 1000\n"
     ]
    },
    {
     "name": "stderr",
     "output_type": "stream",
     "text": [
      "2025-04-22 20:04:36,546 - INFO - Processed 1760000/6416827 records\n"
     ]
    },
    {
     "name": "stderr",
     "output_type": "stream",
     "text": [
      "2025-04-22 20:04:36,561 - INFO - Starting to upsert 0 records in batches of 1000\n"
     ]
    },
    {
     "name": "stderr",
     "output_type": "stream",
     "text": [
      "2025-04-22 20:04:36,561 - INFO - Processed 1770000/6416827 records\n"
     ]
    },
    {
     "name": "stderr",
     "output_type": "stream",
     "text": [
      "2025-04-22 20:04:36,574 - INFO - Starting to upsert 0 records in batches of 1000\n"
     ]
    },
    {
     "name": "stderr",
     "output_type": "stream",
     "text": [
      "2025-04-22 20:04:36,574 - INFO - Processed 1780000/6416827 records\n"
     ]
    },
    {
     "name": "stderr",
     "output_type": "stream",
     "text": [
      "2025-04-22 20:04:36,586 - INFO - Starting to upsert 0 records in batches of 1000\n"
     ]
    },
    {
     "name": "stderr",
     "output_type": "stream",
     "text": [
      "2025-04-22 20:04:36,587 - INFO - Processed 1790000/6416827 records\n"
     ]
    },
    {
     "name": "stderr",
     "output_type": "stream",
     "text": [
      "2025-04-22 20:04:36,597 - INFO - Starting to upsert 0 records in batches of 1000\n"
     ]
    },
    {
     "name": "stderr",
     "output_type": "stream",
     "text": [
      "2025-04-22 20:04:36,598 - INFO - Processed 1800000/6416827 records\n"
     ]
    },
    {
     "name": "stderr",
     "output_type": "stream",
     "text": [
      "2025-04-22 20:04:36,609 - INFO - Starting to upsert 0 records in batches of 1000\n"
     ]
    },
    {
     "name": "stderr",
     "output_type": "stream",
     "text": [
      "2025-04-22 20:04:36,610 - INFO - Processed 1810000/6416827 records\n"
     ]
    },
    {
     "name": "stderr",
     "output_type": "stream",
     "text": [
      "2025-04-22 20:04:36,621 - INFO - Starting to upsert 0 records in batches of 1000\n"
     ]
    },
    {
     "name": "stderr",
     "output_type": "stream",
     "text": [
      "2025-04-22 20:04:36,621 - INFO - Processed 1820000/6416827 records\n"
     ]
    },
    {
     "name": "stderr",
     "output_type": "stream",
     "text": [
      "2025-04-22 20:04:36,633 - INFO - Starting to upsert 0 records in batches of 1000\n"
     ]
    },
    {
     "name": "stderr",
     "output_type": "stream",
     "text": [
      "2025-04-22 20:04:36,634 - INFO - Processed 1830000/6416827 records\n"
     ]
    },
    {
     "name": "stderr",
     "output_type": "stream",
     "text": [
      "2025-04-22 20:04:36,647 - INFO - Starting to upsert 0 records in batches of 1000\n"
     ]
    },
    {
     "name": "stderr",
     "output_type": "stream",
     "text": [
      "2025-04-22 20:04:36,648 - INFO - Processed 1840000/6416827 records\n"
     ]
    },
    {
     "name": "stderr",
     "output_type": "stream",
     "text": [
      "2025-04-22 20:04:36,660 - INFO - Starting to upsert 0 records in batches of 1000\n"
     ]
    },
    {
     "name": "stderr",
     "output_type": "stream",
     "text": [
      "2025-04-22 20:04:36,660 - INFO - Processed 1850000/6416827 records\n"
     ]
    },
    {
     "name": "stderr",
     "output_type": "stream",
     "text": [
      "2025-04-22 20:04:36,672 - INFO - Starting to upsert 0 records in batches of 1000\n"
     ]
    },
    {
     "name": "stderr",
     "output_type": "stream",
     "text": [
      "2025-04-22 20:04:36,672 - INFO - Processed 1860000/6416827 records\n"
     ]
    },
    {
     "name": "stderr",
     "output_type": "stream",
     "text": [
      "2025-04-22 20:04:36,684 - INFO - Starting to upsert 0 records in batches of 1000\n"
     ]
    },
    {
     "name": "stderr",
     "output_type": "stream",
     "text": [
      "2025-04-22 20:04:36,684 - INFO - Processed 1870000/6416827 records\n"
     ]
    },
    {
     "name": "stderr",
     "output_type": "stream",
     "text": [
      "2025-04-22 20:04:36,696 - INFO - Starting to upsert 0 records in batches of 1000\n"
     ]
    },
    {
     "name": "stderr",
     "output_type": "stream",
     "text": [
      "2025-04-22 20:04:36,696 - INFO - Processed 1880000/6416827 records\n"
     ]
    },
    {
     "name": "stderr",
     "output_type": "stream",
     "text": [
      "2025-04-22 20:04:36,707 - INFO - Starting to upsert 0 records in batches of 1000\n"
     ]
    },
    {
     "name": "stderr",
     "output_type": "stream",
     "text": [
      "2025-04-22 20:04:36,708 - INFO - Processed 1890000/6416827 records\n"
     ]
    },
    {
     "name": "stderr",
     "output_type": "stream",
     "text": [
      "2025-04-22 20:04:36,720 - INFO - Starting to upsert 0 records in batches of 1000\n"
     ]
    },
    {
     "name": "stderr",
     "output_type": "stream",
     "text": [
      "2025-04-22 20:04:36,721 - INFO - Processed 1900000/6416827 records\n"
     ]
    },
    {
     "name": "stderr",
     "output_type": "stream",
     "text": [
      "2025-04-22 20:04:36,732 - INFO - Starting to upsert 0 records in batches of 1000\n"
     ]
    },
    {
     "name": "stderr",
     "output_type": "stream",
     "text": [
      "2025-04-22 20:04:36,733 - INFO - Processed 1910000/6416827 records\n"
     ]
    },
    {
     "name": "stderr",
     "output_type": "stream",
     "text": [
      "2025-04-22 20:04:36,744 - INFO - Starting to upsert 0 records in batches of 1000\n"
     ]
    },
    {
     "name": "stderr",
     "output_type": "stream",
     "text": [
      "2025-04-22 20:04:36,746 - INFO - Processed 1920000/6416827 records\n"
     ]
    },
    {
     "name": "stderr",
     "output_type": "stream",
     "text": [
      "2025-04-22 20:04:36,757 - INFO - Starting to upsert 0 records in batches of 1000\n"
     ]
    },
    {
     "name": "stderr",
     "output_type": "stream",
     "text": [
      "2025-04-22 20:04:36,757 - INFO - Processed 1930000/6416827 records\n"
     ]
    },
    {
     "name": "stderr",
     "output_type": "stream",
     "text": [
      "2025-04-22 20:04:36,769 - INFO - Starting to upsert 0 records in batches of 1000\n"
     ]
    },
    {
     "name": "stderr",
     "output_type": "stream",
     "text": [
      "2025-04-22 20:04:36,769 - INFO - Processed 1940000/6416827 records\n"
     ]
    },
    {
     "name": "stderr",
     "output_type": "stream",
     "text": [
      "2025-04-22 20:04:36,781 - INFO - Starting to upsert 0 records in batches of 1000\n"
     ]
    },
    {
     "name": "stderr",
     "output_type": "stream",
     "text": [
      "2025-04-22 20:04:36,781 - INFO - Processed 1950000/6416827 records\n"
     ]
    },
    {
     "name": "stderr",
     "output_type": "stream",
     "text": [
      "2025-04-22 20:04:36,793 - INFO - Starting to upsert 0 records in batches of 1000\n"
     ]
    },
    {
     "name": "stderr",
     "output_type": "stream",
     "text": [
      "2025-04-22 20:04:36,794 - INFO - Processed 1960000/6416827 records\n"
     ]
    },
    {
     "name": "stderr",
     "output_type": "stream",
     "text": [
      "2025-04-22 20:04:36,806 - INFO - Starting to upsert 0 records in batches of 1000\n"
     ]
    },
    {
     "name": "stderr",
     "output_type": "stream",
     "text": [
      "2025-04-22 20:04:36,807 - INFO - Processed 1970000/6416827 records\n"
     ]
    },
    {
     "name": "stderr",
     "output_type": "stream",
     "text": [
      "2025-04-22 20:04:36,817 - INFO - Starting to upsert 0 records in batches of 1000\n"
     ]
    },
    {
     "name": "stderr",
     "output_type": "stream",
     "text": [
      "2025-04-22 20:04:36,817 - INFO - Processed 1980000/6416827 records\n"
     ]
    },
    {
     "name": "stderr",
     "output_type": "stream",
     "text": [
      "2025-04-22 20:04:36,828 - INFO - Starting to upsert 0 records in batches of 1000\n"
     ]
    },
    {
     "name": "stderr",
     "output_type": "stream",
     "text": [
      "2025-04-22 20:04:36,829 - INFO - Processed 1990000/6416827 records\n"
     ]
    },
    {
     "name": "stderr",
     "output_type": "stream",
     "text": [
      "2025-04-22 20:04:36,839 - INFO - Starting to upsert 0 records in batches of 1000\n"
     ]
    },
    {
     "name": "stderr",
     "output_type": "stream",
     "text": [
      "2025-04-22 20:04:36,840 - INFO - Processed 2000000/6416827 records\n"
     ]
    },
    {
     "name": "stderr",
     "output_type": "stream",
     "text": [
      "2025-04-22 20:04:36,852 - INFO - Starting to upsert 0 records in batches of 1000\n"
     ]
    },
    {
     "name": "stderr",
     "output_type": "stream",
     "text": [
      "2025-04-22 20:04:36,853 - INFO - Processed 2010000/6416827 records\n"
     ]
    },
    {
     "name": "stderr",
     "output_type": "stream",
     "text": [
      "2025-04-22 20:04:36,864 - INFO - Starting to upsert 0 records in batches of 1000\n"
     ]
    },
    {
     "name": "stderr",
     "output_type": "stream",
     "text": [
      "2025-04-22 20:04:36,865 - INFO - Processed 2020000/6416827 records\n"
     ]
    },
    {
     "name": "stderr",
     "output_type": "stream",
     "text": [
      "2025-04-22 20:04:36,877 - INFO - Starting to upsert 0 records in batches of 1000\n"
     ]
    },
    {
     "name": "stderr",
     "output_type": "stream",
     "text": [
      "2025-04-22 20:04:36,878 - INFO - Processed 2030000/6416827 records\n"
     ]
    },
    {
     "name": "stderr",
     "output_type": "stream",
     "text": [
      "2025-04-22 20:04:36,890 - INFO - Starting to upsert 0 records in batches of 1000\n"
     ]
    },
    {
     "name": "stderr",
     "output_type": "stream",
     "text": [
      "2025-04-22 20:04:36,891 - INFO - Processed 2040000/6416827 records\n"
     ]
    },
    {
     "name": "stderr",
     "output_type": "stream",
     "text": [
      "2025-04-22 20:04:36,902 - INFO - Starting to upsert 0 records in batches of 1000\n"
     ]
    },
    {
     "name": "stderr",
     "output_type": "stream",
     "text": [
      "2025-04-22 20:04:36,903 - INFO - Processed 2050000/6416827 records\n"
     ]
    },
    {
     "name": "stderr",
     "output_type": "stream",
     "text": [
      "2025-04-22 20:04:36,914 - INFO - Starting to upsert 0 records in batches of 1000\n"
     ]
    },
    {
     "name": "stderr",
     "output_type": "stream",
     "text": [
      "2025-04-22 20:04:36,915 - INFO - Processed 2060000/6416827 records\n"
     ]
    },
    {
     "name": "stderr",
     "output_type": "stream",
     "text": [
      "2025-04-22 20:04:36,927 - INFO - Starting to upsert 0 records in batches of 1000\n"
     ]
    },
    {
     "name": "stderr",
     "output_type": "stream",
     "text": [
      "2025-04-22 20:04:36,928 - INFO - Processed 2070000/6416827 records\n"
     ]
    },
    {
     "name": "stderr",
     "output_type": "stream",
     "text": [
      "2025-04-22 20:04:36,941 - INFO - Starting to upsert 0 records in batches of 1000\n"
     ]
    },
    {
     "name": "stderr",
     "output_type": "stream",
     "text": [
      "2025-04-22 20:04:36,941 - INFO - Processed 2080000/6416827 records\n"
     ]
    },
    {
     "name": "stderr",
     "output_type": "stream",
     "text": [
      "2025-04-22 20:04:36,952 - INFO - Starting to upsert 0 records in batches of 1000\n"
     ]
    },
    {
     "name": "stderr",
     "output_type": "stream",
     "text": [
      "2025-04-22 20:04:36,953 - INFO - Processed 2090000/6416827 records\n"
     ]
    },
    {
     "name": "stderr",
     "output_type": "stream",
     "text": [
      "2025-04-22 20:04:36,964 - INFO - Starting to upsert 0 records in batches of 1000\n"
     ]
    },
    {
     "name": "stderr",
     "output_type": "stream",
     "text": [
      "2025-04-22 20:04:36,965 - INFO - Processed 2100000/6416827 records\n"
     ]
    },
    {
     "name": "stderr",
     "output_type": "stream",
     "text": [
      "2025-04-22 20:04:36,976 - INFO - Starting to upsert 0 records in batches of 1000\n"
     ]
    },
    {
     "name": "stderr",
     "output_type": "stream",
     "text": [
      "2025-04-22 20:04:36,976 - INFO - Processed 2110000/6416827 records\n"
     ]
    },
    {
     "name": "stderr",
     "output_type": "stream",
     "text": [
      "2025-04-22 20:04:36,986 - INFO - Starting to upsert 0 records in batches of 1000\n"
     ]
    },
    {
     "name": "stderr",
     "output_type": "stream",
     "text": [
      "2025-04-22 20:04:36,987 - INFO - Processed 2120000/6416827 records\n"
     ]
    },
    {
     "name": "stderr",
     "output_type": "stream",
     "text": [
      "2025-04-22 20:04:36,999 - INFO - Starting to upsert 0 records in batches of 1000\n"
     ]
    },
    {
     "name": "stderr",
     "output_type": "stream",
     "text": [
      "2025-04-22 20:04:36,999 - INFO - Processed 2130000/6416827 records\n"
     ]
    },
    {
     "name": "stderr",
     "output_type": "stream",
     "text": [
      "2025-04-22 20:04:37,011 - INFO - Starting to upsert 0 records in batches of 1000\n"
     ]
    },
    {
     "name": "stderr",
     "output_type": "stream",
     "text": [
      "2025-04-22 20:04:37,012 - INFO - Processed 2140000/6416827 records\n"
     ]
    },
    {
     "name": "stderr",
     "output_type": "stream",
     "text": [
      "2025-04-22 20:04:37,022 - INFO - Starting to upsert 0 records in batches of 1000\n"
     ]
    },
    {
     "name": "stderr",
     "output_type": "stream",
     "text": [
      "2025-04-22 20:04:37,023 - INFO - Processed 2150000/6416827 records\n"
     ]
    },
    {
     "name": "stderr",
     "output_type": "stream",
     "text": [
      "2025-04-22 20:04:37,033 - INFO - Starting to upsert 0 records in batches of 1000\n"
     ]
    },
    {
     "name": "stderr",
     "output_type": "stream",
     "text": [
      "2025-04-22 20:04:37,034 - INFO - Processed 2160000/6416827 records\n"
     ]
    },
    {
     "name": "stderr",
     "output_type": "stream",
     "text": [
      "2025-04-22 20:04:37,045 - INFO - Starting to upsert 0 records in batches of 1000\n"
     ]
    },
    {
     "name": "stderr",
     "output_type": "stream",
     "text": [
      "2025-04-22 20:04:37,045 - INFO - Processed 2170000/6416827 records\n"
     ]
    },
    {
     "name": "stderr",
     "output_type": "stream",
     "text": [
      "2025-04-22 20:04:37,056 - INFO - Starting to upsert 0 records in batches of 1000\n"
     ]
    },
    {
     "name": "stderr",
     "output_type": "stream",
     "text": [
      "2025-04-22 20:04:37,056 - INFO - Processed 2180000/6416827 records\n"
     ]
    },
    {
     "name": "stderr",
     "output_type": "stream",
     "text": [
      "2025-04-22 20:04:37,067 - INFO - Starting to upsert 0 records in batches of 1000\n"
     ]
    },
    {
     "name": "stderr",
     "output_type": "stream",
     "text": [
      "2025-04-22 20:04:37,067 - INFO - Processed 2190000/6416827 records\n"
     ]
    },
    {
     "name": "stderr",
     "output_type": "stream",
     "text": [
      "2025-04-22 20:04:37,082 - INFO - Starting to upsert 0 records in batches of 1000\n"
     ]
    },
    {
     "name": "stderr",
     "output_type": "stream",
     "text": [
      "2025-04-22 20:04:37,083 - INFO - Processed 2200000/6416827 records\n"
     ]
    },
    {
     "name": "stderr",
     "output_type": "stream",
     "text": [
      "2025-04-22 20:04:37,094 - INFO - Starting to upsert 0 records in batches of 1000\n"
     ]
    },
    {
     "name": "stderr",
     "output_type": "stream",
     "text": [
      "2025-04-22 20:04:37,095 - INFO - Processed 2210000/6416827 records\n"
     ]
    },
    {
     "name": "stderr",
     "output_type": "stream",
     "text": [
      "2025-04-22 20:04:37,106 - INFO - Starting to upsert 0 records in batches of 1000\n"
     ]
    },
    {
     "name": "stderr",
     "output_type": "stream",
     "text": [
      "2025-04-22 20:04:37,107 - INFO - Processed 2220000/6416827 records\n"
     ]
    },
    {
     "name": "stderr",
     "output_type": "stream",
     "text": [
      "2025-04-22 20:04:37,117 - INFO - Starting to upsert 0 records in batches of 1000\n"
     ]
    },
    {
     "name": "stderr",
     "output_type": "stream",
     "text": [
      "2025-04-22 20:04:37,118 - INFO - Processed 2230000/6416827 records\n"
     ]
    },
    {
     "name": "stderr",
     "output_type": "stream",
     "text": [
      "2025-04-22 20:04:37,131 - INFO - Starting to upsert 0 records in batches of 1000\n"
     ]
    },
    {
     "name": "stderr",
     "output_type": "stream",
     "text": [
      "2025-04-22 20:04:37,132 - INFO - Processed 2240000/6416827 records\n"
     ]
    },
    {
     "name": "stderr",
     "output_type": "stream",
     "text": [
      "2025-04-22 20:04:37,143 - INFO - Starting to upsert 0 records in batches of 1000\n"
     ]
    },
    {
     "name": "stderr",
     "output_type": "stream",
     "text": [
      "2025-04-22 20:04:37,144 - INFO - Processed 2250000/6416827 records\n"
     ]
    },
    {
     "name": "stderr",
     "output_type": "stream",
     "text": [
      "2025-04-22 20:04:37,154 - INFO - Starting to upsert 0 records in batches of 1000\n"
     ]
    },
    {
     "name": "stderr",
     "output_type": "stream",
     "text": [
      "2025-04-22 20:04:37,155 - INFO - Processed 2260000/6416827 records\n"
     ]
    },
    {
     "name": "stderr",
     "output_type": "stream",
     "text": [
      "2025-04-22 20:04:37,166 - INFO - Starting to upsert 0 records in batches of 1000\n"
     ]
    },
    {
     "name": "stderr",
     "output_type": "stream",
     "text": [
      "2025-04-22 20:04:37,167 - INFO - Processed 2270000/6416827 records\n"
     ]
    },
    {
     "name": "stderr",
     "output_type": "stream",
     "text": [
      "2025-04-22 20:04:37,178 - INFO - Starting to upsert 0 records in batches of 1000\n"
     ]
    },
    {
     "name": "stderr",
     "output_type": "stream",
     "text": [
      "2025-04-22 20:04:37,179 - INFO - Processed 2280000/6416827 records\n"
     ]
    },
    {
     "name": "stderr",
     "output_type": "stream",
     "text": [
      "2025-04-22 20:04:37,190 - INFO - Starting to upsert 0 records in batches of 1000\n"
     ]
    },
    {
     "name": "stderr",
     "output_type": "stream",
     "text": [
      "2025-04-22 20:04:37,190 - INFO - Processed 2290000/6416827 records\n"
     ]
    },
    {
     "name": "stderr",
     "output_type": "stream",
     "text": [
      "2025-04-22 20:04:37,201 - INFO - Starting to upsert 0 records in batches of 1000\n"
     ]
    },
    {
     "name": "stderr",
     "output_type": "stream",
     "text": [
      "2025-04-22 20:04:37,201 - INFO - Processed 2300000/6416827 records\n"
     ]
    },
    {
     "name": "stderr",
     "output_type": "stream",
     "text": [
      "2025-04-22 20:04:37,212 - INFO - Starting to upsert 0 records in batches of 1000\n"
     ]
    },
    {
     "name": "stderr",
     "output_type": "stream",
     "text": [
      "2025-04-22 20:04:37,212 - INFO - Processed 2310000/6416827 records\n"
     ]
    },
    {
     "name": "stderr",
     "output_type": "stream",
     "text": [
      "2025-04-22 20:04:37,223 - INFO - Starting to upsert 0 records in batches of 1000\n"
     ]
    },
    {
     "name": "stderr",
     "output_type": "stream",
     "text": [
      "2025-04-22 20:04:37,224 - INFO - Processed 2320000/6416827 records\n"
     ]
    },
    {
     "name": "stderr",
     "output_type": "stream",
     "text": [
      "2025-04-22 20:04:37,234 - INFO - Starting to upsert 0 records in batches of 1000\n"
     ]
    },
    {
     "name": "stderr",
     "output_type": "stream",
     "text": [
      "2025-04-22 20:04:37,234 - INFO - Processed 2330000/6416827 records\n"
     ]
    },
    {
     "name": "stderr",
     "output_type": "stream",
     "text": [
      "2025-04-22 20:04:37,244 - INFO - Starting to upsert 0 records in batches of 1000\n"
     ]
    },
    {
     "name": "stderr",
     "output_type": "stream",
     "text": [
      "2025-04-22 20:04:37,245 - INFO - Processed 2340000/6416827 records\n"
     ]
    },
    {
     "name": "stderr",
     "output_type": "stream",
     "text": [
      "2025-04-22 20:04:37,256 - INFO - Starting to upsert 0 records in batches of 1000\n"
     ]
    },
    {
     "name": "stderr",
     "output_type": "stream",
     "text": [
      "2025-04-22 20:04:37,257 - INFO - Processed 2350000/6416827 records\n"
     ]
    },
    {
     "name": "stderr",
     "output_type": "stream",
     "text": [
      "2025-04-22 20:04:37,268 - INFO - Starting to upsert 0 records in batches of 1000\n"
     ]
    },
    {
     "name": "stderr",
     "output_type": "stream",
     "text": [
      "2025-04-22 20:04:37,268 - INFO - Processed 2360000/6416827 records\n"
     ]
    },
    {
     "name": "stderr",
     "output_type": "stream",
     "text": [
      "2025-04-22 20:04:37,279 - INFO - Starting to upsert 0 records in batches of 1000\n"
     ]
    },
    {
     "name": "stderr",
     "output_type": "stream",
     "text": [
      "2025-04-22 20:04:37,280 - INFO - Processed 2370000/6416827 records\n"
     ]
    },
    {
     "name": "stderr",
     "output_type": "stream",
     "text": [
      "2025-04-22 20:04:37,291 - INFO - Starting to upsert 0 records in batches of 1000\n"
     ]
    },
    {
     "name": "stderr",
     "output_type": "stream",
     "text": [
      "2025-04-22 20:04:37,292 - INFO - Processed 2380000/6416827 records\n"
     ]
    },
    {
     "name": "stderr",
     "output_type": "stream",
     "text": [
      "2025-04-22 20:04:37,303 - INFO - Starting to upsert 0 records in batches of 1000\n"
     ]
    },
    {
     "name": "stderr",
     "output_type": "stream",
     "text": [
      "2025-04-22 20:04:37,304 - INFO - Processed 2390000/6416827 records\n"
     ]
    },
    {
     "name": "stderr",
     "output_type": "stream",
     "text": [
      "2025-04-22 20:04:37,315 - INFO - Starting to upsert 0 records in batches of 1000\n"
     ]
    },
    {
     "name": "stderr",
     "output_type": "stream",
     "text": [
      "2025-04-22 20:04:37,315 - INFO - Processed 2400000/6416827 records\n"
     ]
    },
    {
     "name": "stderr",
     "output_type": "stream",
     "text": [
      "2025-04-22 20:04:37,326 - INFO - Starting to upsert 0 records in batches of 1000\n"
     ]
    },
    {
     "name": "stderr",
     "output_type": "stream",
     "text": [
      "2025-04-22 20:04:37,326 - INFO - Processed 2410000/6416827 records\n"
     ]
    },
    {
     "name": "stderr",
     "output_type": "stream",
     "text": [
      "2025-04-22 20:04:37,336 - INFO - Starting to upsert 0 records in batches of 1000\n"
     ]
    },
    {
     "name": "stderr",
     "output_type": "stream",
     "text": [
      "2025-04-22 20:04:37,337 - INFO - Processed 2420000/6416827 records\n"
     ]
    },
    {
     "name": "stderr",
     "output_type": "stream",
     "text": [
      "2025-04-22 20:04:37,349 - INFO - Starting to upsert 0 records in batches of 1000\n"
     ]
    },
    {
     "name": "stderr",
     "output_type": "stream",
     "text": [
      "2025-04-22 20:04:37,350 - INFO - Processed 2430000/6416827 records\n"
     ]
    },
    {
     "name": "stderr",
     "output_type": "stream",
     "text": [
      "2025-04-22 20:04:37,363 - INFO - Starting to upsert 0 records in batches of 1000\n"
     ]
    },
    {
     "name": "stderr",
     "output_type": "stream",
     "text": [
      "2025-04-22 20:04:37,364 - INFO - Processed 2440000/6416827 records\n"
     ]
    },
    {
     "name": "stderr",
     "output_type": "stream",
     "text": [
      "2025-04-22 20:04:37,381 - INFO - Starting to upsert 0 records in batches of 1000\n"
     ]
    },
    {
     "name": "stderr",
     "output_type": "stream",
     "text": [
      "2025-04-22 20:04:37,383 - INFO - Processed 2450000/6416827 records\n"
     ]
    },
    {
     "name": "stderr",
     "output_type": "stream",
     "text": [
      "2025-04-22 20:04:37,395 - INFO - Starting to upsert 0 records in batches of 1000\n"
     ]
    },
    {
     "name": "stderr",
     "output_type": "stream",
     "text": [
      "2025-04-22 20:04:37,396 - INFO - Processed 2460000/6416827 records\n"
     ]
    },
    {
     "name": "stderr",
     "output_type": "stream",
     "text": [
      "2025-04-22 20:04:37,409 - INFO - Starting to upsert 0 records in batches of 1000\n"
     ]
    },
    {
     "name": "stderr",
     "output_type": "stream",
     "text": [
      "2025-04-22 20:04:37,410 - INFO - Processed 2470000/6416827 records\n"
     ]
    },
    {
     "name": "stderr",
     "output_type": "stream",
     "text": [
      "2025-04-22 20:04:37,422 - INFO - Starting to upsert 0 records in batches of 1000\n"
     ]
    },
    {
     "name": "stderr",
     "output_type": "stream",
     "text": [
      "2025-04-22 20:04:37,423 - INFO - Processed 2480000/6416827 records\n"
     ]
    },
    {
     "name": "stderr",
     "output_type": "stream",
     "text": [
      "2025-04-22 20:04:37,440 - INFO - Starting to upsert 0 records in batches of 1000\n"
     ]
    },
    {
     "name": "stderr",
     "output_type": "stream",
     "text": [
      "2025-04-22 20:04:37,441 - INFO - Processed 2490000/6416827 records\n"
     ]
    },
    {
     "name": "stderr",
     "output_type": "stream",
     "text": [
      "2025-04-22 20:04:37,456 - INFO - Starting to upsert 0 records in batches of 1000\n"
     ]
    },
    {
     "name": "stderr",
     "output_type": "stream",
     "text": [
      "2025-04-22 20:04:37,457 - INFO - Processed 2500000/6416827 records\n"
     ]
    },
    {
     "name": "stderr",
     "output_type": "stream",
     "text": [
      "2025-04-22 20:04:37,469 - INFO - Starting to upsert 0 records in batches of 1000\n"
     ]
    },
    {
     "name": "stderr",
     "output_type": "stream",
     "text": [
      "2025-04-22 20:04:37,469 - INFO - Processed 2510000/6416827 records\n"
     ]
    },
    {
     "name": "stderr",
     "output_type": "stream",
     "text": [
      "2025-04-22 20:04:37,482 - INFO - Starting to upsert 0 records in batches of 1000\n"
     ]
    },
    {
     "name": "stderr",
     "output_type": "stream",
     "text": [
      "2025-04-22 20:04:37,483 - INFO - Processed 2520000/6416827 records\n"
     ]
    },
    {
     "name": "stderr",
     "output_type": "stream",
     "text": [
      "2025-04-22 20:04:37,495 - INFO - Starting to upsert 0 records in batches of 1000\n"
     ]
    },
    {
     "name": "stderr",
     "output_type": "stream",
     "text": [
      "2025-04-22 20:04:37,496 - INFO - Processed 2530000/6416827 records\n"
     ]
    },
    {
     "name": "stderr",
     "output_type": "stream",
     "text": [
      "2025-04-22 20:04:37,512 - INFO - Starting to upsert 0 records in batches of 1000\n"
     ]
    },
    {
     "name": "stderr",
     "output_type": "stream",
     "text": [
      "2025-04-22 20:04:37,512 - INFO - Processed 2540000/6416827 records\n"
     ]
    },
    {
     "name": "stderr",
     "output_type": "stream",
     "text": [
      "2025-04-22 20:04:37,525 - INFO - Starting to upsert 0 records in batches of 1000\n"
     ]
    },
    {
     "name": "stderr",
     "output_type": "stream",
     "text": [
      "2025-04-22 20:04:37,526 - INFO - Processed 2550000/6416827 records\n"
     ]
    },
    {
     "name": "stderr",
     "output_type": "stream",
     "text": [
      "2025-04-22 20:04:37,539 - INFO - Starting to upsert 0 records in batches of 1000\n"
     ]
    },
    {
     "name": "stderr",
     "output_type": "stream",
     "text": [
      "2025-04-22 20:04:37,540 - INFO - Processed 2560000/6416827 records\n"
     ]
    },
    {
     "name": "stderr",
     "output_type": "stream",
     "text": [
      "2025-04-22 20:04:37,553 - INFO - Starting to upsert 0 records in batches of 1000\n"
     ]
    },
    {
     "name": "stderr",
     "output_type": "stream",
     "text": [
      "2025-04-22 20:04:37,554 - INFO - Processed 2570000/6416827 records\n"
     ]
    },
    {
     "name": "stderr",
     "output_type": "stream",
     "text": [
      "2025-04-22 20:04:37,566 - INFO - Starting to upsert 0 records in batches of 1000\n"
     ]
    },
    {
     "name": "stderr",
     "output_type": "stream",
     "text": [
      "2025-04-22 20:04:37,567 - INFO - Processed 2580000/6416827 records\n"
     ]
    },
    {
     "name": "stderr",
     "output_type": "stream",
     "text": [
      "2025-04-22 20:04:37,579 - INFO - Starting to upsert 0 records in batches of 1000\n"
     ]
    },
    {
     "name": "stderr",
     "output_type": "stream",
     "text": [
      "2025-04-22 20:04:37,580 - INFO - Processed 2590000/6416827 records\n"
     ]
    },
    {
     "name": "stderr",
     "output_type": "stream",
     "text": [
      "2025-04-22 20:04:37,593 - INFO - Starting to upsert 0 records in batches of 1000\n"
     ]
    },
    {
     "name": "stderr",
     "output_type": "stream",
     "text": [
      "2025-04-22 20:04:37,593 - INFO - Processed 2600000/6416827 records\n"
     ]
    },
    {
     "name": "stderr",
     "output_type": "stream",
     "text": [
      "2025-04-22 20:04:37,607 - INFO - Starting to upsert 0 records in batches of 1000\n"
     ]
    },
    {
     "name": "stderr",
     "output_type": "stream",
     "text": [
      "2025-04-22 20:04:37,608 - INFO - Processed 2610000/6416827 records\n"
     ]
    },
    {
     "name": "stderr",
     "output_type": "stream",
     "text": [
      "2025-04-22 20:04:37,622 - INFO - Starting to upsert 0 records in batches of 1000\n"
     ]
    },
    {
     "name": "stderr",
     "output_type": "stream",
     "text": [
      "2025-04-22 20:04:37,623 - INFO - Processed 2620000/6416827 records\n"
     ]
    },
    {
     "name": "stderr",
     "output_type": "stream",
     "text": [
      "2025-04-22 20:04:37,635 - INFO - Starting to upsert 0 records in batches of 1000\n"
     ]
    },
    {
     "name": "stderr",
     "output_type": "stream",
     "text": [
      "2025-04-22 20:04:37,635 - INFO - Processed 2630000/6416827 records\n"
     ]
    },
    {
     "name": "stderr",
     "output_type": "stream",
     "text": [
      "2025-04-22 20:04:37,649 - INFO - Starting to upsert 0 records in batches of 1000\n"
     ]
    },
    {
     "name": "stderr",
     "output_type": "stream",
     "text": [
      "2025-04-22 20:04:37,650 - INFO - Processed 2640000/6416827 records\n"
     ]
    },
    {
     "name": "stderr",
     "output_type": "stream",
     "text": [
      "2025-04-22 20:04:37,662 - INFO - Starting to upsert 0 records in batches of 1000\n"
     ]
    },
    {
     "name": "stderr",
     "output_type": "stream",
     "text": [
      "2025-04-22 20:04:37,663 - INFO - Processed 2650000/6416827 records\n"
     ]
    },
    {
     "name": "stderr",
     "output_type": "stream",
     "text": [
      "2025-04-22 20:04:37,675 - INFO - Starting to upsert 0 records in batches of 1000\n"
     ]
    },
    {
     "name": "stderr",
     "output_type": "stream",
     "text": [
      "2025-04-22 20:04:37,676 - INFO - Processed 2660000/6416827 records\n"
     ]
    },
    {
     "name": "stderr",
     "output_type": "stream",
     "text": [
      "2025-04-22 20:04:37,688 - INFO - Starting to upsert 0 records in batches of 1000\n"
     ]
    },
    {
     "name": "stderr",
     "output_type": "stream",
     "text": [
      "2025-04-22 20:04:37,688 - INFO - Processed 2670000/6416827 records\n"
     ]
    },
    {
     "name": "stderr",
     "output_type": "stream",
     "text": [
      "2025-04-22 20:04:37,699 - INFO - Starting to upsert 0 records in batches of 1000\n"
     ]
    },
    {
     "name": "stderr",
     "output_type": "stream",
     "text": [
      "2025-04-22 20:04:37,700 - INFO - Processed 2680000/6416827 records\n"
     ]
    },
    {
     "name": "stderr",
     "output_type": "stream",
     "text": [
      "2025-04-22 20:04:37,719 - INFO - Starting to upsert 0 records in batches of 1000\n"
     ]
    },
    {
     "name": "stderr",
     "output_type": "stream",
     "text": [
      "2025-04-22 20:04:37,720 - INFO - Processed 2690000/6416827 records\n"
     ]
    },
    {
     "name": "stderr",
     "output_type": "stream",
     "text": [
      "2025-04-22 20:04:37,733 - INFO - Starting to upsert 0 records in batches of 1000\n"
     ]
    },
    {
     "name": "stderr",
     "output_type": "stream",
     "text": [
      "2025-04-22 20:04:37,733 - INFO - Processed 2700000/6416827 records\n"
     ]
    },
    {
     "name": "stderr",
     "output_type": "stream",
     "text": [
      "2025-04-22 20:04:37,745 - INFO - Starting to upsert 0 records in batches of 1000\n"
     ]
    },
    {
     "name": "stderr",
     "output_type": "stream",
     "text": [
      "2025-04-22 20:04:37,746 - INFO - Processed 2710000/6416827 records\n"
     ]
    },
    {
     "name": "stderr",
     "output_type": "stream",
     "text": [
      "2025-04-22 20:04:37,756 - INFO - Starting to upsert 0 records in batches of 1000\n"
     ]
    },
    {
     "name": "stderr",
     "output_type": "stream",
     "text": [
      "2025-04-22 20:04:37,757 - INFO - Processed 2720000/6416827 records\n"
     ]
    },
    {
     "name": "stderr",
     "output_type": "stream",
     "text": [
      "2025-04-22 20:04:37,767 - INFO - Starting to upsert 0 records in batches of 1000\n"
     ]
    },
    {
     "name": "stderr",
     "output_type": "stream",
     "text": [
      "2025-04-22 20:04:37,768 - INFO - Processed 2730000/6416827 records\n"
     ]
    },
    {
     "name": "stderr",
     "output_type": "stream",
     "text": [
      "2025-04-22 20:04:37,779 - INFO - Starting to upsert 0 records in batches of 1000\n"
     ]
    },
    {
     "name": "stderr",
     "output_type": "stream",
     "text": [
      "2025-04-22 20:04:37,780 - INFO - Processed 2740000/6416827 records\n"
     ]
    },
    {
     "name": "stderr",
     "output_type": "stream",
     "text": [
      "2025-04-22 20:04:37,791 - INFO - Starting to upsert 0 records in batches of 1000\n"
     ]
    },
    {
     "name": "stderr",
     "output_type": "stream",
     "text": [
      "2025-04-22 20:04:37,792 - INFO - Processed 2750000/6416827 records\n"
     ]
    },
    {
     "name": "stderr",
     "output_type": "stream",
     "text": [
      "2025-04-22 20:04:37,803 - INFO - Starting to upsert 0 records in batches of 1000\n"
     ]
    },
    {
     "name": "stderr",
     "output_type": "stream",
     "text": [
      "2025-04-22 20:04:37,804 - INFO - Processed 2760000/6416827 records\n"
     ]
    },
    {
     "name": "stderr",
     "output_type": "stream",
     "text": [
      "2025-04-22 20:04:37,815 - INFO - Starting to upsert 0 records in batches of 1000\n"
     ]
    },
    {
     "name": "stderr",
     "output_type": "stream",
     "text": [
      "2025-04-22 20:04:37,816 - INFO - Processed 2770000/6416827 records\n"
     ]
    },
    {
     "name": "stderr",
     "output_type": "stream",
     "text": [
      "2025-04-22 20:04:37,827 - INFO - Starting to upsert 0 records in batches of 1000\n"
     ]
    },
    {
     "name": "stderr",
     "output_type": "stream",
     "text": [
      "2025-04-22 20:04:37,828 - INFO - Processed 2780000/6416827 records\n"
     ]
    },
    {
     "name": "stderr",
     "output_type": "stream",
     "text": [
      "2025-04-22 20:04:37,839 - INFO - Starting to upsert 0 records in batches of 1000\n"
     ]
    },
    {
     "name": "stderr",
     "output_type": "stream",
     "text": [
      "2025-04-22 20:04:37,840 - INFO - Processed 2790000/6416827 records\n"
     ]
    },
    {
     "name": "stderr",
     "output_type": "stream",
     "text": [
      "2025-04-22 20:04:37,850 - INFO - Starting to upsert 0 records in batches of 1000\n"
     ]
    },
    {
     "name": "stderr",
     "output_type": "stream",
     "text": [
      "2025-04-22 20:04:37,851 - INFO - Processed 2800000/6416827 records\n"
     ]
    },
    {
     "name": "stderr",
     "output_type": "stream",
     "text": [
      "2025-04-22 20:04:37,863 - INFO - Starting to upsert 0 records in batches of 1000\n"
     ]
    },
    {
     "name": "stderr",
     "output_type": "stream",
     "text": [
      "2025-04-22 20:04:37,864 - INFO - Processed 2810000/6416827 records\n"
     ]
    },
    {
     "name": "stderr",
     "output_type": "stream",
     "text": [
      "2025-04-22 20:04:37,875 - INFO - Starting to upsert 0 records in batches of 1000\n"
     ]
    },
    {
     "name": "stderr",
     "output_type": "stream",
     "text": [
      "2025-04-22 20:04:37,876 - INFO - Processed 2820000/6416827 records\n"
     ]
    },
    {
     "name": "stderr",
     "output_type": "stream",
     "text": [
      "2025-04-22 20:04:37,887 - INFO - Starting to upsert 0 records in batches of 1000\n"
     ]
    },
    {
     "name": "stderr",
     "output_type": "stream",
     "text": [
      "2025-04-22 20:04:37,888 - INFO - Processed 2830000/6416827 records\n"
     ]
    },
    {
     "name": "stderr",
     "output_type": "stream",
     "text": [
      "2025-04-22 20:04:37,899 - INFO - Starting to upsert 0 records in batches of 1000\n"
     ]
    },
    {
     "name": "stderr",
     "output_type": "stream",
     "text": [
      "2025-04-22 20:04:37,900 - INFO - Processed 2840000/6416827 records\n"
     ]
    },
    {
     "name": "stderr",
     "output_type": "stream",
     "text": [
      "2025-04-22 20:04:37,910 - INFO - Starting to upsert 0 records in batches of 1000\n"
     ]
    },
    {
     "name": "stderr",
     "output_type": "stream",
     "text": [
      "2025-04-22 20:04:37,911 - INFO - Processed 2850000/6416827 records\n"
     ]
    },
    {
     "name": "stderr",
     "output_type": "stream",
     "text": [
      "2025-04-22 20:04:37,925 - INFO - Starting to upsert 0 records in batches of 1000\n"
     ]
    },
    {
     "name": "stderr",
     "output_type": "stream",
     "text": [
      "2025-04-22 20:04:37,926 - INFO - Processed 2860000/6416827 records\n"
     ]
    },
    {
     "name": "stderr",
     "output_type": "stream",
     "text": [
      "2025-04-22 20:04:37,936 - INFO - Starting to upsert 0 records in batches of 1000\n"
     ]
    },
    {
     "name": "stderr",
     "output_type": "stream",
     "text": [
      "2025-04-22 20:04:37,938 - INFO - Processed 2870000/6416827 records\n"
     ]
    },
    {
     "name": "stderr",
     "output_type": "stream",
     "text": [
      "2025-04-22 20:04:37,950 - INFO - Starting to upsert 0 records in batches of 1000\n"
     ]
    },
    {
     "name": "stderr",
     "output_type": "stream",
     "text": [
      "2025-04-22 20:04:37,951 - INFO - Processed 2880000/6416827 records\n"
     ]
    },
    {
     "name": "stderr",
     "output_type": "stream",
     "text": [
      "2025-04-22 20:04:37,963 - INFO - Starting to upsert 0 records in batches of 1000\n"
     ]
    },
    {
     "name": "stderr",
     "output_type": "stream",
     "text": [
      "2025-04-22 20:04:37,963 - INFO - Processed 2890000/6416827 records\n"
     ]
    },
    {
     "name": "stderr",
     "output_type": "stream",
     "text": [
      "2025-04-22 20:04:37,974 - INFO - Starting to upsert 0 records in batches of 1000\n"
     ]
    },
    {
     "name": "stderr",
     "output_type": "stream",
     "text": [
      "2025-04-22 20:04:37,975 - INFO - Processed 2900000/6416827 records\n"
     ]
    },
    {
     "name": "stderr",
     "output_type": "stream",
     "text": [
      "2025-04-22 20:04:37,986 - INFO - Starting to upsert 0 records in batches of 1000\n"
     ]
    },
    {
     "name": "stderr",
     "output_type": "stream",
     "text": [
      "2025-04-22 20:04:37,987 - INFO - Processed 2910000/6416827 records\n"
     ]
    },
    {
     "name": "stderr",
     "output_type": "stream",
     "text": [
      "2025-04-22 20:04:37,998 - INFO - Starting to upsert 0 records in batches of 1000\n"
     ]
    },
    {
     "name": "stderr",
     "output_type": "stream",
     "text": [
      "2025-04-22 20:04:37,999 - INFO - Processed 2920000/6416827 records\n"
     ]
    },
    {
     "name": "stderr",
     "output_type": "stream",
     "text": [
      "2025-04-22 20:04:38,009 - INFO - Starting to upsert 0 records in batches of 1000\n"
     ]
    },
    {
     "name": "stderr",
     "output_type": "stream",
     "text": [
      "2025-04-22 20:04:38,010 - INFO - Processed 2930000/6416827 records\n"
     ]
    },
    {
     "name": "stderr",
     "output_type": "stream",
     "text": [
      "2025-04-22 20:04:38,020 - INFO - Starting to upsert 0 records in batches of 1000\n"
     ]
    },
    {
     "name": "stderr",
     "output_type": "stream",
     "text": [
      "2025-04-22 20:04:38,020 - INFO - Processed 2940000/6416827 records\n"
     ]
    },
    {
     "name": "stderr",
     "output_type": "stream",
     "text": [
      "2025-04-22 20:04:38,030 - INFO - Starting to upsert 0 records in batches of 1000\n"
     ]
    },
    {
     "name": "stderr",
     "output_type": "stream",
     "text": [
      "2025-04-22 20:04:38,031 - INFO - Processed 2950000/6416827 records\n"
     ]
    },
    {
     "name": "stderr",
     "output_type": "stream",
     "text": [
      "2025-04-22 20:04:38,042 - INFO - Starting to upsert 0 records in batches of 1000\n"
     ]
    },
    {
     "name": "stderr",
     "output_type": "stream",
     "text": [
      "2025-04-22 20:04:38,043 - INFO - Processed 2960000/6416827 records\n"
     ]
    },
    {
     "name": "stderr",
     "output_type": "stream",
     "text": [
      "2025-04-22 20:04:38,054 - INFO - Starting to upsert 0 records in batches of 1000\n"
     ]
    },
    {
     "name": "stderr",
     "output_type": "stream",
     "text": [
      "2025-04-22 20:04:38,054 - INFO - Processed 2970000/6416827 records\n"
     ]
    },
    {
     "name": "stderr",
     "output_type": "stream",
     "text": [
      "2025-04-22 20:04:38,065 - INFO - Starting to upsert 0 records in batches of 1000\n"
     ]
    },
    {
     "name": "stderr",
     "output_type": "stream",
     "text": [
      "2025-04-22 20:04:38,066 - INFO - Processed 2980000/6416827 records\n"
     ]
    },
    {
     "name": "stderr",
     "output_type": "stream",
     "text": [
      "2025-04-22 20:04:38,077 - INFO - Starting to upsert 0 records in batches of 1000\n"
     ]
    },
    {
     "name": "stderr",
     "output_type": "stream",
     "text": [
      "2025-04-22 20:04:38,078 - INFO - Processed 2990000/6416827 records\n"
     ]
    },
    {
     "name": "stderr",
     "output_type": "stream",
     "text": [
      "2025-04-22 20:04:38,088 - INFO - Starting to upsert 0 records in batches of 1000\n"
     ]
    },
    {
     "name": "stderr",
     "output_type": "stream",
     "text": [
      "2025-04-22 20:04:38,089 - INFO - Processed 3000000/6416827 records\n"
     ]
    },
    {
     "name": "stderr",
     "output_type": "stream",
     "text": [
      "2025-04-22 20:04:38,100 - INFO - Starting to upsert 0 records in batches of 1000\n"
     ]
    },
    {
     "name": "stderr",
     "output_type": "stream",
     "text": [
      "2025-04-22 20:04:38,101 - INFO - Processed 3010000/6416827 records\n"
     ]
    },
    {
     "name": "stderr",
     "output_type": "stream",
     "text": [
      "2025-04-22 20:04:38,112 - INFO - Starting to upsert 0 records in batches of 1000\n"
     ]
    },
    {
     "name": "stderr",
     "output_type": "stream",
     "text": [
      "2025-04-22 20:04:38,113 - INFO - Processed 3020000/6416827 records\n"
     ]
    },
    {
     "name": "stderr",
     "output_type": "stream",
     "text": [
      "2025-04-22 20:04:38,124 - INFO - Starting to upsert 0 records in batches of 1000\n"
     ]
    },
    {
     "name": "stderr",
     "output_type": "stream",
     "text": [
      "2025-04-22 20:04:38,124 - INFO - Processed 3030000/6416827 records\n"
     ]
    },
    {
     "name": "stderr",
     "output_type": "stream",
     "text": [
      "2025-04-22 20:04:38,135 - INFO - Starting to upsert 0 records in batches of 1000\n"
     ]
    },
    {
     "name": "stderr",
     "output_type": "stream",
     "text": [
      "2025-04-22 20:04:38,136 - INFO - Processed 3040000/6416827 records\n"
     ]
    },
    {
     "name": "stderr",
     "output_type": "stream",
     "text": [
      "2025-04-22 20:04:38,146 - INFO - Starting to upsert 0 records in batches of 1000\n"
     ]
    },
    {
     "name": "stderr",
     "output_type": "stream",
     "text": [
      "2025-04-22 20:04:38,147 - INFO - Processed 3050000/6416827 records\n"
     ]
    },
    {
     "name": "stderr",
     "output_type": "stream",
     "text": [
      "2025-04-22 20:04:38,158 - INFO - Starting to upsert 0 records in batches of 1000\n"
     ]
    },
    {
     "name": "stderr",
     "output_type": "stream",
     "text": [
      "2025-04-22 20:04:38,158 - INFO - Processed 3060000/6416827 records\n"
     ]
    },
    {
     "name": "stderr",
     "output_type": "stream",
     "text": [
      "2025-04-22 20:04:38,171 - INFO - Starting to upsert 0 records in batches of 1000\n"
     ]
    },
    {
     "name": "stderr",
     "output_type": "stream",
     "text": [
      "2025-04-22 20:04:38,171 - INFO - Processed 3070000/6416827 records\n"
     ]
    },
    {
     "name": "stderr",
     "output_type": "stream",
     "text": [
      "2025-04-22 20:04:38,182 - INFO - Starting to upsert 0 records in batches of 1000\n"
     ]
    },
    {
     "name": "stderr",
     "output_type": "stream",
     "text": [
      "2025-04-22 20:04:38,183 - INFO - Processed 3080000/6416827 records\n"
     ]
    },
    {
     "name": "stderr",
     "output_type": "stream",
     "text": [
      "2025-04-22 20:04:38,194 - INFO - Starting to upsert 0 records in batches of 1000\n"
     ]
    },
    {
     "name": "stderr",
     "output_type": "stream",
     "text": [
      "2025-04-22 20:04:38,194 - INFO - Processed 3090000/6416827 records\n"
     ]
    },
    {
     "name": "stderr",
     "output_type": "stream",
     "text": [
      "2025-04-22 20:04:38,207 - INFO - Starting to upsert 0 records in batches of 1000\n"
     ]
    },
    {
     "name": "stderr",
     "output_type": "stream",
     "text": [
      "2025-04-22 20:04:38,208 - INFO - Processed 3100000/6416827 records\n"
     ]
    },
    {
     "name": "stderr",
     "output_type": "stream",
     "text": [
      "2025-04-22 20:04:38,219 - INFO - Starting to upsert 0 records in batches of 1000\n"
     ]
    },
    {
     "name": "stderr",
     "output_type": "stream",
     "text": [
      "2025-04-22 20:04:38,220 - INFO - Processed 3110000/6416827 records\n"
     ]
    },
    {
     "name": "stderr",
     "output_type": "stream",
     "text": [
      "2025-04-22 20:04:38,233 - INFO - Starting to upsert 0 records in batches of 1000\n"
     ]
    },
    {
     "name": "stderr",
     "output_type": "stream",
     "text": [
      "2025-04-22 20:04:38,234 - INFO - Processed 3120000/6416827 records\n"
     ]
    },
    {
     "name": "stderr",
     "output_type": "stream",
     "text": [
      "2025-04-22 20:04:38,244 - INFO - Starting to upsert 0 records in batches of 1000\n"
     ]
    },
    {
     "name": "stderr",
     "output_type": "stream",
     "text": [
      "2025-04-22 20:04:38,245 - INFO - Processed 3130000/6416827 records\n"
     ]
    },
    {
     "name": "stderr",
     "output_type": "stream",
     "text": [
      "2025-04-22 20:04:38,256 - INFO - Starting to upsert 0 records in batches of 1000\n"
     ]
    },
    {
     "name": "stderr",
     "output_type": "stream",
     "text": [
      "2025-04-22 20:04:38,257 - INFO - Processed 3140000/6416827 records\n"
     ]
    },
    {
     "name": "stderr",
     "output_type": "stream",
     "text": [
      "2025-04-22 20:04:38,268 - INFO - Starting to upsert 0 records in batches of 1000\n"
     ]
    },
    {
     "name": "stderr",
     "output_type": "stream",
     "text": [
      "2025-04-22 20:04:38,269 - INFO - Processed 3150000/6416827 records\n"
     ]
    },
    {
     "name": "stderr",
     "output_type": "stream",
     "text": [
      "2025-04-22 20:04:38,280 - INFO - Starting to upsert 0 records in batches of 1000\n"
     ]
    },
    {
     "name": "stderr",
     "output_type": "stream",
     "text": [
      "2025-04-22 20:04:38,281 - INFO - Processed 3160000/6416827 records\n"
     ]
    },
    {
     "name": "stderr",
     "output_type": "stream",
     "text": [
      "2025-04-22 20:04:38,291 - INFO - Starting to upsert 0 records in batches of 1000\n"
     ]
    },
    {
     "name": "stderr",
     "output_type": "stream",
     "text": [
      "2025-04-22 20:04:38,292 - INFO - Processed 3170000/6416827 records\n"
     ]
    },
    {
     "name": "stderr",
     "output_type": "stream",
     "text": [
      "2025-04-22 20:04:38,304 - INFO - Starting to upsert 0 records in batches of 1000\n"
     ]
    },
    {
     "name": "stderr",
     "output_type": "stream",
     "text": [
      "2025-04-22 20:04:38,305 - INFO - Processed 3180000/6416827 records\n"
     ]
    },
    {
     "name": "stderr",
     "output_type": "stream",
     "text": [
      "2025-04-22 20:04:38,317 - INFO - Starting to upsert 0 records in batches of 1000\n"
     ]
    },
    {
     "name": "stderr",
     "output_type": "stream",
     "text": [
      "2025-04-22 20:04:38,317 - INFO - Processed 3190000/6416827 records\n"
     ]
    },
    {
     "name": "stderr",
     "output_type": "stream",
     "text": [
      "2025-04-22 20:04:38,329 - INFO - Starting to upsert 0 records in batches of 1000\n"
     ]
    },
    {
     "name": "stderr",
     "output_type": "stream",
     "text": [
      "2025-04-22 20:04:38,330 - INFO - Processed 3200000/6416827 records\n"
     ]
    },
    {
     "name": "stderr",
     "output_type": "stream",
     "text": [
      "2025-04-22 20:04:38,342 - INFO - Starting to upsert 0 records in batches of 1000\n"
     ]
    },
    {
     "name": "stderr",
     "output_type": "stream",
     "text": [
      "2025-04-22 20:04:38,343 - INFO - Processed 3210000/6416827 records\n"
     ]
    },
    {
     "name": "stderr",
     "output_type": "stream",
     "text": [
      "2025-04-22 20:04:38,357 - INFO - Starting to upsert 0 records in batches of 1000\n"
     ]
    },
    {
     "name": "stderr",
     "output_type": "stream",
     "text": [
      "2025-04-22 20:04:38,357 - INFO - Processed 3220000/6416827 records\n"
     ]
    },
    {
     "name": "stderr",
     "output_type": "stream",
     "text": [
      "2025-04-22 20:04:38,369 - INFO - Starting to upsert 0 records in batches of 1000\n"
     ]
    },
    {
     "name": "stderr",
     "output_type": "stream",
     "text": [
      "2025-04-22 20:04:38,369 - INFO - Processed 3230000/6416827 records\n"
     ]
    },
    {
     "name": "stderr",
     "output_type": "stream",
     "text": [
      "2025-04-22 20:04:38,380 - INFO - Starting to upsert 0 records in batches of 1000\n"
     ]
    },
    {
     "name": "stderr",
     "output_type": "stream",
     "text": [
      "2025-04-22 20:04:38,381 - INFO - Processed 3240000/6416827 records\n"
     ]
    },
    {
     "name": "stderr",
     "output_type": "stream",
     "text": [
      "2025-04-22 20:04:38,393 - INFO - Starting to upsert 0 records in batches of 1000\n"
     ]
    },
    {
     "name": "stderr",
     "output_type": "stream",
     "text": [
      "2025-04-22 20:04:38,393 - INFO - Processed 3250000/6416827 records\n"
     ]
    },
    {
     "name": "stderr",
     "output_type": "stream",
     "text": [
      "2025-04-22 20:04:38,404 - INFO - Starting to upsert 0 records in batches of 1000\n"
     ]
    },
    {
     "name": "stderr",
     "output_type": "stream",
     "text": [
      "2025-04-22 20:04:38,405 - INFO - Processed 3260000/6416827 records\n"
     ]
    },
    {
     "name": "stderr",
     "output_type": "stream",
     "text": [
      "2025-04-22 20:04:38,416 - INFO - Starting to upsert 0 records in batches of 1000\n"
     ]
    },
    {
     "name": "stderr",
     "output_type": "stream",
     "text": [
      "2025-04-22 20:04:38,417 - INFO - Processed 3270000/6416827 records\n"
     ]
    },
    {
     "name": "stderr",
     "output_type": "stream",
     "text": [
      "2025-04-22 20:04:38,428 - INFO - Starting to upsert 0 records in batches of 1000\n"
     ]
    },
    {
     "name": "stderr",
     "output_type": "stream",
     "text": [
      "2025-04-22 20:04:38,429 - INFO - Processed 3280000/6416827 records\n"
     ]
    },
    {
     "name": "stderr",
     "output_type": "stream",
     "text": [
      "2025-04-22 20:04:38,441 - INFO - Starting to upsert 0 records in batches of 1000\n"
     ]
    },
    {
     "name": "stderr",
     "output_type": "stream",
     "text": [
      "2025-04-22 20:04:38,442 - INFO - Processed 3290000/6416827 records\n"
     ]
    },
    {
     "name": "stderr",
     "output_type": "stream",
     "text": [
      "2025-04-22 20:04:38,457 - INFO - Starting to upsert 0 records in batches of 1000\n"
     ]
    },
    {
     "name": "stderr",
     "output_type": "stream",
     "text": [
      "2025-04-22 20:04:38,458 - INFO - Processed 3300000/6416827 records\n"
     ]
    },
    {
     "name": "stderr",
     "output_type": "stream",
     "text": [
      "2025-04-22 20:04:38,468 - INFO - Starting to upsert 0 records in batches of 1000\n"
     ]
    },
    {
     "name": "stderr",
     "output_type": "stream",
     "text": [
      "2025-04-22 20:04:38,469 - INFO - Processed 3310000/6416827 records\n"
     ]
    },
    {
     "name": "stderr",
     "output_type": "stream",
     "text": [
      "2025-04-22 20:04:38,480 - INFO - Starting to upsert 0 records in batches of 1000\n"
     ]
    },
    {
     "name": "stderr",
     "output_type": "stream",
     "text": [
      "2025-04-22 20:04:38,481 - INFO - Processed 3320000/6416827 records\n"
     ]
    },
    {
     "name": "stderr",
     "output_type": "stream",
     "text": [
      "2025-04-22 20:04:38,491 - INFO - Starting to upsert 0 records in batches of 1000\n"
     ]
    },
    {
     "name": "stderr",
     "output_type": "stream",
     "text": [
      "2025-04-22 20:04:38,491 - INFO - Processed 3330000/6416827 records\n"
     ]
    },
    {
     "name": "stderr",
     "output_type": "stream",
     "text": [
      "2025-04-22 20:04:38,501 - INFO - Starting to upsert 0 records in batches of 1000\n"
     ]
    },
    {
     "name": "stderr",
     "output_type": "stream",
     "text": [
      "2025-04-22 20:04:38,502 - INFO - Processed 3340000/6416827 records\n"
     ]
    },
    {
     "name": "stderr",
     "output_type": "stream",
     "text": [
      "2025-04-22 20:04:38,512 - INFO - Starting to upsert 0 records in batches of 1000\n"
     ]
    },
    {
     "name": "stderr",
     "output_type": "stream",
     "text": [
      "2025-04-22 20:04:38,512 - INFO - Processed 3350000/6416827 records\n"
     ]
    },
    {
     "name": "stderr",
     "output_type": "stream",
     "text": [
      "2025-04-22 20:04:38,522 - INFO - Starting to upsert 0 records in batches of 1000\n"
     ]
    },
    {
     "name": "stderr",
     "output_type": "stream",
     "text": [
      "2025-04-22 20:04:38,522 - INFO - Processed 3360000/6416827 records\n"
     ]
    },
    {
     "name": "stderr",
     "output_type": "stream",
     "text": [
      "2025-04-22 20:04:38,532 - INFO - Starting to upsert 0 records in batches of 1000\n"
     ]
    },
    {
     "name": "stderr",
     "output_type": "stream",
     "text": [
      "2025-04-22 20:04:38,533 - INFO - Processed 3370000/6416827 records\n"
     ]
    },
    {
     "name": "stderr",
     "output_type": "stream",
     "text": [
      "2025-04-22 20:04:38,543 - INFO - Starting to upsert 0 records in batches of 1000\n"
     ]
    },
    {
     "name": "stderr",
     "output_type": "stream",
     "text": [
      "2025-04-22 20:04:38,544 - INFO - Processed 3380000/6416827 records\n"
     ]
    },
    {
     "name": "stderr",
     "output_type": "stream",
     "text": [
      "2025-04-22 20:04:38,553 - INFO - Starting to upsert 0 records in batches of 1000\n"
     ]
    },
    {
     "name": "stderr",
     "output_type": "stream",
     "text": [
      "2025-04-22 20:04:38,554 - INFO - Processed 3390000/6416827 records\n"
     ]
    },
    {
     "name": "stderr",
     "output_type": "stream",
     "text": [
      "2025-04-22 20:04:38,567 - INFO - Starting to upsert 0 records in batches of 1000\n"
     ]
    },
    {
     "name": "stderr",
     "output_type": "stream",
     "text": [
      "2025-04-22 20:04:38,567 - INFO - Processed 3400000/6416827 records\n"
     ]
    },
    {
     "name": "stderr",
     "output_type": "stream",
     "text": [
      "2025-04-22 20:04:38,579 - INFO - Starting to upsert 0 records in batches of 1000\n"
     ]
    },
    {
     "name": "stderr",
     "output_type": "stream",
     "text": [
      "2025-04-22 20:04:38,580 - INFO - Processed 3410000/6416827 records\n"
     ]
    },
    {
     "name": "stderr",
     "output_type": "stream",
     "text": [
      "2025-04-22 20:04:38,591 - INFO - Starting to upsert 0 records in batches of 1000\n"
     ]
    },
    {
     "name": "stderr",
     "output_type": "stream",
     "text": [
      "2025-04-22 20:04:38,591 - INFO - Processed 3420000/6416827 records\n"
     ]
    },
    {
     "name": "stderr",
     "output_type": "stream",
     "text": [
      "2025-04-22 20:04:38,601 - INFO - Starting to upsert 0 records in batches of 1000\n"
     ]
    },
    {
     "name": "stderr",
     "output_type": "stream",
     "text": [
      "2025-04-22 20:04:38,602 - INFO - Processed 3430000/6416827 records\n"
     ]
    },
    {
     "name": "stderr",
     "output_type": "stream",
     "text": [
      "2025-04-22 20:04:38,613 - INFO - Starting to upsert 0 records in batches of 1000\n"
     ]
    },
    {
     "name": "stderr",
     "output_type": "stream",
     "text": [
      "2025-04-22 20:04:38,613 - INFO - Processed 3440000/6416827 records\n"
     ]
    },
    {
     "name": "stderr",
     "output_type": "stream",
     "text": [
      "2025-04-22 20:04:38,623 - INFO - Starting to upsert 0 records in batches of 1000\n"
     ]
    },
    {
     "name": "stderr",
     "output_type": "stream",
     "text": [
      "2025-04-22 20:04:38,624 - INFO - Processed 3450000/6416827 records\n"
     ]
    },
    {
     "name": "stderr",
     "output_type": "stream",
     "text": [
      "2025-04-22 20:04:38,638 - INFO - Starting to upsert 0 records in batches of 1000\n"
     ]
    },
    {
     "name": "stderr",
     "output_type": "stream",
     "text": [
      "2025-04-22 20:04:38,639 - INFO - Processed 3460000/6416827 records\n"
     ]
    },
    {
     "name": "stderr",
     "output_type": "stream",
     "text": [
      "2025-04-22 20:04:38,650 - INFO - Starting to upsert 0 records in batches of 1000\n"
     ]
    },
    {
     "name": "stderr",
     "output_type": "stream",
     "text": [
      "2025-04-22 20:04:38,651 - INFO - Processed 3470000/6416827 records\n"
     ]
    },
    {
     "name": "stderr",
     "output_type": "stream",
     "text": [
      "2025-04-22 20:04:38,662 - INFO - Starting to upsert 0 records in batches of 1000\n"
     ]
    },
    {
     "name": "stderr",
     "output_type": "stream",
     "text": [
      "2025-04-22 20:04:38,663 - INFO - Processed 3480000/6416827 records\n"
     ]
    },
    {
     "name": "stderr",
     "output_type": "stream",
     "text": [
      "2025-04-22 20:04:38,674 - INFO - Starting to upsert 0 records in batches of 1000\n"
     ]
    },
    {
     "name": "stderr",
     "output_type": "stream",
     "text": [
      "2025-04-22 20:04:38,675 - INFO - Processed 3490000/6416827 records\n"
     ]
    },
    {
     "name": "stderr",
     "output_type": "stream",
     "text": [
      "2025-04-22 20:04:38,687 - INFO - Starting to upsert 0 records in batches of 1000\n"
     ]
    },
    {
     "name": "stderr",
     "output_type": "stream",
     "text": [
      "2025-04-22 20:04:38,688 - INFO - Processed 3500000/6416827 records\n"
     ]
    },
    {
     "name": "stderr",
     "output_type": "stream",
     "text": [
      "2025-04-22 20:04:38,701 - INFO - Starting to upsert 0 records in batches of 1000\n"
     ]
    },
    {
     "name": "stderr",
     "output_type": "stream",
     "text": [
      "2025-04-22 20:04:38,702 - INFO - Processed 3510000/6416827 records\n"
     ]
    },
    {
     "name": "stderr",
     "output_type": "stream",
     "text": [
      "2025-04-22 20:04:38,714 - INFO - Starting to upsert 0 records in batches of 1000\n"
     ]
    },
    {
     "name": "stderr",
     "output_type": "stream",
     "text": [
      "2025-04-22 20:04:38,714 - INFO - Processed 3520000/6416827 records\n"
     ]
    },
    {
     "name": "stderr",
     "output_type": "stream",
     "text": [
      "2025-04-22 20:04:38,726 - INFO - Starting to upsert 0 records in batches of 1000\n"
     ]
    },
    {
     "name": "stderr",
     "output_type": "stream",
     "text": [
      "2025-04-22 20:04:38,727 - INFO - Processed 3530000/6416827 records\n"
     ]
    },
    {
     "name": "stderr",
     "output_type": "stream",
     "text": [
      "2025-04-22 20:04:38,739 - INFO - Starting to upsert 0 records in batches of 1000\n"
     ]
    },
    {
     "name": "stderr",
     "output_type": "stream",
     "text": [
      "2025-04-22 20:04:38,739 - INFO - Processed 3540000/6416827 records\n"
     ]
    },
    {
     "name": "stderr",
     "output_type": "stream",
     "text": [
      "2025-04-22 20:04:38,750 - INFO - Starting to upsert 0 records in batches of 1000\n"
     ]
    },
    {
     "name": "stderr",
     "output_type": "stream",
     "text": [
      "2025-04-22 20:04:38,751 - INFO - Processed 3550000/6416827 records\n"
     ]
    },
    {
     "name": "stderr",
     "output_type": "stream",
     "text": [
      "2025-04-22 20:04:38,763 - INFO - Starting to upsert 0 records in batches of 1000\n"
     ]
    },
    {
     "name": "stderr",
     "output_type": "stream",
     "text": [
      "2025-04-22 20:04:38,764 - INFO - Processed 3560000/6416827 records\n"
     ]
    },
    {
     "name": "stderr",
     "output_type": "stream",
     "text": [
      "2025-04-22 20:04:38,776 - INFO - Starting to upsert 0 records in batches of 1000\n"
     ]
    },
    {
     "name": "stderr",
     "output_type": "stream",
     "text": [
      "2025-04-22 20:04:38,776 - INFO - Processed 3570000/6416827 records\n"
     ]
    },
    {
     "name": "stderr",
     "output_type": "stream",
     "text": [
      "2025-04-22 20:04:38,789 - INFO - Starting to upsert 0 records in batches of 1000\n"
     ]
    },
    {
     "name": "stderr",
     "output_type": "stream",
     "text": [
      "2025-04-22 20:04:38,790 - INFO - Processed 3580000/6416827 records\n"
     ]
    },
    {
     "name": "stderr",
     "output_type": "stream",
     "text": [
      "2025-04-22 20:04:38,803 - INFO - Starting to upsert 0 records in batches of 1000\n"
     ]
    },
    {
     "name": "stderr",
     "output_type": "stream",
     "text": [
      "2025-04-22 20:04:38,804 - INFO - Processed 3590000/6416827 records\n"
     ]
    },
    {
     "name": "stderr",
     "output_type": "stream",
     "text": [
      "2025-04-22 20:04:38,818 - INFO - Starting to upsert 0 records in batches of 1000\n"
     ]
    },
    {
     "name": "stderr",
     "output_type": "stream",
     "text": [
      "2025-04-22 20:04:38,819 - INFO - Processed 3600000/6416827 records\n"
     ]
    },
    {
     "name": "stderr",
     "output_type": "stream",
     "text": [
      "2025-04-22 20:04:38,831 - INFO - Starting to upsert 0 records in batches of 1000\n"
     ]
    },
    {
     "name": "stderr",
     "output_type": "stream",
     "text": [
      "2025-04-22 20:04:38,832 - INFO - Processed 3610000/6416827 records\n"
     ]
    },
    {
     "name": "stderr",
     "output_type": "stream",
     "text": [
      "2025-04-22 20:04:38,843 - INFO - Starting to upsert 0 records in batches of 1000\n"
     ]
    },
    {
     "name": "stderr",
     "output_type": "stream",
     "text": [
      "2025-04-22 20:04:38,844 - INFO - Processed 3620000/6416827 records\n"
     ]
    },
    {
     "name": "stderr",
     "output_type": "stream",
     "text": [
      "2025-04-22 20:04:38,854 - INFO - Starting to upsert 0 records in batches of 1000\n"
     ]
    },
    {
     "name": "stderr",
     "output_type": "stream",
     "text": [
      "2025-04-22 20:04:38,855 - INFO - Processed 3630000/6416827 records\n"
     ]
    },
    {
     "name": "stderr",
     "output_type": "stream",
     "text": [
      "2025-04-22 20:04:38,866 - INFO - Starting to upsert 0 records in batches of 1000\n"
     ]
    },
    {
     "name": "stderr",
     "output_type": "stream",
     "text": [
      "2025-04-22 20:04:38,866 - INFO - Processed 3640000/6416827 records\n"
     ]
    },
    {
     "name": "stderr",
     "output_type": "stream",
     "text": [
      "2025-04-22 20:04:38,876 - INFO - Starting to upsert 0 records in batches of 1000\n"
     ]
    },
    {
     "name": "stderr",
     "output_type": "stream",
     "text": [
      "2025-04-22 20:04:38,877 - INFO - Processed 3650000/6416827 records\n"
     ]
    },
    {
     "name": "stderr",
     "output_type": "stream",
     "text": [
      "2025-04-22 20:04:38,887 - INFO - Starting to upsert 0 records in batches of 1000\n"
     ]
    },
    {
     "name": "stderr",
     "output_type": "stream",
     "text": [
      "2025-04-22 20:04:38,887 - INFO - Processed 3660000/6416827 records\n"
     ]
    },
    {
     "name": "stderr",
     "output_type": "stream",
     "text": [
      "2025-04-22 20:04:38,898 - INFO - Starting to upsert 0 records in batches of 1000\n"
     ]
    },
    {
     "name": "stderr",
     "output_type": "stream",
     "text": [
      "2025-04-22 20:04:38,899 - INFO - Processed 3670000/6416827 records\n"
     ]
    },
    {
     "name": "stderr",
     "output_type": "stream",
     "text": [
      "2025-04-22 20:04:38,912 - INFO - Starting to upsert 0 records in batches of 1000\n"
     ]
    },
    {
     "name": "stderr",
     "output_type": "stream",
     "text": [
      "2025-04-22 20:04:38,912 - INFO - Processed 3680000/6416827 records\n"
     ]
    },
    {
     "name": "stderr",
     "output_type": "stream",
     "text": [
      "2025-04-22 20:04:38,926 - INFO - Starting to upsert 0 records in batches of 1000\n"
     ]
    },
    {
     "name": "stderr",
     "output_type": "stream",
     "text": [
      "2025-04-22 20:04:38,926 - INFO - Processed 3690000/6416827 records\n"
     ]
    },
    {
     "name": "stderr",
     "output_type": "stream",
     "text": [
      "2025-04-22 20:04:38,938 - INFO - Starting to upsert 0 records in batches of 1000\n"
     ]
    },
    {
     "name": "stderr",
     "output_type": "stream",
     "text": [
      "2025-04-22 20:04:38,938 - INFO - Processed 3700000/6416827 records\n"
     ]
    },
    {
     "name": "stderr",
     "output_type": "stream",
     "text": [
      "2025-04-22 20:04:38,949 - INFO - Starting to upsert 0 records in batches of 1000\n"
     ]
    },
    {
     "name": "stderr",
     "output_type": "stream",
     "text": [
      "2025-04-22 20:04:38,949 - INFO - Processed 3710000/6416827 records\n"
     ]
    },
    {
     "name": "stderr",
     "output_type": "stream",
     "text": [
      "2025-04-22 20:04:38,961 - INFO - Starting to upsert 0 records in batches of 1000\n"
     ]
    },
    {
     "name": "stderr",
     "output_type": "stream",
     "text": [
      "2025-04-22 20:04:38,962 - INFO - Processed 3720000/6416827 records\n"
     ]
    },
    {
     "name": "stderr",
     "output_type": "stream",
     "text": [
      "2025-04-22 20:04:38,973 - INFO - Starting to upsert 0 records in batches of 1000\n"
     ]
    },
    {
     "name": "stderr",
     "output_type": "stream",
     "text": [
      "2025-04-22 20:04:38,973 - INFO - Processed 3730000/6416827 records\n"
     ]
    },
    {
     "name": "stderr",
     "output_type": "stream",
     "text": [
      "2025-04-22 20:04:38,986 - INFO - Starting to upsert 0 records in batches of 1000\n"
     ]
    },
    {
     "name": "stderr",
     "output_type": "stream",
     "text": [
      "2025-04-22 20:04:38,986 - INFO - Processed 3740000/6416827 records\n"
     ]
    },
    {
     "name": "stderr",
     "output_type": "stream",
     "text": [
      "2025-04-22 20:04:38,997 - INFO - Starting to upsert 0 records in batches of 1000\n"
     ]
    },
    {
     "name": "stderr",
     "output_type": "stream",
     "text": [
      "2025-04-22 20:04:38,998 - INFO - Processed 3750000/6416827 records\n"
     ]
    },
    {
     "name": "stderr",
     "output_type": "stream",
     "text": [
      "2025-04-22 20:04:39,008 - INFO - Starting to upsert 0 records in batches of 1000\n"
     ]
    },
    {
     "name": "stderr",
     "output_type": "stream",
     "text": [
      "2025-04-22 20:04:39,009 - INFO - Processed 3760000/6416827 records\n"
     ]
    },
    {
     "name": "stderr",
     "output_type": "stream",
     "text": [
      "2025-04-22 20:04:39,020 - INFO - Starting to upsert 0 records in batches of 1000\n"
     ]
    },
    {
     "name": "stderr",
     "output_type": "stream",
     "text": [
      "2025-04-22 20:04:39,020 - INFO - Processed 3770000/6416827 records\n"
     ]
    },
    {
     "name": "stderr",
     "output_type": "stream",
     "text": [
      "2025-04-22 20:04:39,031 - INFO - Starting to upsert 0 records in batches of 1000\n"
     ]
    },
    {
     "name": "stderr",
     "output_type": "stream",
     "text": [
      "2025-04-22 20:04:39,032 - INFO - Processed 3780000/6416827 records\n"
     ]
    },
    {
     "name": "stderr",
     "output_type": "stream",
     "text": [
      "2025-04-22 20:04:39,043 - INFO - Starting to upsert 0 records in batches of 1000\n"
     ]
    },
    {
     "name": "stderr",
     "output_type": "stream",
     "text": [
      "2025-04-22 20:04:39,044 - INFO - Processed 3790000/6416827 records\n"
     ]
    },
    {
     "name": "stderr",
     "output_type": "stream",
     "text": [
      "2025-04-22 20:04:39,056 - INFO - Starting to upsert 0 records in batches of 1000\n"
     ]
    },
    {
     "name": "stderr",
     "output_type": "stream",
     "text": [
      "2025-04-22 20:04:39,057 - INFO - Processed 3800000/6416827 records\n"
     ]
    },
    {
     "name": "stderr",
     "output_type": "stream",
     "text": [
      "2025-04-22 20:04:39,068 - INFO - Starting to upsert 0 records in batches of 1000\n"
     ]
    },
    {
     "name": "stderr",
     "output_type": "stream",
     "text": [
      "2025-04-22 20:04:39,068 - INFO - Processed 3810000/6416827 records\n"
     ]
    },
    {
     "name": "stderr",
     "output_type": "stream",
     "text": [
      "2025-04-22 20:04:39,081 - INFO - Starting to upsert 0 records in batches of 1000\n"
     ]
    },
    {
     "name": "stderr",
     "output_type": "stream",
     "text": [
      "2025-04-22 20:04:39,081 - INFO - Processed 3820000/6416827 records\n"
     ]
    },
    {
     "name": "stderr",
     "output_type": "stream",
     "text": [
      "2025-04-22 20:04:39,091 - INFO - Starting to upsert 0 records in batches of 1000\n"
     ]
    },
    {
     "name": "stderr",
     "output_type": "stream",
     "text": [
      "2025-04-22 20:04:39,092 - INFO - Processed 3830000/6416827 records\n"
     ]
    },
    {
     "name": "stderr",
     "output_type": "stream",
     "text": [
      "2025-04-22 20:04:39,103 - INFO - Starting to upsert 0 records in batches of 1000\n"
     ]
    },
    {
     "name": "stderr",
     "output_type": "stream",
     "text": [
      "2025-04-22 20:04:39,103 - INFO - Processed 3840000/6416827 records\n"
     ]
    },
    {
     "name": "stderr",
     "output_type": "stream",
     "text": [
      "2025-04-22 20:04:39,114 - INFO - Starting to upsert 0 records in batches of 1000\n"
     ]
    },
    {
     "name": "stderr",
     "output_type": "stream",
     "text": [
      "2025-04-22 20:04:39,115 - INFO - Processed 3850000/6416827 records\n"
     ]
    },
    {
     "name": "stderr",
     "output_type": "stream",
     "text": [
      "2025-04-22 20:04:39,126 - INFO - Starting to upsert 0 records in batches of 1000\n"
     ]
    },
    {
     "name": "stderr",
     "output_type": "stream",
     "text": [
      "2025-04-22 20:04:39,128 - INFO - Processed 3860000/6416827 records\n"
     ]
    },
    {
     "name": "stderr",
     "output_type": "stream",
     "text": [
      "2025-04-22 20:04:39,140 - INFO - Starting to upsert 0 records in batches of 1000\n"
     ]
    },
    {
     "name": "stderr",
     "output_type": "stream",
     "text": [
      "2025-04-22 20:04:39,141 - INFO - Processed 3870000/6416827 records\n"
     ]
    },
    {
     "name": "stderr",
     "output_type": "stream",
     "text": [
      "2025-04-22 20:04:39,153 - INFO - Starting to upsert 0 records in batches of 1000\n"
     ]
    },
    {
     "name": "stderr",
     "output_type": "stream",
     "text": [
      "2025-04-22 20:04:39,153 - INFO - Processed 3880000/6416827 records\n"
     ]
    },
    {
     "name": "stderr",
     "output_type": "stream",
     "text": [
      "2025-04-22 20:04:39,166 - INFO - Starting to upsert 0 records in batches of 1000\n"
     ]
    },
    {
     "name": "stderr",
     "output_type": "stream",
     "text": [
      "2025-04-22 20:04:39,167 - INFO - Processed 3890000/6416827 records\n"
     ]
    },
    {
     "name": "stderr",
     "output_type": "stream",
     "text": [
      "2025-04-22 20:04:39,180 - INFO - Starting to upsert 0 records in batches of 1000\n"
     ]
    },
    {
     "name": "stderr",
     "output_type": "stream",
     "text": [
      "2025-04-22 20:04:39,180 - INFO - Processed 3900000/6416827 records\n"
     ]
    },
    {
     "name": "stderr",
     "output_type": "stream",
     "text": [
      "2025-04-22 20:04:39,191 - INFO - Starting to upsert 0 records in batches of 1000\n"
     ]
    },
    {
     "name": "stderr",
     "output_type": "stream",
     "text": [
      "2025-04-22 20:04:39,192 - INFO - Processed 3910000/6416827 records\n"
     ]
    },
    {
     "name": "stderr",
     "output_type": "stream",
     "text": [
      "2025-04-22 20:04:39,205 - INFO - Starting to upsert 0 records in batches of 1000\n"
     ]
    },
    {
     "name": "stderr",
     "output_type": "stream",
     "text": [
      "2025-04-22 20:04:39,205 - INFO - Processed 3920000/6416827 records\n"
     ]
    },
    {
     "name": "stderr",
     "output_type": "stream",
     "text": [
      "2025-04-22 20:04:39,217 - INFO - Starting to upsert 0 records in batches of 1000\n"
     ]
    },
    {
     "name": "stderr",
     "output_type": "stream",
     "text": [
      "2025-04-22 20:04:39,218 - INFO - Processed 3930000/6416827 records\n"
     ]
    },
    {
     "name": "stderr",
     "output_type": "stream",
     "text": [
      "2025-04-22 20:04:39,229 - INFO - Starting to upsert 0 records in batches of 1000\n"
     ]
    },
    {
     "name": "stderr",
     "output_type": "stream",
     "text": [
      "2025-04-22 20:04:39,230 - INFO - Processed 3940000/6416827 records\n"
     ]
    },
    {
     "name": "stderr",
     "output_type": "stream",
     "text": [
      "2025-04-22 20:04:39,241 - INFO - Starting to upsert 0 records in batches of 1000\n"
     ]
    },
    {
     "name": "stderr",
     "output_type": "stream",
     "text": [
      "2025-04-22 20:04:39,242 - INFO - Processed 3950000/6416827 records\n"
     ]
    },
    {
     "name": "stderr",
     "output_type": "stream",
     "text": [
      "2025-04-22 20:04:39,253 - INFO - Starting to upsert 0 records in batches of 1000\n"
     ]
    },
    {
     "name": "stderr",
     "output_type": "stream",
     "text": [
      "2025-04-22 20:04:39,254 - INFO - Processed 3960000/6416827 records\n"
     ]
    },
    {
     "name": "stderr",
     "output_type": "stream",
     "text": [
      "2025-04-22 20:04:39,267 - INFO - Starting to upsert 0 records in batches of 1000\n"
     ]
    },
    {
     "name": "stderr",
     "output_type": "stream",
     "text": [
      "2025-04-22 20:04:39,268 - INFO - Processed 3970000/6416827 records\n"
     ]
    },
    {
     "name": "stderr",
     "output_type": "stream",
     "text": [
      "2025-04-22 20:04:39,280 - INFO - Starting to upsert 0 records in batches of 1000\n"
     ]
    },
    {
     "name": "stderr",
     "output_type": "stream",
     "text": [
      "2025-04-22 20:04:39,281 - INFO - Processed 3980000/6416827 records\n"
     ]
    },
    {
     "name": "stderr",
     "output_type": "stream",
     "text": [
      "2025-04-22 20:04:39,292 - INFO - Starting to upsert 0 records in batches of 1000\n"
     ]
    },
    {
     "name": "stderr",
     "output_type": "stream",
     "text": [
      "2025-04-22 20:04:39,292 - INFO - Processed 3990000/6416827 records\n"
     ]
    },
    {
     "name": "stderr",
     "output_type": "stream",
     "text": [
      "2025-04-22 20:04:39,305 - INFO - Starting to upsert 0 records in batches of 1000\n"
     ]
    },
    {
     "name": "stderr",
     "output_type": "stream",
     "text": [
      "2025-04-22 20:04:39,306 - INFO - Processed 4000000/6416827 records\n"
     ]
    },
    {
     "name": "stderr",
     "output_type": "stream",
     "text": [
      "2025-04-22 20:04:39,318 - INFO - Starting to upsert 0 records in batches of 1000\n"
     ]
    },
    {
     "name": "stderr",
     "output_type": "stream",
     "text": [
      "2025-04-22 20:04:39,319 - INFO - Processed 4010000/6416827 records\n"
     ]
    },
    {
     "name": "stderr",
     "output_type": "stream",
     "text": [
      "2025-04-22 20:04:39,332 - INFO - Starting to upsert 0 records in batches of 1000\n"
     ]
    },
    {
     "name": "stderr",
     "output_type": "stream",
     "text": [
      "2025-04-22 20:04:39,333 - INFO - Processed 4020000/6416827 records\n"
     ]
    },
    {
     "name": "stderr",
     "output_type": "stream",
     "text": [
      "2025-04-22 20:04:39,344 - INFO - Starting to upsert 0 records in batches of 1000\n"
     ]
    },
    {
     "name": "stderr",
     "output_type": "stream",
     "text": [
      "2025-04-22 20:04:39,345 - INFO - Processed 4030000/6416827 records\n"
     ]
    },
    {
     "name": "stderr",
     "output_type": "stream",
     "text": [
      "2025-04-22 20:04:39,355 - INFO - Starting to upsert 0 records in batches of 1000\n"
     ]
    },
    {
     "name": "stderr",
     "output_type": "stream",
     "text": [
      "2025-04-22 20:04:39,356 - INFO - Processed 4040000/6416827 records\n"
     ]
    },
    {
     "name": "stderr",
     "output_type": "stream",
     "text": [
      "2025-04-22 20:04:39,367 - INFO - Starting to upsert 0 records in batches of 1000\n"
     ]
    },
    {
     "name": "stderr",
     "output_type": "stream",
     "text": [
      "2025-04-22 20:04:39,368 - INFO - Processed 4050000/6416827 records\n"
     ]
    },
    {
     "name": "stderr",
     "output_type": "stream",
     "text": [
      "2025-04-22 20:04:39,379 - INFO - Starting to upsert 0 records in batches of 1000\n"
     ]
    },
    {
     "name": "stderr",
     "output_type": "stream",
     "text": [
      "2025-04-22 20:04:39,380 - INFO - Processed 4060000/6416827 records\n"
     ]
    },
    {
     "name": "stderr",
     "output_type": "stream",
     "text": [
      "2025-04-22 20:04:39,391 - INFO - Starting to upsert 0 records in batches of 1000\n"
     ]
    },
    {
     "name": "stderr",
     "output_type": "stream",
     "text": [
      "2025-04-22 20:04:39,391 - INFO - Processed 4070000/6416827 records\n"
     ]
    },
    {
     "name": "stderr",
     "output_type": "stream",
     "text": [
      "2025-04-22 20:04:39,402 - INFO - Starting to upsert 0 records in batches of 1000\n"
     ]
    },
    {
     "name": "stderr",
     "output_type": "stream",
     "text": [
      "2025-04-22 20:04:39,403 - INFO - Processed 4080000/6416827 records\n"
     ]
    },
    {
     "name": "stderr",
     "output_type": "stream",
     "text": [
      "2025-04-22 20:04:39,414 - INFO - Starting to upsert 0 records in batches of 1000\n"
     ]
    },
    {
     "name": "stderr",
     "output_type": "stream",
     "text": [
      "2025-04-22 20:04:39,414 - INFO - Processed 4090000/6416827 records\n"
     ]
    },
    {
     "name": "stderr",
     "output_type": "stream",
     "text": [
      "2025-04-22 20:04:39,426 - INFO - Starting to upsert 0 records in batches of 1000\n"
     ]
    },
    {
     "name": "stderr",
     "output_type": "stream",
     "text": [
      "2025-04-22 20:04:39,426 - INFO - Processed 4100000/6416827 records\n"
     ]
    },
    {
     "name": "stderr",
     "output_type": "stream",
     "text": [
      "2025-04-22 20:04:39,436 - INFO - Starting to upsert 0 records in batches of 1000\n"
     ]
    },
    {
     "name": "stderr",
     "output_type": "stream",
     "text": [
      "2025-04-22 20:04:39,437 - INFO - Processed 4110000/6416827 records\n"
     ]
    },
    {
     "name": "stderr",
     "output_type": "stream",
     "text": [
      "2025-04-22 20:04:39,447 - INFO - Starting to upsert 0 records in batches of 1000\n"
     ]
    },
    {
     "name": "stderr",
     "output_type": "stream",
     "text": [
      "2025-04-22 20:04:39,448 - INFO - Processed 4120000/6416827 records\n"
     ]
    },
    {
     "name": "stderr",
     "output_type": "stream",
     "text": [
      "2025-04-22 20:04:39,458 - INFO - Starting to upsert 0 records in batches of 1000\n"
     ]
    },
    {
     "name": "stderr",
     "output_type": "stream",
     "text": [
      "2025-04-22 20:04:39,459 - INFO - Processed 4130000/6416827 records\n"
     ]
    },
    {
     "name": "stderr",
     "output_type": "stream",
     "text": [
      "2025-04-22 20:04:39,470 - INFO - Starting to upsert 0 records in batches of 1000\n"
     ]
    },
    {
     "name": "stderr",
     "output_type": "stream",
     "text": [
      "2025-04-22 20:04:39,470 - INFO - Processed 4140000/6416827 records\n"
     ]
    },
    {
     "name": "stderr",
     "output_type": "stream",
     "text": [
      "2025-04-22 20:04:39,484 - INFO - Starting to upsert 0 records in batches of 1000\n"
     ]
    },
    {
     "name": "stderr",
     "output_type": "stream",
     "text": [
      "2025-04-22 20:04:39,486 - INFO - Processed 4150000/6416827 records\n"
     ]
    },
    {
     "name": "stderr",
     "output_type": "stream",
     "text": [
      "2025-04-22 20:04:39,498 - INFO - Starting to upsert 0 records in batches of 1000\n"
     ]
    },
    {
     "name": "stderr",
     "output_type": "stream",
     "text": [
      "2025-04-22 20:04:39,499 - INFO - Processed 4160000/6416827 records\n"
     ]
    },
    {
     "name": "stderr",
     "output_type": "stream",
     "text": [
      "2025-04-22 20:04:39,512 - INFO - Starting to upsert 0 records in batches of 1000\n"
     ]
    },
    {
     "name": "stderr",
     "output_type": "stream",
     "text": [
      "2025-04-22 20:04:39,513 - INFO - Processed 4170000/6416827 records\n"
     ]
    },
    {
     "name": "stderr",
     "output_type": "stream",
     "text": [
      "2025-04-22 20:04:39,524 - INFO - Starting to upsert 0 records in batches of 1000\n"
     ]
    },
    {
     "name": "stderr",
     "output_type": "stream",
     "text": [
      "2025-04-22 20:04:39,525 - INFO - Processed 4180000/6416827 records\n"
     ]
    },
    {
     "name": "stderr",
     "output_type": "stream",
     "text": [
      "2025-04-22 20:04:39,536 - INFO - Starting to upsert 0 records in batches of 1000\n"
     ]
    },
    {
     "name": "stderr",
     "output_type": "stream",
     "text": [
      "2025-04-22 20:04:39,537 - INFO - Processed 4190000/6416827 records\n"
     ]
    },
    {
     "name": "stderr",
     "output_type": "stream",
     "text": [
      "2025-04-22 20:04:39,547 - INFO - Starting to upsert 0 records in batches of 1000\n"
     ]
    },
    {
     "name": "stderr",
     "output_type": "stream",
     "text": [
      "2025-04-22 20:04:39,548 - INFO - Processed 4200000/6416827 records\n"
     ]
    },
    {
     "name": "stderr",
     "output_type": "stream",
     "text": [
      "2025-04-22 20:04:39,558 - INFO - Starting to upsert 0 records in batches of 1000\n"
     ]
    },
    {
     "name": "stderr",
     "output_type": "stream",
     "text": [
      "2025-04-22 20:04:39,558 - INFO - Processed 4210000/6416827 records\n"
     ]
    },
    {
     "name": "stderr",
     "output_type": "stream",
     "text": [
      "2025-04-22 20:04:39,569 - INFO - Starting to upsert 0 records in batches of 1000\n"
     ]
    },
    {
     "name": "stderr",
     "output_type": "stream",
     "text": [
      "2025-04-22 20:04:39,570 - INFO - Processed 4220000/6416827 records\n"
     ]
    },
    {
     "name": "stderr",
     "output_type": "stream",
     "text": [
      "2025-04-22 20:04:39,580 - INFO - Starting to upsert 0 records in batches of 1000\n"
     ]
    },
    {
     "name": "stderr",
     "output_type": "stream",
     "text": [
      "2025-04-22 20:04:39,581 - INFO - Processed 4230000/6416827 records\n"
     ]
    },
    {
     "name": "stderr",
     "output_type": "stream",
     "text": [
      "2025-04-22 20:04:39,591 - INFO - Starting to upsert 0 records in batches of 1000\n"
     ]
    },
    {
     "name": "stderr",
     "output_type": "stream",
     "text": [
      "2025-04-22 20:04:39,592 - INFO - Processed 4240000/6416827 records\n"
     ]
    },
    {
     "name": "stderr",
     "output_type": "stream",
     "text": [
      "2025-04-22 20:04:39,602 - INFO - Starting to upsert 0 records in batches of 1000\n"
     ]
    },
    {
     "name": "stderr",
     "output_type": "stream",
     "text": [
      "2025-04-22 20:04:39,603 - INFO - Processed 4250000/6416827 records\n"
     ]
    },
    {
     "name": "stderr",
     "output_type": "stream",
     "text": [
      "2025-04-22 20:04:39,613 - INFO - Starting to upsert 0 records in batches of 1000\n"
     ]
    },
    {
     "name": "stderr",
     "output_type": "stream",
     "text": [
      "2025-04-22 20:04:39,614 - INFO - Processed 4260000/6416827 records\n"
     ]
    },
    {
     "name": "stderr",
     "output_type": "stream",
     "text": [
      "2025-04-22 20:04:39,623 - INFO - Starting to upsert 0 records in batches of 1000\n"
     ]
    },
    {
     "name": "stderr",
     "output_type": "stream",
     "text": [
      "2025-04-22 20:04:39,624 - INFO - Processed 4270000/6416827 records\n"
     ]
    },
    {
     "name": "stderr",
     "output_type": "stream",
     "text": [
      "2025-04-22 20:04:39,634 - INFO - Starting to upsert 0 records in batches of 1000\n"
     ]
    },
    {
     "name": "stderr",
     "output_type": "stream",
     "text": [
      "2025-04-22 20:04:39,635 - INFO - Processed 4280000/6416827 records\n"
     ]
    },
    {
     "name": "stderr",
     "output_type": "stream",
     "text": [
      "2025-04-22 20:04:39,645 - INFO - Starting to upsert 0 records in batches of 1000\n"
     ]
    },
    {
     "name": "stderr",
     "output_type": "stream",
     "text": [
      "2025-04-22 20:04:39,646 - INFO - Processed 4290000/6416827 records\n"
     ]
    },
    {
     "name": "stderr",
     "output_type": "stream",
     "text": [
      "2025-04-22 20:04:39,657 - INFO - Starting to upsert 0 records in batches of 1000\n"
     ]
    },
    {
     "name": "stderr",
     "output_type": "stream",
     "text": [
      "2025-04-22 20:04:39,657 - INFO - Processed 4300000/6416827 records\n"
     ]
    },
    {
     "name": "stderr",
     "output_type": "stream",
     "text": [
      "2025-04-22 20:04:39,668 - INFO - Starting to upsert 0 records in batches of 1000\n"
     ]
    },
    {
     "name": "stderr",
     "output_type": "stream",
     "text": [
      "2025-04-22 20:04:39,668 - INFO - Processed 4310000/6416827 records\n"
     ]
    },
    {
     "name": "stderr",
     "output_type": "stream",
     "text": [
      "2025-04-22 20:04:39,680 - INFO - Starting to upsert 0 records in batches of 1000\n"
     ]
    },
    {
     "name": "stderr",
     "output_type": "stream",
     "text": [
      "2025-04-22 20:04:39,680 - INFO - Processed 4320000/6416827 records\n"
     ]
    },
    {
     "name": "stderr",
     "output_type": "stream",
     "text": [
      "2025-04-22 20:04:39,690 - INFO - Starting to upsert 0 records in batches of 1000\n"
     ]
    },
    {
     "name": "stderr",
     "output_type": "stream",
     "text": [
      "2025-04-22 20:04:39,691 - INFO - Processed 4330000/6416827 records\n"
     ]
    },
    {
     "name": "stderr",
     "output_type": "stream",
     "text": [
      "2025-04-22 20:04:39,701 - INFO - Starting to upsert 0 records in batches of 1000\n"
     ]
    },
    {
     "name": "stderr",
     "output_type": "stream",
     "text": [
      "2025-04-22 20:04:39,703 - INFO - Processed 4340000/6416827 records\n"
     ]
    },
    {
     "name": "stderr",
     "output_type": "stream",
     "text": [
      "2025-04-22 20:04:39,713 - INFO - Starting to upsert 0 records in batches of 1000\n"
     ]
    },
    {
     "name": "stderr",
     "output_type": "stream",
     "text": [
      "2025-04-22 20:04:39,714 - INFO - Processed 4350000/6416827 records\n"
     ]
    },
    {
     "name": "stderr",
     "output_type": "stream",
     "text": [
      "2025-04-22 20:04:39,724 - INFO - Starting to upsert 0 records in batches of 1000\n"
     ]
    },
    {
     "name": "stderr",
     "output_type": "stream",
     "text": [
      "2025-04-22 20:04:39,725 - INFO - Processed 4360000/6416827 records\n"
     ]
    },
    {
     "name": "stderr",
     "output_type": "stream",
     "text": [
      "2025-04-22 20:04:39,735 - INFO - Starting to upsert 0 records in batches of 1000\n"
     ]
    },
    {
     "name": "stderr",
     "output_type": "stream",
     "text": [
      "2025-04-22 20:04:39,735 - INFO - Processed 4370000/6416827 records\n"
     ]
    },
    {
     "name": "stderr",
     "output_type": "stream",
     "text": [
      "2025-04-22 20:04:39,745 - INFO - Starting to upsert 0 records in batches of 1000\n"
     ]
    },
    {
     "name": "stderr",
     "output_type": "stream",
     "text": [
      "2025-04-22 20:04:39,746 - INFO - Processed 4380000/6416827 records\n"
     ]
    },
    {
     "name": "stderr",
     "output_type": "stream",
     "text": [
      "2025-04-22 20:04:39,756 - INFO - Starting to upsert 0 records in batches of 1000\n"
     ]
    },
    {
     "name": "stderr",
     "output_type": "stream",
     "text": [
      "2025-04-22 20:04:39,757 - INFO - Processed 4390000/6416827 records\n"
     ]
    },
    {
     "name": "stderr",
     "output_type": "stream",
     "text": [
      "2025-04-22 20:04:39,770 - INFO - Starting to upsert 0 records in batches of 1000\n"
     ]
    },
    {
     "name": "stderr",
     "output_type": "stream",
     "text": [
      "2025-04-22 20:04:39,770 - INFO - Processed 4400000/6416827 records\n"
     ]
    },
    {
     "name": "stderr",
     "output_type": "stream",
     "text": [
      "2025-04-22 20:04:39,783 - INFO - Starting to upsert 0 records in batches of 1000\n"
     ]
    },
    {
     "name": "stderr",
     "output_type": "stream",
     "text": [
      "2025-04-22 20:04:39,784 - INFO - Processed 4410000/6416827 records\n"
     ]
    },
    {
     "name": "stderr",
     "output_type": "stream",
     "text": [
      "2025-04-22 20:04:39,797 - INFO - Starting to upsert 0 records in batches of 1000\n"
     ]
    },
    {
     "name": "stderr",
     "output_type": "stream",
     "text": [
      "2025-04-22 20:04:39,798 - INFO - Processed 4420000/6416827 records\n"
     ]
    },
    {
     "name": "stderr",
     "output_type": "stream",
     "text": [
      "2025-04-22 20:04:39,808 - INFO - Starting to upsert 0 records in batches of 1000\n"
     ]
    },
    {
     "name": "stderr",
     "output_type": "stream",
     "text": [
      "2025-04-22 20:04:39,809 - INFO - Processed 4430000/6416827 records\n"
     ]
    },
    {
     "name": "stderr",
     "output_type": "stream",
     "text": [
      "2025-04-22 20:04:39,820 - INFO - Starting to upsert 0 records in batches of 1000\n"
     ]
    },
    {
     "name": "stderr",
     "output_type": "stream",
     "text": [
      "2025-04-22 20:04:39,820 - INFO - Processed 4440000/6416827 records\n"
     ]
    },
    {
     "name": "stderr",
     "output_type": "stream",
     "text": [
      "2025-04-22 20:04:39,831 - INFO - Starting to upsert 0 records in batches of 1000\n"
     ]
    },
    {
     "name": "stderr",
     "output_type": "stream",
     "text": [
      "2025-04-22 20:04:39,832 - INFO - Processed 4450000/6416827 records\n"
     ]
    },
    {
     "name": "stderr",
     "output_type": "stream",
     "text": [
      "2025-04-22 20:04:39,844 - INFO - Starting to upsert 0 records in batches of 1000\n"
     ]
    },
    {
     "name": "stderr",
     "output_type": "stream",
     "text": [
      "2025-04-22 20:04:39,844 - INFO - Processed 4460000/6416827 records\n"
     ]
    },
    {
     "name": "stderr",
     "output_type": "stream",
     "text": [
      "2025-04-22 20:04:39,854 - INFO - Starting to upsert 0 records in batches of 1000\n"
     ]
    },
    {
     "name": "stderr",
     "output_type": "stream",
     "text": [
      "2025-04-22 20:04:39,855 - INFO - Processed 4470000/6416827 records\n"
     ]
    },
    {
     "name": "stderr",
     "output_type": "stream",
     "text": [
      "2025-04-22 20:04:39,865 - INFO - Starting to upsert 0 records in batches of 1000\n"
     ]
    },
    {
     "name": "stderr",
     "output_type": "stream",
     "text": [
      "2025-04-22 20:04:39,866 - INFO - Processed 4480000/6416827 records\n"
     ]
    },
    {
     "name": "stderr",
     "output_type": "stream",
     "text": [
      "2025-04-22 20:04:39,875 - INFO - Starting to upsert 0 records in batches of 1000\n"
     ]
    },
    {
     "name": "stderr",
     "output_type": "stream",
     "text": [
      "2025-04-22 20:04:39,875 - INFO - Processed 4490000/6416827 records\n"
     ]
    },
    {
     "name": "stderr",
     "output_type": "stream",
     "text": [
      "2025-04-22 20:04:39,886 - INFO - Starting to upsert 0 records in batches of 1000\n"
     ]
    },
    {
     "name": "stderr",
     "output_type": "stream",
     "text": [
      "2025-04-22 20:04:39,887 - INFO - Processed 4500000/6416827 records\n"
     ]
    },
    {
     "name": "stderr",
     "output_type": "stream",
     "text": [
      "2025-04-22 20:04:39,899 - INFO - Starting to upsert 0 records in batches of 1000\n"
     ]
    },
    {
     "name": "stderr",
     "output_type": "stream",
     "text": [
      "2025-04-22 20:04:39,899 - INFO - Processed 4510000/6416827 records\n"
     ]
    },
    {
     "name": "stderr",
     "output_type": "stream",
     "text": [
      "2025-04-22 20:04:39,913 - INFO - Starting to upsert 0 records in batches of 1000\n"
     ]
    },
    {
     "name": "stderr",
     "output_type": "stream",
     "text": [
      "2025-04-22 20:04:39,913 - INFO - Processed 4520000/6416827 records\n"
     ]
    },
    {
     "name": "stderr",
     "output_type": "stream",
     "text": [
      "2025-04-22 20:04:39,925 - INFO - Starting to upsert 0 records in batches of 1000\n"
     ]
    },
    {
     "name": "stderr",
     "output_type": "stream",
     "text": [
      "2025-04-22 20:04:39,925 - INFO - Processed 4530000/6416827 records\n"
     ]
    },
    {
     "name": "stderr",
     "output_type": "stream",
     "text": [
      "2025-04-22 20:04:39,935 - INFO - Starting to upsert 0 records in batches of 1000\n"
     ]
    },
    {
     "name": "stderr",
     "output_type": "stream",
     "text": [
      "2025-04-22 20:04:39,936 - INFO - Processed 4540000/6416827 records\n"
     ]
    },
    {
     "name": "stderr",
     "output_type": "stream",
     "text": [
      "2025-04-22 20:04:39,946 - INFO - Starting to upsert 0 records in batches of 1000\n"
     ]
    },
    {
     "name": "stderr",
     "output_type": "stream",
     "text": [
      "2025-04-22 20:04:39,946 - INFO - Processed 4550000/6416827 records\n"
     ]
    },
    {
     "name": "stderr",
     "output_type": "stream",
     "text": [
      "2025-04-22 20:04:39,956 - INFO - Starting to upsert 0 records in batches of 1000\n"
     ]
    },
    {
     "name": "stderr",
     "output_type": "stream",
     "text": [
      "2025-04-22 20:04:39,957 - INFO - Processed 4560000/6416827 records\n"
     ]
    },
    {
     "name": "stderr",
     "output_type": "stream",
     "text": [
      "2025-04-22 20:04:39,967 - INFO - Starting to upsert 0 records in batches of 1000\n"
     ]
    },
    {
     "name": "stderr",
     "output_type": "stream",
     "text": [
      "2025-04-22 20:04:39,968 - INFO - Processed 4570000/6416827 records\n"
     ]
    },
    {
     "name": "stderr",
     "output_type": "stream",
     "text": [
      "2025-04-22 20:04:39,978 - INFO - Starting to upsert 0 records in batches of 1000\n"
     ]
    },
    {
     "name": "stderr",
     "output_type": "stream",
     "text": [
      "2025-04-22 20:04:39,978 - INFO - Processed 4580000/6416827 records\n"
     ]
    },
    {
     "name": "stderr",
     "output_type": "stream",
     "text": [
      "2025-04-22 20:04:39,988 - INFO - Starting to upsert 0 records in batches of 1000\n"
     ]
    },
    {
     "name": "stderr",
     "output_type": "stream",
     "text": [
      "2025-04-22 20:04:39,989 - INFO - Processed 4590000/6416827 records\n"
     ]
    },
    {
     "name": "stderr",
     "output_type": "stream",
     "text": [
      "2025-04-22 20:04:39,999 - INFO - Starting to upsert 0 records in batches of 1000\n"
     ]
    },
    {
     "name": "stderr",
     "output_type": "stream",
     "text": [
      "2025-04-22 20:04:39,999 - INFO - Processed 4600000/6416827 records\n"
     ]
    },
    {
     "name": "stderr",
     "output_type": "stream",
     "text": [
      "2025-04-22 20:04:40,009 - INFO - Starting to upsert 0 records in batches of 1000\n"
     ]
    },
    {
     "name": "stderr",
     "output_type": "stream",
     "text": [
      "2025-04-22 20:04:40,010 - INFO - Processed 4610000/6416827 records\n"
     ]
    },
    {
     "name": "stderr",
     "output_type": "stream",
     "text": [
      "2025-04-22 20:04:40,020 - INFO - Starting to upsert 0 records in batches of 1000\n"
     ]
    },
    {
     "name": "stderr",
     "output_type": "stream",
     "text": [
      "2025-04-22 20:04:40,020 - INFO - Processed 4620000/6416827 records\n"
     ]
    },
    {
     "name": "stderr",
     "output_type": "stream",
     "text": [
      "2025-04-22 20:04:40,031 - INFO - Starting to upsert 0 records in batches of 1000\n"
     ]
    },
    {
     "name": "stderr",
     "output_type": "stream",
     "text": [
      "2025-04-22 20:04:40,031 - INFO - Processed 4630000/6416827 records\n"
     ]
    },
    {
     "name": "stderr",
     "output_type": "stream",
     "text": [
      "2025-04-22 20:04:40,041 - INFO - Starting to upsert 0 records in batches of 1000\n"
     ]
    },
    {
     "name": "stderr",
     "output_type": "stream",
     "text": [
      "2025-04-22 20:04:40,041 - INFO - Processed 4640000/6416827 records\n"
     ]
    },
    {
     "name": "stderr",
     "output_type": "stream",
     "text": [
      "2025-04-22 20:04:40,051 - INFO - Starting to upsert 0 records in batches of 1000\n"
     ]
    },
    {
     "name": "stderr",
     "output_type": "stream",
     "text": [
      "2025-04-22 20:04:40,052 - INFO - Processed 4650000/6416827 records\n"
     ]
    },
    {
     "name": "stderr",
     "output_type": "stream",
     "text": [
      "2025-04-22 20:04:40,062 - INFO - Starting to upsert 0 records in batches of 1000\n"
     ]
    },
    {
     "name": "stderr",
     "output_type": "stream",
     "text": [
      "2025-04-22 20:04:40,063 - INFO - Processed 4660000/6416827 records\n"
     ]
    },
    {
     "name": "stderr",
     "output_type": "stream",
     "text": [
      "2025-04-22 20:04:40,072 - INFO - Starting to upsert 0 records in batches of 1000\n"
     ]
    },
    {
     "name": "stderr",
     "output_type": "stream",
     "text": [
      "2025-04-22 20:04:40,073 - INFO - Processed 4670000/6416827 records\n"
     ]
    },
    {
     "name": "stderr",
     "output_type": "stream",
     "text": [
      "2025-04-22 20:04:40,084 - INFO - Starting to upsert 0 records in batches of 1000\n"
     ]
    },
    {
     "name": "stderr",
     "output_type": "stream",
     "text": [
      "2025-04-22 20:04:40,085 - INFO - Processed 4680000/6416827 records\n"
     ]
    },
    {
     "name": "stderr",
     "output_type": "stream",
     "text": [
      "2025-04-22 20:04:40,095 - INFO - Starting to upsert 0 records in batches of 1000\n"
     ]
    },
    {
     "name": "stderr",
     "output_type": "stream",
     "text": [
      "2025-04-22 20:04:40,096 - INFO - Processed 4690000/6416827 records\n"
     ]
    },
    {
     "name": "stderr",
     "output_type": "stream",
     "text": [
      "2025-04-22 20:04:40,106 - INFO - Starting to upsert 0 records in batches of 1000\n"
     ]
    },
    {
     "name": "stderr",
     "output_type": "stream",
     "text": [
      "2025-04-22 20:04:40,107 - INFO - Processed 4700000/6416827 records\n"
     ]
    },
    {
     "name": "stderr",
     "output_type": "stream",
     "text": [
      "2025-04-22 20:04:40,118 - INFO - Starting to upsert 0 records in batches of 1000\n"
     ]
    },
    {
     "name": "stderr",
     "output_type": "stream",
     "text": [
      "2025-04-22 20:04:40,118 - INFO - Processed 4710000/6416827 records\n"
     ]
    },
    {
     "name": "stderr",
     "output_type": "stream",
     "text": [
      "2025-04-22 20:04:40,131 - INFO - Starting to upsert 0 records in batches of 1000\n"
     ]
    },
    {
     "name": "stderr",
     "output_type": "stream",
     "text": [
      "2025-04-22 20:04:40,132 - INFO - Processed 4720000/6416827 records\n"
     ]
    },
    {
     "name": "stderr",
     "output_type": "stream",
     "text": [
      "2025-04-22 20:04:40,143 - INFO - Starting to upsert 0 records in batches of 1000\n"
     ]
    },
    {
     "name": "stderr",
     "output_type": "stream",
     "text": [
      "2025-04-22 20:04:40,144 - INFO - Processed 4730000/6416827 records\n"
     ]
    },
    {
     "name": "stderr",
     "output_type": "stream",
     "text": [
      "2025-04-22 20:04:40,155 - INFO - Starting to upsert 0 records in batches of 1000\n"
     ]
    },
    {
     "name": "stderr",
     "output_type": "stream",
     "text": [
      "2025-04-22 20:04:40,155 - INFO - Processed 4740000/6416827 records\n"
     ]
    },
    {
     "name": "stderr",
     "output_type": "stream",
     "text": [
      "2025-04-22 20:04:40,165 - INFO - Starting to upsert 0 records in batches of 1000\n"
     ]
    },
    {
     "name": "stderr",
     "output_type": "stream",
     "text": [
      "2025-04-22 20:04:40,166 - INFO - Processed 4750000/6416827 records\n"
     ]
    },
    {
     "name": "stderr",
     "output_type": "stream",
     "text": [
      "2025-04-22 20:04:40,175 - INFO - Starting to upsert 0 records in batches of 1000\n"
     ]
    },
    {
     "name": "stderr",
     "output_type": "stream",
     "text": [
      "2025-04-22 20:04:40,176 - INFO - Processed 4760000/6416827 records\n"
     ]
    },
    {
     "name": "stderr",
     "output_type": "stream",
     "text": [
      "2025-04-22 20:04:40,186 - INFO - Starting to upsert 0 records in batches of 1000\n"
     ]
    },
    {
     "name": "stderr",
     "output_type": "stream",
     "text": [
      "2025-04-22 20:04:40,186 - INFO - Processed 4770000/6416827 records\n"
     ]
    },
    {
     "name": "stderr",
     "output_type": "stream",
     "text": [
      "2025-04-22 20:04:40,196 - INFO - Starting to upsert 0 records in batches of 1000\n"
     ]
    },
    {
     "name": "stderr",
     "output_type": "stream",
     "text": [
      "2025-04-22 20:04:40,197 - INFO - Processed 4780000/6416827 records\n"
     ]
    },
    {
     "name": "stderr",
     "output_type": "stream",
     "text": [
      "2025-04-22 20:04:40,207 - INFO - Starting to upsert 0 records in batches of 1000\n"
     ]
    },
    {
     "name": "stderr",
     "output_type": "stream",
     "text": [
      "2025-04-22 20:04:40,207 - INFO - Processed 4790000/6416827 records\n"
     ]
    },
    {
     "name": "stderr",
     "output_type": "stream",
     "text": [
      "2025-04-22 20:04:40,217 - INFO - Starting to upsert 0 records in batches of 1000\n"
     ]
    },
    {
     "name": "stderr",
     "output_type": "stream",
     "text": [
      "2025-04-22 20:04:40,218 - INFO - Processed 4800000/6416827 records\n"
     ]
    },
    {
     "name": "stderr",
     "output_type": "stream",
     "text": [
      "2025-04-22 20:04:40,228 - INFO - Starting to upsert 0 records in batches of 1000\n"
     ]
    },
    {
     "name": "stderr",
     "output_type": "stream",
     "text": [
      "2025-04-22 20:04:40,228 - INFO - Processed 4810000/6416827 records\n"
     ]
    },
    {
     "name": "stderr",
     "output_type": "stream",
     "text": [
      "2025-04-22 20:04:40,238 - INFO - Starting to upsert 0 records in batches of 1000\n"
     ]
    },
    {
     "name": "stderr",
     "output_type": "stream",
     "text": [
      "2025-04-22 20:04:40,239 - INFO - Processed 4820000/6416827 records\n"
     ]
    },
    {
     "name": "stderr",
     "output_type": "stream",
     "text": [
      "2025-04-22 20:04:40,249 - INFO - Starting to upsert 0 records in batches of 1000\n"
     ]
    },
    {
     "name": "stderr",
     "output_type": "stream",
     "text": [
      "2025-04-22 20:04:40,249 - INFO - Processed 4830000/6416827 records\n"
     ]
    },
    {
     "name": "stderr",
     "output_type": "stream",
     "text": [
      "2025-04-22 20:04:40,260 - INFO - Starting to upsert 0 records in batches of 1000\n"
     ]
    },
    {
     "name": "stderr",
     "output_type": "stream",
     "text": [
      "2025-04-22 20:04:40,260 - INFO - Processed 4840000/6416827 records\n"
     ]
    },
    {
     "name": "stderr",
     "output_type": "stream",
     "text": [
      "2025-04-22 20:04:40,271 - INFO - Starting to upsert 0 records in batches of 1000\n"
     ]
    },
    {
     "name": "stderr",
     "output_type": "stream",
     "text": [
      "2025-04-22 20:04:40,271 - INFO - Processed 4850000/6416827 records\n"
     ]
    },
    {
     "name": "stderr",
     "output_type": "stream",
     "text": [
      "2025-04-22 20:04:40,282 - INFO - Starting to upsert 0 records in batches of 1000\n"
     ]
    },
    {
     "name": "stderr",
     "output_type": "stream",
     "text": [
      "2025-04-22 20:04:40,282 - INFO - Processed 4860000/6416827 records\n"
     ]
    },
    {
     "name": "stderr",
     "output_type": "stream",
     "text": [
      "2025-04-22 20:04:40,293 - INFO - Starting to upsert 0 records in batches of 1000\n"
     ]
    },
    {
     "name": "stderr",
     "output_type": "stream",
     "text": [
      "2025-04-22 20:04:40,293 - INFO - Processed 4870000/6416827 records\n"
     ]
    },
    {
     "name": "stderr",
     "output_type": "stream",
     "text": [
      "2025-04-22 20:04:40,303 - INFO - Starting to upsert 0 records in batches of 1000\n"
     ]
    },
    {
     "name": "stderr",
     "output_type": "stream",
     "text": [
      "2025-04-22 20:04:40,303 - INFO - Processed 4880000/6416827 records\n"
     ]
    },
    {
     "name": "stderr",
     "output_type": "stream",
     "text": [
      "2025-04-22 20:04:40,313 - INFO - Starting to upsert 0 records in batches of 1000\n"
     ]
    },
    {
     "name": "stderr",
     "output_type": "stream",
     "text": [
      "2025-04-22 20:04:40,314 - INFO - Processed 4890000/6416827 records\n"
     ]
    },
    {
     "name": "stderr",
     "output_type": "stream",
     "text": [
      "2025-04-22 20:04:40,323 - INFO - Starting to upsert 0 records in batches of 1000\n"
     ]
    },
    {
     "name": "stderr",
     "output_type": "stream",
     "text": [
      "2025-04-22 20:04:40,324 - INFO - Processed 4900000/6416827 records\n"
     ]
    },
    {
     "name": "stderr",
     "output_type": "stream",
     "text": [
      "2025-04-22 20:04:40,335 - INFO - Starting to upsert 0 records in batches of 1000\n"
     ]
    },
    {
     "name": "stderr",
     "output_type": "stream",
     "text": [
      "2025-04-22 20:04:40,336 - INFO - Processed 4910000/6416827 records\n"
     ]
    },
    {
     "name": "stderr",
     "output_type": "stream",
     "text": [
      "2025-04-22 20:04:40,348 - INFO - Starting to upsert 0 records in batches of 1000\n"
     ]
    },
    {
     "name": "stderr",
     "output_type": "stream",
     "text": [
      "2025-04-22 20:04:40,348 - INFO - Processed 4920000/6416827 records\n"
     ]
    },
    {
     "name": "stderr",
     "output_type": "stream",
     "text": [
      "2025-04-22 20:04:40,359 - INFO - Starting to upsert 0 records in batches of 1000\n"
     ]
    },
    {
     "name": "stderr",
     "output_type": "stream",
     "text": [
      "2025-04-22 20:04:40,360 - INFO - Processed 4930000/6416827 records\n"
     ]
    },
    {
     "name": "stderr",
     "output_type": "stream",
     "text": [
      "2025-04-22 20:04:40,369 - INFO - Starting to upsert 0 records in batches of 1000\n"
     ]
    },
    {
     "name": "stderr",
     "output_type": "stream",
     "text": [
      "2025-04-22 20:04:40,370 - INFO - Processed 4940000/6416827 records\n"
     ]
    },
    {
     "name": "stderr",
     "output_type": "stream",
     "text": [
      "2025-04-22 20:04:40,380 - INFO - Starting to upsert 0 records in batches of 1000\n"
     ]
    },
    {
     "name": "stderr",
     "output_type": "stream",
     "text": [
      "2025-04-22 20:04:40,381 - INFO - Processed 4950000/6416827 records\n"
     ]
    },
    {
     "name": "stderr",
     "output_type": "stream",
     "text": [
      "2025-04-22 20:04:40,392 - INFO - Starting to upsert 0 records in batches of 1000\n"
     ]
    },
    {
     "name": "stderr",
     "output_type": "stream",
     "text": [
      "2025-04-22 20:04:40,393 - INFO - Processed 4960000/6416827 records\n"
     ]
    },
    {
     "name": "stderr",
     "output_type": "stream",
     "text": [
      "2025-04-22 20:04:40,404 - INFO - Starting to upsert 0 records in batches of 1000\n"
     ]
    },
    {
     "name": "stderr",
     "output_type": "stream",
     "text": [
      "2025-04-22 20:04:40,404 - INFO - Processed 4970000/6416827 records\n"
     ]
    },
    {
     "name": "stderr",
     "output_type": "stream",
     "text": [
      "2025-04-22 20:04:40,414 - INFO - Starting to upsert 0 records in batches of 1000\n"
     ]
    },
    {
     "name": "stderr",
     "output_type": "stream",
     "text": [
      "2025-04-22 20:04:40,415 - INFO - Processed 4980000/6416827 records\n"
     ]
    },
    {
     "name": "stderr",
     "output_type": "stream",
     "text": [
      "2025-04-22 20:04:40,426 - INFO - Starting to upsert 0 records in batches of 1000\n"
     ]
    },
    {
     "name": "stderr",
     "output_type": "stream",
     "text": [
      "2025-04-22 20:04:40,426 - INFO - Processed 4990000/6416827 records\n"
     ]
    },
    {
     "name": "stderr",
     "output_type": "stream",
     "text": [
      "2025-04-22 20:04:40,437 - INFO - Starting to upsert 0 records in batches of 1000\n"
     ]
    },
    {
     "name": "stderr",
     "output_type": "stream",
     "text": [
      "2025-04-22 20:04:40,437 - INFO - Processed 5000000/6416827 records\n"
     ]
    },
    {
     "name": "stderr",
     "output_type": "stream",
     "text": [
      "2025-04-22 20:04:40,447 - INFO - Starting to upsert 0 records in batches of 1000\n"
     ]
    },
    {
     "name": "stderr",
     "output_type": "stream",
     "text": [
      "2025-04-22 20:04:40,447 - INFO - Processed 5010000/6416827 records\n"
     ]
    },
    {
     "name": "stderr",
     "output_type": "stream",
     "text": [
      "2025-04-22 20:04:40,457 - INFO - Starting to upsert 0 records in batches of 1000\n"
     ]
    },
    {
     "name": "stderr",
     "output_type": "stream",
     "text": [
      "2025-04-22 20:04:40,458 - INFO - Processed 5020000/6416827 records\n"
     ]
    },
    {
     "name": "stderr",
     "output_type": "stream",
     "text": [
      "2025-04-22 20:04:40,467 - INFO - Starting to upsert 0 records in batches of 1000\n"
     ]
    },
    {
     "name": "stderr",
     "output_type": "stream",
     "text": [
      "2025-04-22 20:04:40,468 - INFO - Processed 5030000/6416827 records\n"
     ]
    },
    {
     "name": "stderr",
     "output_type": "stream",
     "text": [
      "2025-04-22 20:04:40,478 - INFO - Starting to upsert 0 records in batches of 1000\n"
     ]
    },
    {
     "name": "stderr",
     "output_type": "stream",
     "text": [
      "2025-04-22 20:04:40,479 - INFO - Processed 5040000/6416827 records\n"
     ]
    },
    {
     "name": "stderr",
     "output_type": "stream",
     "text": [
      "2025-04-22 20:04:40,488 - INFO - Starting to upsert 0 records in batches of 1000\n"
     ]
    },
    {
     "name": "stderr",
     "output_type": "stream",
     "text": [
      "2025-04-22 20:04:40,489 - INFO - Processed 5050000/6416827 records\n"
     ]
    },
    {
     "name": "stderr",
     "output_type": "stream",
     "text": [
      "2025-04-22 20:04:40,499 - INFO - Starting to upsert 0 records in batches of 1000\n"
     ]
    },
    {
     "name": "stderr",
     "output_type": "stream",
     "text": [
      "2025-04-22 20:04:40,500 - INFO - Processed 5060000/6416827 records\n"
     ]
    },
    {
     "name": "stderr",
     "output_type": "stream",
     "text": [
      "2025-04-22 20:04:40,514 - INFO - Starting to upsert 0 records in batches of 1000\n"
     ]
    },
    {
     "name": "stderr",
     "output_type": "stream",
     "text": [
      "2025-04-22 20:04:40,514 - INFO - Processed 5070000/6416827 records\n"
     ]
    },
    {
     "name": "stderr",
     "output_type": "stream",
     "text": [
      "2025-04-22 20:04:40,525 - INFO - Starting to upsert 0 records in batches of 1000\n"
     ]
    },
    {
     "name": "stderr",
     "output_type": "stream",
     "text": [
      "2025-04-22 20:04:40,525 - INFO - Processed 5080000/6416827 records\n"
     ]
    },
    {
     "name": "stderr",
     "output_type": "stream",
     "text": [
      "2025-04-22 20:04:40,536 - INFO - Starting to upsert 0 records in batches of 1000\n"
     ]
    },
    {
     "name": "stderr",
     "output_type": "stream",
     "text": [
      "2025-04-22 20:04:40,537 - INFO - Processed 5090000/6416827 records\n"
     ]
    },
    {
     "name": "stderr",
     "output_type": "stream",
     "text": [
      "2025-04-22 20:04:40,547 - INFO - Starting to upsert 0 records in batches of 1000\n"
     ]
    },
    {
     "name": "stderr",
     "output_type": "stream",
     "text": [
      "2025-04-22 20:04:40,547 - INFO - Processed 5100000/6416827 records\n"
     ]
    },
    {
     "name": "stderr",
     "output_type": "stream",
     "text": [
      "2025-04-22 20:04:40,558 - INFO - Starting to upsert 0 records in batches of 1000\n"
     ]
    },
    {
     "name": "stderr",
     "output_type": "stream",
     "text": [
      "2025-04-22 20:04:40,559 - INFO - Processed 5110000/6416827 records\n"
     ]
    },
    {
     "name": "stderr",
     "output_type": "stream",
     "text": [
      "2025-04-22 20:04:40,570 - INFO - Starting to upsert 0 records in batches of 1000\n"
     ]
    },
    {
     "name": "stderr",
     "output_type": "stream",
     "text": [
      "2025-04-22 20:04:40,571 - INFO - Processed 5120000/6416827 records\n"
     ]
    },
    {
     "name": "stderr",
     "output_type": "stream",
     "text": [
      "2025-04-22 20:04:40,582 - INFO - Starting to upsert 0 records in batches of 1000\n"
     ]
    },
    {
     "name": "stderr",
     "output_type": "stream",
     "text": [
      "2025-04-22 20:04:40,583 - INFO - Processed 5130000/6416827 records\n"
     ]
    },
    {
     "name": "stderr",
     "output_type": "stream",
     "text": [
      "2025-04-22 20:04:40,594 - INFO - Starting to upsert 0 records in batches of 1000\n"
     ]
    },
    {
     "name": "stderr",
     "output_type": "stream",
     "text": [
      "2025-04-22 20:04:40,594 - INFO - Processed 5140000/6416827 records\n"
     ]
    },
    {
     "name": "stderr",
     "output_type": "stream",
     "text": [
      "2025-04-22 20:04:40,604 - INFO - Starting to upsert 0 records in batches of 1000\n"
     ]
    },
    {
     "name": "stderr",
     "output_type": "stream",
     "text": [
      "2025-04-22 20:04:40,604 - INFO - Processed 5150000/6416827 records\n"
     ]
    },
    {
     "name": "stderr",
     "output_type": "stream",
     "text": [
      "2025-04-22 20:04:40,616 - INFO - Starting to upsert 0 records in batches of 1000\n"
     ]
    },
    {
     "name": "stderr",
     "output_type": "stream",
     "text": [
      "2025-04-22 20:04:40,617 - INFO - Processed 5160000/6416827 records\n"
     ]
    },
    {
     "name": "stderr",
     "output_type": "stream",
     "text": [
      "2025-04-22 20:04:40,627 - INFO - Starting to upsert 0 records in batches of 1000\n"
     ]
    },
    {
     "name": "stderr",
     "output_type": "stream",
     "text": [
      "2025-04-22 20:04:40,627 - INFO - Processed 5170000/6416827 records\n"
     ]
    },
    {
     "name": "stderr",
     "output_type": "stream",
     "text": [
      "2025-04-22 20:04:40,637 - INFO - Starting to upsert 0 records in batches of 1000\n"
     ]
    },
    {
     "name": "stderr",
     "output_type": "stream",
     "text": [
      "2025-04-22 20:04:40,638 - INFO - Processed 5180000/6416827 records\n"
     ]
    },
    {
     "name": "stderr",
     "output_type": "stream",
     "text": [
      "2025-04-22 20:04:40,647 - INFO - Starting to upsert 0 records in batches of 1000\n"
     ]
    },
    {
     "name": "stderr",
     "output_type": "stream",
     "text": [
      "2025-04-22 20:04:40,647 - INFO - Processed 5190000/6416827 records\n"
     ]
    },
    {
     "name": "stderr",
     "output_type": "stream",
     "text": [
      "2025-04-22 20:04:40,657 - INFO - Starting to upsert 0 records in batches of 1000\n"
     ]
    },
    {
     "name": "stderr",
     "output_type": "stream",
     "text": [
      "2025-04-22 20:04:40,658 - INFO - Processed 5200000/6416827 records\n"
     ]
    },
    {
     "name": "stderr",
     "output_type": "stream",
     "text": [
      "2025-04-22 20:04:40,667 - INFO - Starting to upsert 0 records in batches of 1000\n"
     ]
    },
    {
     "name": "stderr",
     "output_type": "stream",
     "text": [
      "2025-04-22 20:04:40,668 - INFO - Processed 5210000/6416827 records\n"
     ]
    },
    {
     "name": "stderr",
     "output_type": "stream",
     "text": [
      "2025-04-22 20:04:40,678 - INFO - Starting to upsert 0 records in batches of 1000\n"
     ]
    },
    {
     "name": "stderr",
     "output_type": "stream",
     "text": [
      "2025-04-22 20:04:40,678 - INFO - Processed 5220000/6416827 records\n"
     ]
    },
    {
     "name": "stderr",
     "output_type": "stream",
     "text": [
      "2025-04-22 20:04:40,687 - INFO - Starting to upsert 0 records in batches of 1000\n"
     ]
    },
    {
     "name": "stderr",
     "output_type": "stream",
     "text": [
      "2025-04-22 20:04:40,688 - INFO - Processed 5230000/6416827 records\n"
     ]
    },
    {
     "name": "stderr",
     "output_type": "stream",
     "text": [
      "2025-04-22 20:04:40,697 - INFO - Starting to upsert 0 records in batches of 1000\n"
     ]
    },
    {
     "name": "stderr",
     "output_type": "stream",
     "text": [
      "2025-04-22 20:04:40,698 - INFO - Processed 5240000/6416827 records\n"
     ]
    },
    {
     "name": "stderr",
     "output_type": "stream",
     "text": [
      "2025-04-22 20:04:40,708 - INFO - Starting to upsert 0 records in batches of 1000\n"
     ]
    },
    {
     "name": "stderr",
     "output_type": "stream",
     "text": [
      "2025-04-22 20:04:40,709 - INFO - Processed 5250000/6416827 records\n"
     ]
    },
    {
     "name": "stderr",
     "output_type": "stream",
     "text": [
      "2025-04-22 20:04:40,719 - INFO - Starting to upsert 0 records in batches of 1000\n"
     ]
    },
    {
     "name": "stderr",
     "output_type": "stream",
     "text": [
      "2025-04-22 20:04:40,719 - INFO - Processed 5260000/6416827 records\n"
     ]
    },
    {
     "name": "stderr",
     "output_type": "stream",
     "text": [
      "2025-04-22 20:04:40,729 - INFO - Starting to upsert 0 records in batches of 1000\n"
     ]
    },
    {
     "name": "stderr",
     "output_type": "stream",
     "text": [
      "2025-04-22 20:04:40,730 - INFO - Processed 5270000/6416827 records\n"
     ]
    },
    {
     "name": "stderr",
     "output_type": "stream",
     "text": [
      "2025-04-22 20:04:40,740 - INFO - Starting to upsert 0 records in batches of 1000\n"
     ]
    },
    {
     "name": "stderr",
     "output_type": "stream",
     "text": [
      "2025-04-22 20:04:40,741 - INFO - Processed 5280000/6416827 records\n"
     ]
    },
    {
     "name": "stderr",
     "output_type": "stream",
     "text": [
      "2025-04-22 20:04:40,750 - INFO - Starting to upsert 0 records in batches of 1000\n"
     ]
    },
    {
     "name": "stderr",
     "output_type": "stream",
     "text": [
      "2025-04-22 20:04:40,751 - INFO - Processed 5290000/6416827 records\n"
     ]
    },
    {
     "name": "stderr",
     "output_type": "stream",
     "text": [
      "2025-04-22 20:04:40,761 - INFO - Starting to upsert 0 records in batches of 1000\n"
     ]
    },
    {
     "name": "stderr",
     "output_type": "stream",
     "text": [
      "2025-04-22 20:04:40,762 - INFO - Processed 5300000/6416827 records\n"
     ]
    },
    {
     "name": "stderr",
     "output_type": "stream",
     "text": [
      "2025-04-22 20:04:40,772 - INFO - Starting to upsert 0 records in batches of 1000\n"
     ]
    },
    {
     "name": "stderr",
     "output_type": "stream",
     "text": [
      "2025-04-22 20:04:40,772 - INFO - Processed 5310000/6416827 records\n"
     ]
    },
    {
     "name": "stderr",
     "output_type": "stream",
     "text": [
      "2025-04-22 20:04:40,783 - INFO - Starting to upsert 0 records in batches of 1000\n"
     ]
    },
    {
     "name": "stderr",
     "output_type": "stream",
     "text": [
      "2025-04-22 20:04:40,784 - INFO - Processed 5320000/6416827 records\n"
     ]
    },
    {
     "name": "stderr",
     "output_type": "stream",
     "text": [
      "2025-04-22 20:04:40,794 - INFO - Starting to upsert 0 records in batches of 1000\n"
     ]
    },
    {
     "name": "stderr",
     "output_type": "stream",
     "text": [
      "2025-04-22 20:04:40,794 - INFO - Processed 5330000/6416827 records\n"
     ]
    },
    {
     "name": "stderr",
     "output_type": "stream",
     "text": [
      "2025-04-22 20:04:40,804 - INFO - Starting to upsert 0 records in batches of 1000\n"
     ]
    },
    {
     "name": "stderr",
     "output_type": "stream",
     "text": [
      "2025-04-22 20:04:40,805 - INFO - Processed 5340000/6416827 records\n"
     ]
    },
    {
     "name": "stderr",
     "output_type": "stream",
     "text": [
      "2025-04-22 20:04:40,816 - INFO - Starting to upsert 0 records in batches of 1000\n"
     ]
    },
    {
     "name": "stderr",
     "output_type": "stream",
     "text": [
      "2025-04-22 20:04:40,817 - INFO - Processed 5350000/6416827 records\n"
     ]
    },
    {
     "name": "stderr",
     "output_type": "stream",
     "text": [
      "2025-04-22 20:04:40,827 - INFO - Starting to upsert 0 records in batches of 1000\n"
     ]
    },
    {
     "name": "stderr",
     "output_type": "stream",
     "text": [
      "2025-04-22 20:04:40,828 - INFO - Processed 5360000/6416827 records\n"
     ]
    },
    {
     "name": "stderr",
     "output_type": "stream",
     "text": [
      "2025-04-22 20:04:40,839 - INFO - Starting to upsert 0 records in batches of 1000\n"
     ]
    },
    {
     "name": "stderr",
     "output_type": "stream",
     "text": [
      "2025-04-22 20:04:40,840 - INFO - Processed 5370000/6416827 records\n"
     ]
    },
    {
     "name": "stderr",
     "output_type": "stream",
     "text": [
      "2025-04-22 20:04:40,851 - INFO - Starting to upsert 0 records in batches of 1000\n"
     ]
    },
    {
     "name": "stderr",
     "output_type": "stream",
     "text": [
      "2025-04-22 20:04:40,851 - INFO - Processed 5380000/6416827 records\n"
     ]
    },
    {
     "name": "stderr",
     "output_type": "stream",
     "text": [
      "2025-04-22 20:04:40,861 - INFO - Starting to upsert 0 records in batches of 1000\n"
     ]
    },
    {
     "name": "stderr",
     "output_type": "stream",
     "text": [
      "2025-04-22 20:04:40,862 - INFO - Processed 5390000/6416827 records\n"
     ]
    },
    {
     "name": "stderr",
     "output_type": "stream",
     "text": [
      "2025-04-22 20:04:40,872 - INFO - Starting to upsert 0 records in batches of 1000\n"
     ]
    },
    {
     "name": "stderr",
     "output_type": "stream",
     "text": [
      "2025-04-22 20:04:40,873 - INFO - Processed 5400000/6416827 records\n"
     ]
    },
    {
     "name": "stderr",
     "output_type": "stream",
     "text": [
      "2025-04-22 20:04:40,883 - INFO - Starting to upsert 0 records in batches of 1000\n"
     ]
    },
    {
     "name": "stderr",
     "output_type": "stream",
     "text": [
      "2025-04-22 20:04:40,883 - INFO - Processed 5410000/6416827 records\n"
     ]
    },
    {
     "name": "stderr",
     "output_type": "stream",
     "text": [
      "2025-04-22 20:04:40,893 - INFO - Starting to upsert 0 records in batches of 1000\n"
     ]
    },
    {
     "name": "stderr",
     "output_type": "stream",
     "text": [
      "2025-04-22 20:04:40,894 - INFO - Processed 5420000/6416827 records\n"
     ]
    },
    {
     "name": "stderr",
     "output_type": "stream",
     "text": [
      "2025-04-22 20:04:40,904 - INFO - Starting to upsert 0 records in batches of 1000\n"
     ]
    },
    {
     "name": "stderr",
     "output_type": "stream",
     "text": [
      "2025-04-22 20:04:40,904 - INFO - Processed 5430000/6416827 records\n"
     ]
    },
    {
     "name": "stderr",
     "output_type": "stream",
     "text": [
      "2025-04-22 20:04:40,915 - INFO - Starting to upsert 0 records in batches of 1000\n"
     ]
    },
    {
     "name": "stderr",
     "output_type": "stream",
     "text": [
      "2025-04-22 20:04:40,916 - INFO - Processed 5440000/6416827 records\n"
     ]
    },
    {
     "name": "stderr",
     "output_type": "stream",
     "text": [
      "2025-04-22 20:04:40,925 - INFO - Starting to upsert 0 records in batches of 1000\n"
     ]
    },
    {
     "name": "stderr",
     "output_type": "stream",
     "text": [
      "2025-04-22 20:04:40,926 - INFO - Processed 5450000/6416827 records\n"
     ]
    },
    {
     "name": "stderr",
     "output_type": "stream",
     "text": [
      "2025-04-22 20:04:40,936 - INFO - Starting to upsert 0 records in batches of 1000\n"
     ]
    },
    {
     "name": "stderr",
     "output_type": "stream",
     "text": [
      "2025-04-22 20:04:40,937 - INFO - Processed 5460000/6416827 records\n"
     ]
    },
    {
     "name": "stderr",
     "output_type": "stream",
     "text": [
      "2025-04-22 20:04:40,947 - INFO - Starting to upsert 0 records in batches of 1000\n"
     ]
    },
    {
     "name": "stderr",
     "output_type": "stream",
     "text": [
      "2025-04-22 20:04:40,947 - INFO - Processed 5470000/6416827 records\n"
     ]
    },
    {
     "name": "stderr",
     "output_type": "stream",
     "text": [
      "2025-04-22 20:04:40,957 - INFO - Starting to upsert 0 records in batches of 1000\n"
     ]
    },
    {
     "name": "stderr",
     "output_type": "stream",
     "text": [
      "2025-04-22 20:04:40,957 - INFO - Processed 5480000/6416827 records\n"
     ]
    },
    {
     "name": "stderr",
     "output_type": "stream",
     "text": [
      "2025-04-22 20:04:40,968 - INFO - Starting to upsert 0 records in batches of 1000\n"
     ]
    },
    {
     "name": "stderr",
     "output_type": "stream",
     "text": [
      "2025-04-22 20:04:40,968 - INFO - Processed 5490000/6416827 records\n"
     ]
    },
    {
     "name": "stderr",
     "output_type": "stream",
     "text": [
      "2025-04-22 20:04:40,979 - INFO - Starting to upsert 0 records in batches of 1000\n"
     ]
    },
    {
     "name": "stderr",
     "output_type": "stream",
     "text": [
      "2025-04-22 20:04:40,980 - INFO - Processed 5500000/6416827 records\n"
     ]
    },
    {
     "name": "stderr",
     "output_type": "stream",
     "text": [
      "2025-04-22 20:04:40,990 - INFO - Starting to upsert 0 records in batches of 1000\n"
     ]
    },
    {
     "name": "stderr",
     "output_type": "stream",
     "text": [
      "2025-04-22 20:04:40,991 - INFO - Processed 5510000/6416827 records\n"
     ]
    },
    {
     "name": "stderr",
     "output_type": "stream",
     "text": [
      "2025-04-22 20:04:41,001 - INFO - Starting to upsert 0 records in batches of 1000\n"
     ]
    },
    {
     "name": "stderr",
     "output_type": "stream",
     "text": [
      "2025-04-22 20:04:41,002 - INFO - Processed 5520000/6416827 records\n"
     ]
    },
    {
     "name": "stderr",
     "output_type": "stream",
     "text": [
      "2025-04-22 20:04:41,012 - INFO - Starting to upsert 0 records in batches of 1000\n"
     ]
    },
    {
     "name": "stderr",
     "output_type": "stream",
     "text": [
      "2025-04-22 20:04:41,013 - INFO - Processed 5530000/6416827 records\n"
     ]
    },
    {
     "name": "stderr",
     "output_type": "stream",
     "text": [
      "2025-04-22 20:04:41,023 - INFO - Starting to upsert 0 records in batches of 1000\n"
     ]
    },
    {
     "name": "stderr",
     "output_type": "stream",
     "text": [
      "2025-04-22 20:04:41,024 - INFO - Processed 5540000/6416827 records\n"
     ]
    },
    {
     "name": "stderr",
     "output_type": "stream",
     "text": [
      "2025-04-22 20:04:41,034 - INFO - Starting to upsert 0 records in batches of 1000\n"
     ]
    },
    {
     "name": "stderr",
     "output_type": "stream",
     "text": [
      "2025-04-22 20:04:41,035 - INFO - Processed 5550000/6416827 records\n"
     ]
    },
    {
     "name": "stderr",
     "output_type": "stream",
     "text": [
      "2025-04-22 20:04:41,045 - INFO - Starting to upsert 0 records in batches of 1000\n"
     ]
    },
    {
     "name": "stderr",
     "output_type": "stream",
     "text": [
      "2025-04-22 20:04:41,046 - INFO - Processed 5560000/6416827 records\n"
     ]
    },
    {
     "name": "stderr",
     "output_type": "stream",
     "text": [
      "2025-04-22 20:04:41,055 - INFO - Starting to upsert 0 records in batches of 1000\n"
     ]
    },
    {
     "name": "stderr",
     "output_type": "stream",
     "text": [
      "2025-04-22 20:04:41,056 - INFO - Processed 5570000/6416827 records\n"
     ]
    },
    {
     "name": "stderr",
     "output_type": "stream",
     "text": [
      "2025-04-22 20:04:41,066 - INFO - Starting to upsert 0 records in batches of 1000\n"
     ]
    },
    {
     "name": "stderr",
     "output_type": "stream",
     "text": [
      "2025-04-22 20:04:41,067 - INFO - Processed 5580000/6416827 records\n"
     ]
    },
    {
     "name": "stderr",
     "output_type": "stream",
     "text": [
      "2025-04-22 20:04:41,076 - INFO - Starting to upsert 0 records in batches of 1000\n"
     ]
    },
    {
     "name": "stderr",
     "output_type": "stream",
     "text": [
      "2025-04-22 20:04:41,077 - INFO - Processed 5590000/6416827 records\n"
     ]
    },
    {
     "name": "stderr",
     "output_type": "stream",
     "text": [
      "2025-04-22 20:04:41,086 - INFO - Starting to upsert 0 records in batches of 1000\n"
     ]
    },
    {
     "name": "stderr",
     "output_type": "stream",
     "text": [
      "2025-04-22 20:04:41,087 - INFO - Processed 5600000/6416827 records\n"
     ]
    },
    {
     "name": "stderr",
     "output_type": "stream",
     "text": [
      "2025-04-22 20:04:41,099 - INFO - Starting to upsert 0 records in batches of 1000\n"
     ]
    },
    {
     "name": "stderr",
     "output_type": "stream",
     "text": [
      "2025-04-22 20:04:41,100 - INFO - Processed 5610000/6416827 records\n"
     ]
    },
    {
     "name": "stderr",
     "output_type": "stream",
     "text": [
      "2025-04-22 20:04:41,110 - INFO - Starting to upsert 0 records in batches of 1000\n"
     ]
    },
    {
     "name": "stderr",
     "output_type": "stream",
     "text": [
      "2025-04-22 20:04:41,111 - INFO - Processed 5620000/6416827 records\n"
     ]
    },
    {
     "name": "stderr",
     "output_type": "stream",
     "text": [
      "2025-04-22 20:04:41,121 - INFO - Starting to upsert 0 records in batches of 1000\n"
     ]
    },
    {
     "name": "stderr",
     "output_type": "stream",
     "text": [
      "2025-04-22 20:04:41,121 - INFO - Processed 5630000/6416827 records\n"
     ]
    },
    {
     "name": "stderr",
     "output_type": "stream",
     "text": [
      "2025-04-22 20:04:41,132 - INFO - Starting to upsert 0 records in batches of 1000\n"
     ]
    },
    {
     "name": "stderr",
     "output_type": "stream",
     "text": [
      "2025-04-22 20:04:41,132 - INFO - Processed 5640000/6416827 records\n"
     ]
    },
    {
     "name": "stderr",
     "output_type": "stream",
     "text": [
      "2025-04-22 20:04:41,142 - INFO - Starting to upsert 0 records in batches of 1000\n"
     ]
    },
    {
     "name": "stderr",
     "output_type": "stream",
     "text": [
      "2025-04-22 20:04:41,143 - INFO - Processed 5650000/6416827 records\n"
     ]
    },
    {
     "name": "stderr",
     "output_type": "stream",
     "text": [
      "2025-04-22 20:04:41,153 - INFO - Starting to upsert 0 records in batches of 1000\n"
     ]
    },
    {
     "name": "stderr",
     "output_type": "stream",
     "text": [
      "2025-04-22 20:04:41,154 - INFO - Processed 5660000/6416827 records\n"
     ]
    },
    {
     "name": "stderr",
     "output_type": "stream",
     "text": [
      "2025-04-22 20:04:41,163 - INFO - Starting to upsert 0 records in batches of 1000\n"
     ]
    },
    {
     "name": "stderr",
     "output_type": "stream",
     "text": [
      "2025-04-22 20:04:41,164 - INFO - Processed 5670000/6416827 records\n"
     ]
    },
    {
     "name": "stderr",
     "output_type": "stream",
     "text": [
      "2025-04-22 20:04:41,174 - INFO - Starting to upsert 0 records in batches of 1000\n"
     ]
    },
    {
     "name": "stderr",
     "output_type": "stream",
     "text": [
      "2025-04-22 20:04:41,175 - INFO - Processed 5680000/6416827 records\n"
     ]
    },
    {
     "name": "stderr",
     "output_type": "stream",
     "text": [
      "2025-04-22 20:04:41,184 - INFO - Starting to upsert 0 records in batches of 1000\n"
     ]
    },
    {
     "name": "stderr",
     "output_type": "stream",
     "text": [
      "2025-04-22 20:04:41,185 - INFO - Processed 5690000/6416827 records\n"
     ]
    },
    {
     "name": "stderr",
     "output_type": "stream",
     "text": [
      "2025-04-22 20:04:41,195 - INFO - Starting to upsert 0 records in batches of 1000\n"
     ]
    },
    {
     "name": "stderr",
     "output_type": "stream",
     "text": [
      "2025-04-22 20:04:41,196 - INFO - Processed 5700000/6416827 records\n"
     ]
    },
    {
     "name": "stderr",
     "output_type": "stream",
     "text": [
      "2025-04-22 20:04:41,207 - INFO - Starting to upsert 0 records in batches of 1000\n"
     ]
    },
    {
     "name": "stderr",
     "output_type": "stream",
     "text": [
      "2025-04-22 20:04:41,208 - INFO - Processed 5710000/6416827 records\n"
     ]
    },
    {
     "name": "stderr",
     "output_type": "stream",
     "text": [
      "2025-04-22 20:04:41,219 - INFO - Starting to upsert 0 records in batches of 1000\n"
     ]
    },
    {
     "name": "stderr",
     "output_type": "stream",
     "text": [
      "2025-04-22 20:04:41,220 - INFO - Processed 5720000/6416827 records\n"
     ]
    },
    {
     "name": "stderr",
     "output_type": "stream",
     "text": [
      "2025-04-22 20:04:41,231 - INFO - Starting to upsert 0 records in batches of 1000\n"
     ]
    },
    {
     "name": "stderr",
     "output_type": "stream",
     "text": [
      "2025-04-22 20:04:41,232 - INFO - Processed 5730000/6416827 records\n"
     ]
    },
    {
     "name": "stderr",
     "output_type": "stream",
     "text": [
      "2025-04-22 20:04:41,242 - INFO - Starting to upsert 0 records in batches of 1000\n"
     ]
    },
    {
     "name": "stderr",
     "output_type": "stream",
     "text": [
      "2025-04-22 20:04:41,243 - INFO - Processed 5740000/6416827 records\n"
     ]
    },
    {
     "name": "stderr",
     "output_type": "stream",
     "text": [
      "2025-04-22 20:04:41,252 - INFO - Starting to upsert 0 records in batches of 1000\n"
     ]
    },
    {
     "name": "stderr",
     "output_type": "stream",
     "text": [
      "2025-04-22 20:04:41,253 - INFO - Processed 5750000/6416827 records\n"
     ]
    },
    {
     "name": "stderr",
     "output_type": "stream",
     "text": [
      "2025-04-22 20:04:41,262 - INFO - Starting to upsert 0 records in batches of 1000\n"
     ]
    },
    {
     "name": "stderr",
     "output_type": "stream",
     "text": [
      "2025-04-22 20:04:41,263 - INFO - Processed 5760000/6416827 records\n"
     ]
    },
    {
     "name": "stderr",
     "output_type": "stream",
     "text": [
      "2025-04-22 20:04:41,272 - INFO - Starting to upsert 0 records in batches of 1000\n"
     ]
    },
    {
     "name": "stderr",
     "output_type": "stream",
     "text": [
      "2025-04-22 20:04:41,272 - INFO - Processed 5770000/6416827 records\n"
     ]
    },
    {
     "name": "stderr",
     "output_type": "stream",
     "text": [
      "2025-04-22 20:04:41,284 - INFO - Starting to upsert 0 records in batches of 1000\n"
     ]
    },
    {
     "name": "stderr",
     "output_type": "stream",
     "text": [
      "2025-04-22 20:04:41,284 - INFO - Processed 5780000/6416827 records\n"
     ]
    },
    {
     "name": "stderr",
     "output_type": "stream",
     "text": [
      "2025-04-22 20:04:41,294 - INFO - Starting to upsert 0 records in batches of 1000\n"
     ]
    },
    {
     "name": "stderr",
     "output_type": "stream",
     "text": [
      "2025-04-22 20:04:41,295 - INFO - Processed 5790000/6416827 records\n"
     ]
    },
    {
     "name": "stderr",
     "output_type": "stream",
     "text": [
      "2025-04-22 20:04:41,305 - INFO - Starting to upsert 0 records in batches of 1000\n"
     ]
    },
    {
     "name": "stderr",
     "output_type": "stream",
     "text": [
      "2025-04-22 20:04:41,306 - INFO - Processed 5800000/6416827 records\n"
     ]
    },
    {
     "name": "stderr",
     "output_type": "stream",
     "text": [
      "2025-04-22 20:04:41,318 - INFO - Starting to upsert 0 records in batches of 1000\n"
     ]
    },
    {
     "name": "stderr",
     "output_type": "stream",
     "text": [
      "2025-04-22 20:04:41,319 - INFO - Processed 5810000/6416827 records\n"
     ]
    },
    {
     "name": "stderr",
     "output_type": "stream",
     "text": [
      "2025-04-22 20:04:41,331 - INFO - Starting to upsert 0 records in batches of 1000\n"
     ]
    },
    {
     "name": "stderr",
     "output_type": "stream",
     "text": [
      "2025-04-22 20:04:41,332 - INFO - Processed 5820000/6416827 records\n"
     ]
    },
    {
     "name": "stderr",
     "output_type": "stream",
     "text": [
      "2025-04-22 20:04:41,342 - INFO - Starting to upsert 0 records in batches of 1000\n"
     ]
    },
    {
     "name": "stderr",
     "output_type": "stream",
     "text": [
      "2025-04-22 20:04:41,343 - INFO - Processed 5830000/6416827 records\n"
     ]
    },
    {
     "name": "stderr",
     "output_type": "stream",
     "text": [
      "2025-04-22 20:04:41,353 - INFO - Starting to upsert 0 records in batches of 1000\n"
     ]
    },
    {
     "name": "stderr",
     "output_type": "stream",
     "text": [
      "2025-04-22 20:04:41,354 - INFO - Processed 5840000/6416827 records\n"
     ]
    },
    {
     "name": "stderr",
     "output_type": "stream",
     "text": [
      "2025-04-22 20:04:41,365 - INFO - Starting to upsert 0 records in batches of 1000\n"
     ]
    },
    {
     "name": "stderr",
     "output_type": "stream",
     "text": [
      "2025-04-22 20:04:41,366 - INFO - Processed 5850000/6416827 records\n"
     ]
    },
    {
     "name": "stderr",
     "output_type": "stream",
     "text": [
      "2025-04-22 20:04:41,377 - INFO - Starting to upsert 0 records in batches of 1000\n"
     ]
    },
    {
     "name": "stderr",
     "output_type": "stream",
     "text": [
      "2025-04-22 20:04:41,378 - INFO - Processed 5860000/6416827 records\n"
     ]
    },
    {
     "name": "stderr",
     "output_type": "stream",
     "text": [
      "2025-04-22 20:04:41,389 - INFO - Starting to upsert 0 records in batches of 1000\n"
     ]
    },
    {
     "name": "stderr",
     "output_type": "stream",
     "text": [
      "2025-04-22 20:04:41,390 - INFO - Processed 5870000/6416827 records\n"
     ]
    },
    {
     "name": "stderr",
     "output_type": "stream",
     "text": [
      "2025-04-22 20:04:41,401 - INFO - Starting to upsert 0 records in batches of 1000\n"
     ]
    },
    {
     "name": "stderr",
     "output_type": "stream",
     "text": [
      "2025-04-22 20:04:41,402 - INFO - Processed 5880000/6416827 records\n"
     ]
    },
    {
     "name": "stderr",
     "output_type": "stream",
     "text": [
      "2025-04-22 20:04:41,412 - INFO - Starting to upsert 0 records in batches of 1000\n"
     ]
    },
    {
     "name": "stderr",
     "output_type": "stream",
     "text": [
      "2025-04-22 20:04:41,413 - INFO - Processed 5890000/6416827 records\n"
     ]
    },
    {
     "name": "stderr",
     "output_type": "stream",
     "text": [
      "2025-04-22 20:04:41,424 - INFO - Starting to upsert 0 records in batches of 1000\n"
     ]
    },
    {
     "name": "stderr",
     "output_type": "stream",
     "text": [
      "2025-04-22 20:04:41,425 - INFO - Processed 5900000/6416827 records\n"
     ]
    },
    {
     "name": "stderr",
     "output_type": "stream",
     "text": [
      "2025-04-22 20:04:41,436 - INFO - Starting to upsert 0 records in batches of 1000\n"
     ]
    },
    {
     "name": "stderr",
     "output_type": "stream",
     "text": [
      "2025-04-22 20:04:41,436 - INFO - Processed 5910000/6416827 records\n"
     ]
    },
    {
     "name": "stderr",
     "output_type": "stream",
     "text": [
      "2025-04-22 20:04:41,447 - INFO - Starting to upsert 0 records in batches of 1000\n"
     ]
    },
    {
     "name": "stderr",
     "output_type": "stream",
     "text": [
      "2025-04-22 20:04:41,447 - INFO - Processed 5920000/6416827 records\n"
     ]
    },
    {
     "name": "stderr",
     "output_type": "stream",
     "text": [
      "2025-04-22 20:04:41,457 - INFO - Starting to upsert 0 records in batches of 1000\n"
     ]
    },
    {
     "name": "stderr",
     "output_type": "stream",
     "text": [
      "2025-04-22 20:04:41,458 - INFO - Processed 5930000/6416827 records\n"
     ]
    },
    {
     "name": "stderr",
     "output_type": "stream",
     "text": [
      "2025-04-22 20:04:41,467 - INFO - Starting to upsert 0 records in batches of 1000\n"
     ]
    },
    {
     "name": "stderr",
     "output_type": "stream",
     "text": [
      "2025-04-22 20:04:41,468 - INFO - Processed 5940000/6416827 records\n"
     ]
    },
    {
     "name": "stderr",
     "output_type": "stream",
     "text": [
      "2025-04-22 20:04:41,481 - INFO - Starting to upsert 0 records in batches of 1000\n"
     ]
    },
    {
     "name": "stderr",
     "output_type": "stream",
     "text": [
      "2025-04-22 20:04:41,481 - INFO - Processed 5950000/6416827 records\n"
     ]
    },
    {
     "name": "stderr",
     "output_type": "stream",
     "text": [
      "2025-04-22 20:04:41,498 - INFO - Starting to upsert 0 records in batches of 1000\n"
     ]
    },
    {
     "name": "stderr",
     "output_type": "stream",
     "text": [
      "2025-04-22 20:04:41,498 - INFO - Processed 5960000/6416827 records\n"
     ]
    },
    {
     "name": "stderr",
     "output_type": "stream",
     "text": [
      "2025-04-22 20:04:41,513 - INFO - Starting to upsert 0 records in batches of 1000\n"
     ]
    },
    {
     "name": "stderr",
     "output_type": "stream",
     "text": [
      "2025-04-22 20:04:41,513 - INFO - Processed 5970000/6416827 records\n"
     ]
    },
    {
     "name": "stderr",
     "output_type": "stream",
     "text": [
      "2025-04-22 20:04:41,528 - INFO - Starting to upsert 0 records in batches of 1000\n"
     ]
    },
    {
     "name": "stderr",
     "output_type": "stream",
     "text": [
      "2025-04-22 20:04:41,529 - INFO - Processed 5980000/6416827 records\n"
     ]
    },
    {
     "name": "stderr",
     "output_type": "stream",
     "text": [
      "2025-04-22 20:04:41,542 - INFO - Starting to upsert 0 records in batches of 1000\n"
     ]
    },
    {
     "name": "stderr",
     "output_type": "stream",
     "text": [
      "2025-04-22 20:04:41,542 - INFO - Processed 5990000/6416827 records\n"
     ]
    },
    {
     "name": "stderr",
     "output_type": "stream",
     "text": [
      "2025-04-22 20:04:41,553 - INFO - Starting to upsert 0 records in batches of 1000\n"
     ]
    },
    {
     "name": "stderr",
     "output_type": "stream",
     "text": [
      "2025-04-22 20:04:41,554 - INFO - Processed 6000000/6416827 records\n"
     ]
    },
    {
     "name": "stderr",
     "output_type": "stream",
     "text": [
      "2025-04-22 20:04:41,564 - INFO - Starting to upsert 0 records in batches of 1000\n"
     ]
    },
    {
     "name": "stderr",
     "output_type": "stream",
     "text": [
      "2025-04-22 20:04:41,564 - INFO - Processed 6010000/6416827 records\n"
     ]
    },
    {
     "name": "stderr",
     "output_type": "stream",
     "text": [
      "2025-04-22 20:04:41,584 - INFO - Starting to upsert 0 records in batches of 1000\n"
     ]
    },
    {
     "name": "stderr",
     "output_type": "stream",
     "text": [
      "2025-04-22 20:04:41,585 - INFO - Processed 6020000/6416827 records\n"
     ]
    },
    {
     "name": "stderr",
     "output_type": "stream",
     "text": [
      "2025-04-22 20:04:41,598 - INFO - Starting to upsert 0 records in batches of 1000\n"
     ]
    },
    {
     "name": "stderr",
     "output_type": "stream",
     "text": [
      "2025-04-22 20:04:41,599 - INFO - Processed 6030000/6416827 records\n"
     ]
    },
    {
     "name": "stderr",
     "output_type": "stream",
     "text": [
      "2025-04-22 20:04:41,611 - INFO - Starting to upsert 0 records in batches of 1000\n"
     ]
    },
    {
     "name": "stderr",
     "output_type": "stream",
     "text": [
      "2025-04-22 20:04:41,612 - INFO - Processed 6040000/6416827 records\n"
     ]
    },
    {
     "name": "stderr",
     "output_type": "stream",
     "text": [
      "2025-04-22 20:04:41,623 - INFO - Starting to upsert 0 records in batches of 1000\n"
     ]
    },
    {
     "name": "stderr",
     "output_type": "stream",
     "text": [
      "2025-04-22 20:04:41,624 - INFO - Processed 6050000/6416827 records\n"
     ]
    },
    {
     "name": "stderr",
     "output_type": "stream",
     "text": [
      "2025-04-22 20:04:41,634 - INFO - Starting to upsert 0 records in batches of 1000\n"
     ]
    },
    {
     "name": "stderr",
     "output_type": "stream",
     "text": [
      "2025-04-22 20:04:41,635 - INFO - Processed 6060000/6416827 records\n"
     ]
    },
    {
     "name": "stderr",
     "output_type": "stream",
     "text": [
      "2025-04-22 20:04:41,646 - INFO - Starting to upsert 0 records in batches of 1000\n"
     ]
    },
    {
     "name": "stderr",
     "output_type": "stream",
     "text": [
      "2025-04-22 20:04:41,647 - INFO - Processed 6070000/6416827 records\n"
     ]
    },
    {
     "name": "stderr",
     "output_type": "stream",
     "text": [
      "2025-04-22 20:04:41,657 - INFO - Starting to upsert 0 records in batches of 1000\n"
     ]
    },
    {
     "name": "stderr",
     "output_type": "stream",
     "text": [
      "2025-04-22 20:04:41,658 - INFO - Processed 6080000/6416827 records\n"
     ]
    },
    {
     "name": "stderr",
     "output_type": "stream",
     "text": [
      "2025-04-22 20:04:41,668 - INFO - Starting to upsert 0 records in batches of 1000\n"
     ]
    },
    {
     "name": "stderr",
     "output_type": "stream",
     "text": [
      "2025-04-22 20:04:41,668 - INFO - Processed 6090000/6416827 records\n"
     ]
    },
    {
     "name": "stderr",
     "output_type": "stream",
     "text": [
      "2025-04-22 20:04:41,678 - INFO - Starting to upsert 0 records in batches of 1000\n"
     ]
    },
    {
     "name": "stderr",
     "output_type": "stream",
     "text": [
      "2025-04-22 20:04:41,679 - INFO - Processed 6100000/6416827 records\n"
     ]
    },
    {
     "name": "stderr",
     "output_type": "stream",
     "text": [
      "2025-04-22 20:04:41,688 - INFO - Starting to upsert 0 records in batches of 1000\n"
     ]
    },
    {
     "name": "stderr",
     "output_type": "stream",
     "text": [
      "2025-04-22 20:04:41,689 - INFO - Processed 6110000/6416827 records\n"
     ]
    },
    {
     "name": "stderr",
     "output_type": "stream",
     "text": [
      "2025-04-22 20:04:41,699 - INFO - Starting to upsert 0 records in batches of 1000\n"
     ]
    },
    {
     "name": "stderr",
     "output_type": "stream",
     "text": [
      "2025-04-22 20:04:41,700 - INFO - Processed 6120000/6416827 records\n"
     ]
    },
    {
     "name": "stderr",
     "output_type": "stream",
     "text": [
      "2025-04-22 20:04:41,709 - INFO - Starting to upsert 0 records in batches of 1000\n"
     ]
    },
    {
     "name": "stderr",
     "output_type": "stream",
     "text": [
      "2025-04-22 20:04:41,710 - INFO - Processed 6130000/6416827 records\n"
     ]
    },
    {
     "name": "stderr",
     "output_type": "stream",
     "text": [
      "2025-04-22 20:04:41,720 - INFO - Starting to upsert 0 records in batches of 1000\n"
     ]
    },
    {
     "name": "stderr",
     "output_type": "stream",
     "text": [
      "2025-04-22 20:04:41,721 - INFO - Processed 6140000/6416827 records\n"
     ]
    },
    {
     "name": "stderr",
     "output_type": "stream",
     "text": [
      "2025-04-22 20:04:41,731 - INFO - Starting to upsert 0 records in batches of 1000\n"
     ]
    },
    {
     "name": "stderr",
     "output_type": "stream",
     "text": [
      "2025-04-22 20:04:41,732 - INFO - Processed 6150000/6416827 records\n"
     ]
    },
    {
     "name": "stderr",
     "output_type": "stream",
     "text": [
      "2025-04-22 20:04:41,795 - INFO - Starting to upsert 0 records in batches of 1000\n"
     ]
    },
    {
     "name": "stderr",
     "output_type": "stream",
     "text": [
      "2025-04-22 20:04:41,795 - INFO - Processed 6160000/6416827 records\n"
     ]
    },
    {
     "name": "stderr",
     "output_type": "stream",
     "text": [
      "2025-04-22 20:04:41,805 - INFO - Starting to upsert 0 records in batches of 1000\n"
     ]
    },
    {
     "name": "stderr",
     "output_type": "stream",
     "text": [
      "2025-04-22 20:04:41,806 - INFO - Processed 6170000/6416827 records\n"
     ]
    },
    {
     "name": "stderr",
     "output_type": "stream",
     "text": [
      "2025-04-22 20:04:41,816 - INFO - Starting to upsert 0 records in batches of 1000\n"
     ]
    },
    {
     "name": "stderr",
     "output_type": "stream",
     "text": [
      "2025-04-22 20:04:41,817 - INFO - Processed 6180000/6416827 records\n"
     ]
    },
    {
     "name": "stderr",
     "output_type": "stream",
     "text": [
      "2025-04-22 20:04:41,828 - INFO - Starting to upsert 0 records in batches of 1000\n"
     ]
    },
    {
     "name": "stderr",
     "output_type": "stream",
     "text": [
      "2025-04-22 20:04:41,828 - INFO - Processed 6190000/6416827 records\n"
     ]
    },
    {
     "name": "stderr",
     "output_type": "stream",
     "text": [
      "2025-04-22 20:04:41,839 - INFO - Starting to upsert 0 records in batches of 1000\n"
     ]
    },
    {
     "name": "stderr",
     "output_type": "stream",
     "text": [
      "2025-04-22 20:04:41,840 - INFO - Processed 6200000/6416827 records\n"
     ]
    },
    {
     "name": "stderr",
     "output_type": "stream",
     "text": [
      "2025-04-22 20:04:41,850 - INFO - Starting to upsert 0 records in batches of 1000\n"
     ]
    },
    {
     "name": "stderr",
     "output_type": "stream",
     "text": [
      "2025-04-22 20:04:41,850 - INFO - Processed 6210000/6416827 records\n"
     ]
    },
    {
     "name": "stderr",
     "output_type": "stream",
     "text": [
      "2025-04-22 20:04:41,861 - INFO - Starting to upsert 0 records in batches of 1000\n"
     ]
    },
    {
     "name": "stderr",
     "output_type": "stream",
     "text": [
      "2025-04-22 20:04:41,861 - INFO - Processed 6220000/6416827 records\n"
     ]
    },
    {
     "name": "stderr",
     "output_type": "stream",
     "text": [
      "2025-04-22 20:04:41,873 - INFO - Starting to upsert 0 records in batches of 1000\n"
     ]
    },
    {
     "name": "stderr",
     "output_type": "stream",
     "text": [
      "2025-04-22 20:04:41,873 - INFO - Processed 6230000/6416827 records\n"
     ]
    },
    {
     "name": "stderr",
     "output_type": "stream",
     "text": [
      "2025-04-22 20:04:41,884 - INFO - Starting to upsert 0 records in batches of 1000\n"
     ]
    },
    {
     "name": "stderr",
     "output_type": "stream",
     "text": [
      "2025-04-22 20:04:41,885 - INFO - Processed 6240000/6416827 records\n"
     ]
    },
    {
     "name": "stderr",
     "output_type": "stream",
     "text": [
      "2025-04-22 20:04:41,897 - INFO - Starting to upsert 0 records in batches of 1000\n"
     ]
    },
    {
     "name": "stderr",
     "output_type": "stream",
     "text": [
      "2025-04-22 20:04:41,898 - INFO - Processed 6250000/6416827 records\n"
     ]
    },
    {
     "name": "stderr",
     "output_type": "stream",
     "text": [
      "2025-04-22 20:04:41,910 - INFO - Starting to upsert 0 records in batches of 1000\n"
     ]
    },
    {
     "name": "stderr",
     "output_type": "stream",
     "text": [
      "2025-04-22 20:04:41,911 - INFO - Processed 6260000/6416827 records\n"
     ]
    },
    {
     "name": "stderr",
     "output_type": "stream",
     "text": [
      "2025-04-22 20:04:41,924 - INFO - Starting to upsert 0 records in batches of 1000\n"
     ]
    },
    {
     "name": "stderr",
     "output_type": "stream",
     "text": [
      "2025-04-22 20:04:41,925 - INFO - Processed 6270000/6416827 records\n"
     ]
    },
    {
     "name": "stderr",
     "output_type": "stream",
     "text": [
      "2025-04-22 20:04:41,936 - INFO - Starting to upsert 0 records in batches of 1000\n"
     ]
    },
    {
     "name": "stderr",
     "output_type": "stream",
     "text": [
      "2025-04-22 20:04:41,937 - INFO - Processed 6280000/6416827 records\n"
     ]
    },
    {
     "name": "stderr",
     "output_type": "stream",
     "text": [
      "2025-04-22 20:04:41,950 - INFO - Starting to upsert 0 records in batches of 1000\n"
     ]
    },
    {
     "name": "stderr",
     "output_type": "stream",
     "text": [
      "2025-04-22 20:04:41,950 - INFO - Processed 6290000/6416827 records\n"
     ]
    },
    {
     "name": "stderr",
     "output_type": "stream",
     "text": [
      "2025-04-22 20:04:41,961 - INFO - Starting to upsert 0 records in batches of 1000\n"
     ]
    },
    {
     "name": "stderr",
     "output_type": "stream",
     "text": [
      "2025-04-22 20:04:41,962 - INFO - Processed 6300000/6416827 records\n"
     ]
    },
    {
     "name": "stderr",
     "output_type": "stream",
     "text": [
      "2025-04-22 20:04:41,973 - INFO - Starting to upsert 0 records in batches of 1000\n"
     ]
    },
    {
     "name": "stderr",
     "output_type": "stream",
     "text": [
      "2025-04-22 20:04:41,974 - INFO - Processed 6310000/6416827 records\n"
     ]
    },
    {
     "name": "stderr",
     "output_type": "stream",
     "text": [
      "2025-04-22 20:04:41,984 - INFO - Starting to upsert 0 records in batches of 1000\n"
     ]
    },
    {
     "name": "stderr",
     "output_type": "stream",
     "text": [
      "2025-04-22 20:04:41,985 - INFO - Processed 6320000/6416827 records\n"
     ]
    },
    {
     "name": "stderr",
     "output_type": "stream",
     "text": [
      "2025-04-22 20:04:41,995 - INFO - Starting to upsert 0 records in batches of 1000\n"
     ]
    },
    {
     "name": "stderr",
     "output_type": "stream",
     "text": [
      "2025-04-22 20:04:41,996 - INFO - Processed 6330000/6416827 records\n"
     ]
    },
    {
     "name": "stderr",
     "output_type": "stream",
     "text": [
      "2025-04-22 20:04:42,005 - INFO - Starting to upsert 0 records in batches of 1000\n"
     ]
    },
    {
     "name": "stderr",
     "output_type": "stream",
     "text": [
      "2025-04-22 20:04:42,006 - INFO - Processed 6340000/6416827 records\n"
     ]
    },
    {
     "name": "stderr",
     "output_type": "stream",
     "text": [
      "2025-04-22 20:04:42,017 - INFO - Starting to upsert 0 records in batches of 1000\n"
     ]
    },
    {
     "name": "stderr",
     "output_type": "stream",
     "text": [
      "2025-04-22 20:04:42,018 - INFO - Processed 6350000/6416827 records\n"
     ]
    },
    {
     "name": "stderr",
     "output_type": "stream",
     "text": [
      "2025-04-22 20:04:42,028 - INFO - Starting to upsert 0 records in batches of 1000\n"
     ]
    },
    {
     "name": "stderr",
     "output_type": "stream",
     "text": [
      "2025-04-22 20:04:42,029 - INFO - Processed 6360000/6416827 records\n"
     ]
    },
    {
     "name": "stderr",
     "output_type": "stream",
     "text": [
      "2025-04-22 20:04:42,038 - INFO - Starting to upsert 0 records in batches of 1000\n"
     ]
    },
    {
     "name": "stderr",
     "output_type": "stream",
     "text": [
      "2025-04-22 20:04:42,039 - INFO - Processed 6370000/6416827 records\n"
     ]
    },
    {
     "name": "stderr",
     "output_type": "stream",
     "text": [
      "2025-04-22 20:04:42,049 - INFO - Starting to upsert 0 records in batches of 1000\n"
     ]
    },
    {
     "name": "stderr",
     "output_type": "stream",
     "text": [
      "2025-04-22 20:04:42,049 - INFO - Processed 6380000/6416827 records\n"
     ]
    },
    {
     "name": "stderr",
     "output_type": "stream",
     "text": [
      "2025-04-22 20:04:42,061 - INFO - Starting to upsert 0 records in batches of 1000\n"
     ]
    },
    {
     "name": "stderr",
     "output_type": "stream",
     "text": [
      "2025-04-22 20:04:42,061 - INFO - Processed 6390000/6416827 records\n"
     ]
    },
    {
     "name": "stderr",
     "output_type": "stream",
     "text": [
      "2025-04-22 20:04:42,071 - INFO - Starting to upsert 0 records in batches of 1000\n"
     ]
    },
    {
     "name": "stderr",
     "output_type": "stream",
     "text": [
      "2025-04-22 20:04:42,072 - INFO - Processed 6400000/6416827 records\n"
     ]
    },
    {
     "name": "stderr",
     "output_type": "stream",
     "text": [
      "2025-04-22 20:04:42,082 - INFO - Starting to upsert 0 records in batches of 1000\n"
     ]
    },
    {
     "name": "stderr",
     "output_type": "stream",
     "text": [
      "2025-04-22 20:04:42,083 - INFO - Processed 6410000/6416827 records\n"
     ]
    },
    {
     "name": "stderr",
     "output_type": "stream",
     "text": [
      "2025-04-22 20:04:42,093 - INFO - Starting to upsert 0 records in batches of 1000\n"
     ]
    },
    {
     "name": "stderr",
     "output_type": "stream",
     "text": [
      "2025-04-22 20:04:42,094 - INFO - Processed 6416827/6416827 records\n"
     ]
    },
    {
     "name": "stderr",
     "output_type": "stream",
     "text": [
      "2025-04-22 20:04:42,094 - INFO - Completed transactions.csv in 0:00:13.957217\n"
     ]
    },
    {
     "name": "stderr",
     "output_type": "stream",
     "text": [
      "2025-04-22 20:04:42,095 - INFO - Data load completed successfully\n"
     ]
    },
    {
     "name": "stderr",
     "output_type": "stream",
     "text": [
      "2025-04-22 20:04:42,414 - INFO - Process completed in 0:00:41.900461\n"
     ]
    }
   ],
   "source": [
    "import os\n",
    "import logging\n",
    "import pandas as pd\n",
    "from dotenv import load_dotenv\n",
    "from datetime import datetime\n",
    "from sqlalchemy import create_engine, Column, Integer, String, Float, Date, DateTime, Boolean, ForeignKey, Text, text\n",
    "from sqlalchemy.orm import declarative_base, sessionmaker, relationship\n",
    "from sqlalchemy.exc import SQLAlchemyError\n",
    "from pyspark.sql import SparkSession\n",
    "from pyspark.sql.functions import col, when, to_date, lit\n",
    "from pyspark.sql.types import StructType, StructField, StringType, IntegerType, FloatType, DateType, BooleanType\n",
    "\n",
    "# Configure logging\n",
    "logging.basicConfig(\n",
    "    level=logging.INFO,\n",
    "    format='%(asctime)s - %(levelname)s - %(message)s',\n",
    "    handlers=[\n",
    "        logging.FileHandler('data_loader.log', encoding='utf-8'),\n",
    "        logging.StreamHandler()\n",
    "    ]\n",
    ")\n",
    "logger = logging.getLogger(__name__)\n",
    "\n",
    "# Initialize Spark with Hadoop workaround for Windows\n",
    "def create_spark_session():\n",
    "    \"\"\"Create and configure Spark session\"\"\"\n",
    "    try:\n",
    "        # Set Hadoop home directory if on Windows\n",
    "        if os.name == 'nt':\n",
    "            os.environ['HADOOP_HOME'] = 'C:\\\\hadoop'  # Update this path if needed\n",
    "            os.environ['PATH'] = os.environ['PATH'] + ';' + os.environ['HADOOP_HOME'] + '\\\\bin'\n",
    "        \n",
    "        # Create temp directory if it doesn't exist\n",
    "        temp_dir = \"/home/megin_mathew/spark_temp\"\n",
    "        if not os.path.exists(temp_dir):\n",
    "            os.makedirs(temp_dir)\n",
    "            \n",
    "        return SparkSession.builder \\\n",
    "            .appName(\"GlobalFashionRetailDataLoader\") \\\n",
    "            .config(\"spark.local.dir\", temp_dir) \\\n",
    "            .config(\"spark.sql.legacy.timeParserPolicy\", \"LEGACY\") \\\n",
    "            .config(\"spark.executor.memory\", \"8g\") \\\n",
    "            .config(\"spark.driver.memory\", \"8g\") \\\n",
    "            .config(\"spark.memory.offHeap.enabled\", \"false\") \\\n",
    "            .config(\"spark.sql.shuffle.partitions\", \"200\") \\\n",
    "            .config(\"spark.default.parallelism\", \"200\") \\\n",
    "            .config(\"spark.sql.adaptive.enabled\", \"true\") \\\n",
    "            .config(\"spark.network.timeout\", \"600s\") \\\n",
    "            .config(\"spark.executor.heartbeatInterval\", \"60s\") \\\n",
    "            .getOrCreate()\n",
    "    except Exception as e:\n",
    "        logger.error(f\"Failed to create Spark session: {str(e)}\")\n",
    "        raise\n",
    "\n",
    "# Initialize Spark\n",
    "spark = create_spark_session()\n",
    "\n",
    "# Load environment variables\n",
    "load_dotenv()\n",
    "\n",
    "# Database schema definition\n",
    "Base = declarative_base()\n",
    "SCHEMA_NAME = \"GFRetail\"\n",
    "\n",
    "class Store(Base):\n",
    "    __tablename__ = 'stores'\n",
    "    __table_args__ = {'schema': SCHEMA_NAME}\n",
    "    store_id = Column(Integer, primary_key=True)\n",
    "    country = Column(String(100), nullable=True)\n",
    "    city = Column(String(100), nullable=True)\n",
    "    store_name = Column(String(100))\n",
    "    number_of_employees = Column(Integer)\n",
    "    zip_code = Column(String(20))\n",
    "    latitude = Column(Float, nullable=True)\n",
    "    longitude = Column(Float, nullable=True)\n",
    "\n",
    "class Employee(Base):\n",
    "    __tablename__ = 'employees'\n",
    "    __table_args__ = {'schema': SCHEMA_NAME}\n",
    "    employee_id = Column(Integer, primary_key=True)\n",
    "    store_id = Column(Integer, ForeignKey(f'{SCHEMA_NAME}.stores.store_id'))\n",
    "    name = Column(String(255), nullable=True)\n",
    "    position = Column(String(100), nullable=True)\n",
    "\n",
    "class Customer(Base):\n",
    "    __tablename__ = 'customers'\n",
    "    __table_args__ = {'schema': SCHEMA_NAME}\n",
    "    customer_id = Column(Integer, primary_key=True)\n",
    "    name = Column(String(255), nullable=True)\n",
    "    email = Column(String(255), nullable=True)\n",
    "    join_date = Column(Date, nullable=True)\n",
    "    telephone = Column(String(50), nullable=True)\n",
    "    city = Column(String(100), nullable=True)\n",
    "    country = Column(String(100), nullable=True)\n",
    "    gender = Column(String(20), nullable=True)\n",
    "    date_of_birth = Column(Date, nullable=True)\n",
    "    job_title = Column(String(100), nullable=True)\n",
    "\n",
    "class Product(Base):\n",
    "    __tablename__ = 'products'\n",
    "    __table_args__ = {'schema': SCHEMA_NAME}\n",
    "    product_id = Column(Integer, primary_key=True)\n",
    "    category = Column(String(100), nullable=True)\n",
    "    sub_category = Column(String(100))\n",
    "    description_pt = Column(Text)\n",
    "    description_de = Column(Text)\n",
    "    description_fr = Column(Text)\n",
    "    description_es = Column(Text)\n",
    "    description_en = Column(Text)\n",
    "    description_zh = Column(Text)\n",
    "    color = Column(String(50), nullable=True)\n",
    "    sizes = Column(String(100), nullable=True)\n",
    "    production_cost = Column(Float)\n",
    "\n",
    "class Discount(Base):\n",
    "    __tablename__ = 'discounts'\n",
    "    __table_args__ = {'schema': SCHEMA_NAME}\n",
    "    id = Column(Integer, primary_key=True, autoincrement=True)\n",
    "    start_date = Column(Date)\n",
    "    end_date = Column(Date)\n",
    "    discount_rate = Column(Float)\n",
    "    description = Column(String(255), nullable=True)\n",
    "    category = Column(String(100), nullable=True)\n",
    "    sub_category = Column(String(100))\n",
    "\n",
    "class Transaction(Base):\n",
    "    __tablename__ = 'transactions'\n",
    "    __table_args__ = {'schema': SCHEMA_NAME}\n",
    "    id = Column(Integer, primary_key=True, autoincrement=True)\n",
    "    invoice_id = Column(String(50), nullable=True)\n",
    "    line_number = Column(Integer)\n",
    "    customer_id = Column(Integer, ForeignKey(f'{SCHEMA_NAME}.customers.customer_id'))\n",
    "    product_id = Column(Integer, ForeignKey(f'{SCHEMA_NAME}.products.product_id'))\n",
    "    size = Column(String(10))\n",
    "    color = Column(String(50), nullable=True)\n",
    "    unit_price = Column(Float)\n",
    "    quantity = Column(Integer, nullable=True)\n",
    "    transaction_date = Column(DateTime)\n",
    "    discount = Column(Float, nullable=True)\n",
    "    line_total = Column(Float)\n",
    "    store_id = Column(Integer, ForeignKey(f'{SCHEMA_NAME}.stores.store_id'))\n",
    "    employee_id = Column(Integer, ForeignKey(f'{SCHEMA_NAME}.employees.employee_id'))\n",
    "    currency = Column(String(10), nullable=True)\n",
    "    currency_symbol = Column(String(5))\n",
    "    sku = Column(String(100))\n",
    "    transaction_type = Column(String(20))\n",
    "    payment_method = Column(String(50))\n",
    "    invoice_total = Column(Float)\n",
    "    is_return = Column(Boolean)\n",
    "\n",
    "# Data processing functions\n",
    "def process_stores(spark_df):\n",
    "    spark_df = spark_df.withColumn(\"country\", when(col(\"Country\").isNull(), lit(\"Unknown\")).otherwise(col(\"Country\"))) \\\n",
    "                      .withColumn(\"city\", when(col(\"City\").isNull(), lit(\"Unknown\")).otherwise(col(\"City\"))) \\\n",
    "                      .withColumn(\"latitude\", col(\"Latitude\").cast(FloatType())) \\\n",
    "                      .withColumn(\"longitude\", col(\"Longitude\").cast(FloatType()))\n",
    "    \n",
    "    return spark_df.select(\n",
    "        col(\"Store ID\").alias(\"store_id\"),\n",
    "        col(\"country\"),\n",
    "        col(\"city\"),\n",
    "        col(\"Store Name\").alias(\"store_name\"),\n",
    "        col(\"Number of Employees\").alias(\"number_of_employees\"),\n",
    "        col(\"ZIP Code\").alias(\"zip_code\"),\n",
    "        col(\"latitude\"),\n",
    "        col(\"longitude\")\n",
    "    )\n",
    "\n",
    "def process_employees(spark_df):\n",
    "    spark_df = spark_df.withColumn(\"name\", when(col(\"Name\").isNull(), lit(\"Unknown\")).otherwise(col(\"Name\"))) \\\n",
    "                      .withColumn(\"position\", when(col(\"Position\").isNull(), lit(\"Unknown\")).otherwise(col(\"Position\")))\n",
    "    \n",
    "    return spark_df.select(\n",
    "        col(\"Employee ID\").alias(\"employee_id\"),\n",
    "        col(\"Store ID\").alias(\"store_id\"),\n",
    "        col(\"name\"),\n",
    "        col(\"position\")\n",
    "    )\n",
    "\n",
    "def process_customers(spark_df):\n",
    "    spark_df = spark_df.withColumn(\"join_date\", to_date(col(\"Date Of Birth\"), \"yyyy-MM-dd\")) \\\n",
    "                      .withColumn(\"name\", when(col(\"Name\").isNull(), lit(\"Unknown\")).otherwise(col(\"Name\"))) \\\n",
    "                      .withColumn(\"email\", when(col(\"Email\").isNull(), lit(\"unknown@example.com\")).otherwise(col(\"Email\")))\n",
    "    \n",
    "    return spark_df.select(\n",
    "        col(\"Customer ID\").alias(\"customer_id\"),\n",
    "        col(\"name\"),\n",
    "        col(\"email\"),\n",
    "        col(\"join_date\"),\n",
    "        col(\"Telephone\").alias(\"telephone\"),\n",
    "        col(\"City\").alias(\"city\"),\n",
    "        col(\"Country\").alias(\"country\"),\n",
    "        col(\"Gender\").alias(\"gender\"),\n",
    "        to_date(col(\"Date Of Birth\"), \"yyyy-MM-dd\").alias(\"date_of_birth\"),\n",
    "        col(\"Job Title\").alias(\"job_title\")\n",
    "    )\n",
    "\n",
    "def process_products(spark_df):\n",
    "    spark_df = spark_df.withColumn(\"category\", when(col(\"Category\").isNull(), lit(\"Unknown\")).otherwise(col(\"Category\"))) \\\n",
    "                      .withColumn(\"color\", when(col(\"Color\").isNull(), lit(\"Unknown\")).otherwise(col(\"Color\"))) \\\n",
    "                      .withColumn(\"sizes\", when(col(\"Sizes\").isNull(), lit(\"Unknown\")).otherwise(col(\"Sizes\")))\n",
    "    \n",
    "    return spark_df.select(\n",
    "        col(\"Product ID\").alias(\"product_id\"),\n",
    "        col(\"category\"),\n",
    "        col(\"Sub Category\").alias(\"sub_category\"),\n",
    "        col(\"Description PT\").alias(\"description_pt\"),\n",
    "        col(\"Description DE\").alias(\"description_de\"),\n",
    "        col(\"Description FR\").alias(\"description_fr\"),\n",
    "        col(\"Description ES\").alias(\"description_es\"),\n",
    "        col(\"Description EN\").alias(\"description_en\"),\n",
    "        col(\"Description ZH\").alias(\"description_zh\"),\n",
    "        col(\"color\"),\n",
    "        col(\"sizes\"),\n",
    "        col(\"Production Cost\").alias(\"production_cost\")\n",
    "    )\n",
    "\n",
    "def process_discounts(spark_df):\n",
    "    spark_df = spark_df.withColumn(\"description\", when(col(\"Description\").isNull(), lit(\"No description\")).otherwise(col(\"Description\"))) \\\n",
    "                      .withColumn(\"category\", when(col(\"Category\").isNull(), lit(\"General\")).otherwise(col(\"Category\")))\n",
    "    \n",
    "    return spark_df.select(\n",
    "        to_date(col(\"Start\"), \"yyyy-MM-dd\").alias(\"start_date\"),\n",
    "        to_date(col(\"End\"), \"yyyy-MM-dd\").alias(\"end_date\"),\n",
    "        col(\"Discont\").alias(\"discount_rate\"),\n",
    "        col(\"description\"),\n",
    "        col(\"category\"),\n",
    "        col(\"Sub Category\").alias(\"sub_category\")\n",
    "    )\n",
    "\n",
    "def process_transactions(spark_df):\n",
    "    spark_df = spark_df.withColumn(\"invoice_id\", when(col(\"Invoice ID\").isNull(), lit(\"UNKNOWN\")).otherwise(col(\"Invoice ID\"))) \\\n",
    "                      .withColumn(\"quantity\", when(col(\"Quantity\").isNull(), lit(1)).otherwise(col(\"Quantity\"))) \\\n",
    "                      .withColumn(\"color\", when(col(\"Color\").isNull(), lit(\"Unknown\")).otherwise(col(\"Color\"))) \\\n",
    "                      .withColumn(\"discount\", when(col(\"Discount\").isNull(), lit(0.0)).otherwise(col(\"Discount\"))) \\\n",
    "                      .withColumn(\"currency\", when(col(\"Currency\").isNull(), lit(\"USD\")).otherwise(col(\"Currency\"))) \\\n",
    "                      .withColumn(\"is_return\", col(\"Transaction Type\") == \"Return\")\n",
    "    \n",
    "    return spark_df.select(\n",
    "        col(\"invoice_id\"),\n",
    "        col(\"Line\").alias(\"line_number\"),\n",
    "        col(\"Customer ID\").alias(\"customer_id\"),\n",
    "        col(\"Product ID\").alias(\"product_id\"),\n",
    "        col(\"Size\").alias(\"size\"),\n",
    "        col(\"color\"),\n",
    "        col(\"Unit Price\").alias(\"unit_price\"),\n",
    "        col(\"quantity\"),\n",
    "        col(\"Date\").alias(\"transaction_date\"),\n",
    "        col(\"discount\"),\n",
    "        col(\"Line Total\").alias(\"line_total\"),\n",
    "        col(\"Store ID\").alias(\"store_id\"),\n",
    "        col(\"Employee ID\").alias(\"employee_id\"),\n",
    "        col(\"currency\"),\n",
    "        col(\"Currency Symbol\").alias(\"currency_symbol\"),\n",
    "        col(\"SKU\").alias(\"sku\"),\n",
    "        col(\"Transaction Type\").alias(\"transaction_type\"),\n",
    "        col(\"Payment Method\").alias(\"payment_method\"),\n",
    "        col(\"Invoice Total\").alias(\"invoice_total\"),\n",
    "        col(\"is_return\")\n",
    "    )\n",
    "\n",
    "def setup_database(engine):\n",
    "    \"\"\"Create schema and set permissions if needed\"\"\"\n",
    "    try:\n",
    "        with engine.begin() as conn:\n",
    "            schema_exists = conn.execute(\n",
    "                text(\"SELECT 1 FROM information_schema.schemata WHERE schema_name = :schema\"),\n",
    "                {'schema': SCHEMA_NAME}\n",
    "            ).scalar()\n",
    "            \n",
    "            if not schema_exists:\n",
    "                logger.info(f\"Creating schema {SCHEMA_NAME}\")\n",
    "                conn.execute(text(f\"CREATE SCHEMA {SCHEMA_NAME}\"))\n",
    "                conn.execute(text(f\"\"\"\n",
    "                    GRANT ALL ON SCHEMA {SCHEMA_NAME} TO {os.getenv('DB_USER', 'postgres')};\n",
    "                    ALTER DEFAULT PRIVILEGES IN SCHEMA {SCHEMA_NAME} \n",
    "                    GRANT ALL ON TABLES TO {os.getenv('DB_USER', 'postgres')};\n",
    "                \"\"\"))\n",
    "                \n",
    "            return True\n",
    "    except Exception as e:\n",
    "        logger.error(f\"Database setup failed: {str(e)}\")\n",
    "        return False\n",
    "\n",
    "def upsert_data(session, table_class, records, primary_key, batch_size=1000):\n",
    "    \"\"\"Upsert data into the database with batch processing\"\"\"\n",
    "    try:\n",
    "        total_records = len(records)\n",
    "        logger.info(f\"Starting to upsert {total_records} records in batches of {batch_size}\")\n",
    "        \n",
    "        for i in range(0, total_records, batch_size):\n",
    "            batch = records[i:i + batch_size]\n",
    "            batch_num = (i // batch_size) + 1\n",
    "            total_batches = (total_records - 1) // batch_size + 1\n",
    "            \n",
    "            try:\n",
    "                session.bulk_insert_mappings(table_class, batch)\n",
    "                session.commit()\n",
    "                logger.info(f\"Successfully inserted batch {batch_num}/{total_batches}\")\n",
    "            except Exception as e:\n",
    "                session.rollback()\n",
    "                logger.info(f\"Insert failed for batch {batch_num}, switching to upsert mode\")\n",
    "                \n",
    "                for record in batch:\n",
    "                    try:\n",
    "                        existing = session.query(table_class).filter(\n",
    "                            getattr(table_class, primary_key) == record[primary_key]\n",
    "                        ).first()\n",
    "                        \n",
    "                        if existing:\n",
    "                            for key, value in record.items():\n",
    "                                setattr(existing, key, value)\n",
    "                        else:\n",
    "                            new_record = table_class(**record)\n",
    "                            session.add(new_record)\n",
    "                    except Exception as rec_error:\n",
    "                        logger.error(f\"Error processing record {record[primary_key]}: {str(rec_error)}\")\n",
    "                        continue\n",
    "                \n",
    "                try:\n",
    "                    session.commit()\n",
    "                    logger.info(f\"Successfully upserted batch {batch_num}/{total_batches}\")\n",
    "                except Exception as commit_error:\n",
    "                    session.rollback()\n",
    "                    logger.error(f\"Failed to commit batch {batch_num}: {str(commit_error)}\")\n",
    "                    continue\n",
    "                \n",
    "    except Exception as e:\n",
    "        session.rollback()\n",
    "        logger.error(f\"Error in upsert_data: {str(e)}\")\n",
    "        raise\n",
    "\n",
    "def write_spark_df_to_postgres(spark_df, table_name, engine):\n",
    "    \"\"\"Write Spark DataFrame to PostgreSQL with optimized methods\"\"\"\n",
    "    try:\n",
    "        table_class = globals()[table_name.capitalize()]\n",
    "        primary_key = {\n",
    "            'store': 'store_id',\n",
    "            'employee': 'employee_id',\n",
    "            'customer': 'customer_id',\n",
    "            'product': 'product_id',\n",
    "            'discount': 'id',\n",
    "            'transaction': 'id'\n",
    "        }.get(table_name)\n",
    "        \n",
    "        if not primary_key:\n",
    "            logger.error(f\"Primary key not defined for table {table_name}\")\n",
    "            return\n",
    "            \n",
    "        total_rows = spark_df.count()\n",
    "        logger.info(f\"Processing {total_rows} records for table {table_name}\")\n",
    "        \n",
    "        # For small tables, use direct conversion\n",
    "        if total_rows <= 10000:\n",
    "            logger.info(f\"Processing small {table_name} table with direct conversion\")\n",
    "            pandas_df = spark_df.toPandas()\n",
    "            records = pandas_df.to_dict('records')\n",
    "            \n",
    "            Session = sessionmaker(bind=engine)\n",
    "            session = Session()\n",
    "            try:\n",
    "                upsert_data(session, table_class, records, primary_key)\n",
    "                logger.info(f\"Successfully processed {len(records)} records to {table_name}\")\n",
    "            finally:\n",
    "                session.close()\n",
    "            return\n",
    "        \n",
    "        # For larger tables, process in chunks\n",
    "        chunk_size = 10000\n",
    "        for offset in range(0, total_rows, chunk_size):\n",
    "            chunk_df = spark_df.limit(chunk_size).offset(offset)\n",
    "            pandas_df = chunk_df.toPandas()\n",
    "            records = pandas_df.to_dict('records')\n",
    "            \n",
    "            Session = sessionmaker(bind=engine)\n",
    "            session = Session()\n",
    "            try:\n",
    "                upsert_data(session, table_class, records, primary_key)\n",
    "                logger.info(f\"Processed {min(offset+chunk_size, total_rows)}/{total_rows} records\")\n",
    "            finally:\n",
    "                session.close()\n",
    "                \n",
    "    except Exception as e:\n",
    "        logger.error(f\"Error writing to {table_name}: {str(e)}\", exc_info=True)\n",
    "        raise\n",
    "\n",
    "def load_data_to_postgres():\n",
    "    \"\"\"Main function to load data to PostgreSQL\"\"\"\n",
    "    #DB_USER = os.getenv('DB_USER', 'postgres')\n",
    "    #DB_PASSWORD = os.getenv('DB_PASSWORD', 'Grandvalley_2026')\n",
    "    #DB_HOST = os.getenv('DB_HOST', 'localhost')\n",
    "    #DB_PORT = os.getenv('DB_PORT', '5432')\n",
    "    #DB_NAME = os.getenv('DB_NAME', 'Global_Fashion_Retail_Stores')\n",
    "    #DATASET_PATH = os.getenv('DATASET_PATH', 'C:/Users/megin/fashion_dataset')\n",
    "    DB_USER = os.getenv('DB_USER')\n",
    "    DB_PASSWORD = os.getenv('DB_PASSWORD')\n",
    "    DB_HOST = os.getenv('DB_HOST')\n",
    "    DB_PORT = os.getenv('DB_PORT')\n",
    "    DB_NAME = os.getenv('DB_NAME')\n",
    "    DATASET_PATH = os.getenv('DATASET_PATH')\n",
    "\n",
    "    required_vars = {\n",
    "    'DB_USER': DB_USER,\n",
    "    'DB_PASSWORD': DB_PASSWORD,\n",
    "    'DB_HOST': DB_HOST,\n",
    "    'DB_NAME': DB_NAME,\n",
    "    'DATASET_PATH': DATASET_PATH\n",
    "    }\n",
    "    \n",
    "    for var_name, var_value in required_vars.items():\n",
    "        if not var_value:\n",
    "            raise ValueError(f\"Missing required environment variable: {var_name}\")\n",
    "    \n",
    "    # Set default for PORT only (since it often doesn't change)\n",
    "    DB_PORT = DB_PORT if DB_PORT else '5432'\n",
    "    try:\n",
    "        engine = create_engine(\n",
    "            f'postgresql+psycopg2://{DB_USER}:{DB_PASSWORD}@{DB_HOST}:{DB_PORT}/{DB_NAME}',\n",
    "            pool_size=20,\n",
    "            max_overflow=30,\n",
    "            pool_pre_ping=True,\n",
    "            pool_recycle=3600,\n",
    "            connect_args={'connect_timeout': 10}\n",
    "        )\n",
    "        \n",
    "        if not setup_database(engine):\n",
    "            raise RuntimeError(\"Database setup failed\")\n",
    "        \n",
    "        Base.metadata.create_all(engine)\n",
    "        \n",
    "        file_processors = [\n",
    "            ('stores.csv', process_stores, 'store'),\n",
    "            ('employees.csv', process_employees, 'employee'),\n",
    "            ('products.csv', process_products, 'product'),\n",
    "            ('discounts.csv', process_discounts, 'discount'),\n",
    "            ('customers.csv', process_customers, 'customer'),\n",
    "            ('transactions.csv', process_transactions, 'transaction')\n",
    "        ]\n",
    "        \n",
    "        for file_name, processor, table_name in file_processors:\n",
    "            file_path = os.path.join(DATASET_PATH, file_name)\n",
    "            if os.path.exists(file_path):\n",
    "                logger.info(f\"Processing {file_name}...\")\n",
    "                start_time = datetime.now()\n",
    "                \n",
    "                try:\n",
    "                    if file_name in ['customers.csv', 'transactions.csv']:\n",
    "                        sample_df = spark.read.csv(file_path, header=True, inferSchema=True, samplingRatio=0.1)\n",
    "                        schema = sample_df.schema\n",
    "                        spark_df = spark.read.csv(file_path, header=True, schema=schema)\n",
    "                    else:\n",
    "                        spark_df = spark.read.csv(file_path, header=True, inferSchema=True)\n",
    "                    \n",
    "                    processed_df = processor(spark_df)\n",
    "                    logger.info(f\"Processed DataFrame schema: {processed_df._jdf.schema().treeString()}\")\n",
    "                    \n",
    "                    write_spark_df_to_postgres(processed_df, table_name, engine)\n",
    "                    \n",
    "                    logger.info(f\"Completed {file_name} in {datetime.now() - start_time}\")\n",
    "                except Exception as e:\n",
    "                    logger.error(f\"Error processing {file_name}: {str(e)}\", exc_info=True)\n",
    "                    \n",
    "                    if file_name == 'products.csv':\n",
    "                        logger.info(\"Attempting alternative approach for products.csv\")\n",
    "                        try:\n",
    "                            products_pd = pd.read_csv(file_path)\n",
    "                            products_spark = spark.createDataFrame(products_pd)\n",
    "                            processed_df = processor(products_spark)\n",
    "                            write_spark_df_to_postgres(processed_df, table_name, engine)\n",
    "                            logger.info(f\"Successfully processed products.csv with alternative approach\")\n",
    "                        except Exception as alt_e:\n",
    "                            logger.error(f\"Alternative approach also failed: {str(alt_e)}\")\n",
    "                            raise\n",
    "                    else:\n",
    "                        raise\n",
    "            else:\n",
    "                logger.warning(f\"File not found: {file_path}\")\n",
    "        \n",
    "        logger.info(\"Data load completed successfully\")\n",
    "        \n",
    "    except Exception as e:\n",
    "        logger.error(f\"Database error: {str(e)}\", exc_info=True)\n",
    "        raise\n",
    "    finally:\n",
    "        engine.dispose()\n",
    "        spark.stop()\n",
    "\n",
    "if __name__ == \"__main__\":\n",
    "    try:\n",
    "        logger.info(\"Starting data load process...\")\n",
    "        start_time = datetime.now()\n",
    "        load_data_to_postgres()\n",
    "        logger.info(f\"Process completed in {datetime.now() - start_time}\")\n",
    "    except Exception as e:\n",
    "        logger.error(f\"Fatal error: {str(e)}\", exc_info=True)\n",
    "        exit(1)"
   ]
  },
  {
   "cell_type": "code",
   "execution_count": null,
   "id": "b1df72ed-687e-495d-88a1-2458e5ba3892",
   "metadata": {
    "papermill": {
     "duration": 0.040994,
     "end_time": "2025-04-23T00:04:42.507460",
     "exception": false,
     "start_time": "2025-04-23T00:04:42.466466",
     "status": "completed"
    },
    "tags": []
   },
   "outputs": [],
   "source": []
  }
 ],
 "metadata": {
  "kernelspec": {
   "display_name": "Python 3 (ipykernel)",
   "language": "python",
   "name": "python3"
  },
  "language_info": {
   "codemirror_mode": {
    "name": "ipython",
    "version": 3
   },
   "file_extension": ".py",
   "mimetype": "text/x-python",
   "name": "python",
   "nbconvert_exporter": "python",
   "pygments_lexer": "ipython3",
   "version": "3.12.3"
  },
  "papermill": {
   "default_parameters": {},
   "duration": 113.251368,
   "end_time": "2025-04-23T00:04:45.180383",
   "environment_variables": {},
   "exception": null,
   "input_path": "/home/megin_mathew/airflow/notebooks/Fashion_Data_Pipeline.ipynb",
   "output_path": "/home/megin_mathew/airflow/notebook_outputs/Fashion_Data_Pipeline-output-2025-04-22.ipynb",
   "parameters": {
    "dag_run_id": "scheduled__2025-04-22T00:00:00+00:00",
    "ds": "2025-04-22",
    "ds_nodash": "20250422",
    "execution_date": "2025-04-22T00:00:00+00:00"
   },
   "start_time": "2025-04-23T00:02:51.929015",
   "version": "2.6.0"
  }
 },
 "nbformat": 4,
 "nbformat_minor": 5
}